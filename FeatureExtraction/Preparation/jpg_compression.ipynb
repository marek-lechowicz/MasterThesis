{
 "cells": [
  {
   "cell_type": "code",
   "execution_count": 2,
   "metadata": {},
   "outputs": [],
   "source": [
    "import cv2\n",
    "import os\n",
    "\n",
    "\n",
    "def convert_to_jpg(input_image_path, output_image_path, quality=95):\n",
    "    # Read the image\n",
    "    img = cv2.imread(input_image_path)\n",
    "    \n",
    "    # Define JPEG quality (1-100) (higher is better quality but larger file size)\n",
    "    encode_param = [int(cv2.IMWRITE_JPEG_QUALITY), quality]\n",
    "    \n",
    "    # Write the image in JPEG format with the specified quality\n",
    "    result, encimg = cv2.imencode('.jpg', img, encode_param)\n",
    "    \n",
    "    if result:\n",
    "        # Save the encoded image to file\n",
    "        with open(output_image_path, mode='wb') as f:\n",
    "            encimg.tofile(f)\n",
    "    else:\n",
    "        raise Exception('Could not encode image to JPG')\n",
    "    \n",
    "\n",
    "def batch_convert_to_jpg(input_folder, output_folder, quality=85, silent=False):\n",
    "    # Ensure the output folder exists\n",
    "    os.makedirs(output_folder, exist_ok=True)\n",
    "\n",
    "    # Process each file in the input folder\n",
    "    for filename in os.listdir(input_folder):\n",
    "        input_path = os.path.join(input_folder, filename)\n",
    "        output_path = os.path.join(output_folder, os.path.splitext(filename)[0] + '.jpg')\n",
    "        \n",
    "        try:\n",
    "            convert_to_jpg(input_path, output_path, quality)\n",
    "            if not silent:\n",
    "                print(f'Converted {input_path} to {output_path}')\n",
    "        except Exception as e:\n",
    "            print(f'Failed to convert {input_path}: {e}')"
   ]
  },
  {
   "cell_type": "code",
   "execution_count": 9,
   "metadata": {},
   "outputs": [],
   "source": [
    "import shutil\n",
    "import os\n",
    "\n",
    "def copy_image(src_path, dest_path, silent=False):\n",
    "    try:\n",
    "        # Check if the source file exists\n",
    "        if not os.path.isfile(src_path):\n",
    "            print(f\"The source file {src_path} does not exist.\")\n",
    "            return\n",
    "\n",
    "        # Create the destination directory if it does not exist\n",
    "        os.makedirs(os.path.dirname(dest_path), exist_ok=True)\n",
    "\n",
    "        # Copy the file\n",
    "        shutil.copy(src_path, dest_path)\n",
    "        if not silent:\n",
    "            print(f\"Image copied successfully from {src_path} to {dest_path}\")\n",
    "\n",
    "    except Exception as e:\n",
    "        print(f\"An error occurred: {e}\")"
   ]
  },
  {
   "cell_type": "code",
   "execution_count": 11,
   "metadata": {},
   "outputs": [
    {
     "name": "stdout",
     "output_type": "stream",
     "text": [
      "Converted imagenet_ai_0419_biggan to jpgs\n",
      "Converted imagenet_ai_0419_vqdm to jpgs\n",
      "Converted imagenet_ai_0424_sdv5 to jpgs\n",
      "Converted imagenet_ai_0424_wukong to jpgs\n",
      "Converted imagenet_ai_0508_adm to jpgs\n",
      "Converted imagenet_glide to jpgs\n",
      "Converted imagenet_midjourney to jpgs\n"
     ]
    }
   ],
   "source": [
    "# Example usage\n",
    "input_path = '../data/genimage/resized512x512'\n",
    "output_main_path = '../data/genimage_512_jpg'\n",
    "\n",
    "for quality in [100]:\n",
    "    output_path = os.path.join(output_main_path, f'jpg_quality_{quality}')\n",
    "    os.makedirs(output_path, exist_ok=True)\n",
    "    for generator in os.listdir(input_path):\n",
    "        generator_path = os.path.join(input_path, generator)\n",
    "        for dataset in os.listdir(generator_path):\n",
    "            dataset_path = os.path.join(generator_path, dataset)\n",
    "            for category in os.listdir(os.path.join(input_path, generator, dataset)):\n",
    "                category_path = os.path.join(dataset_path, category)\n",
    "                if category == 'nature':\n",
    "                    # just copy the nature files since they are already jpg\n",
    "                    os.makedirs(os.path.join(output_path, generator, dataset, category), exist_ok=True)\n",
    "                    for filename in os.listdir(category_path):\n",
    "                        source = os.path.join(category_path, filename)\n",
    "                        target = os.path.join(os.path.join(output_path, generator, dataset, category))\n",
    "                        copy_image(source, target, silent=True)\n",
    "                # else:\n",
    "                #     # convert the other files to jpg\n",
    "                #     batch_convert_to_jpg(category_path, os.path.join(output_path, generator, dataset, category), quality=quality, silent=True)            \n",
    "        print(f'Converted {generator} to jpgs')"
   ]
  }
 ],
 "metadata": {
  "kernelspec": {
   "display_name": "venv",
   "language": "python",
   "name": "python3"
  },
  "language_info": {
   "codemirror_mode": {
    "name": "ipython",
    "version": 3
   },
   "file_extension": ".py",
   "mimetype": "text/x-python",
   "name": "python",
   "nbconvert_exporter": "python",
   "pygments_lexer": "ipython3",
   "version": "3.10.11"
  }
 },
 "nbformat": 4,
 "nbformat_minor": 2
}
