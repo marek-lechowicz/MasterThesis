{
 "cells": [
  {
   "cell_type": "code",
   "execution_count": 2,
   "metadata": {},
   "outputs": [],
   "source": [
    "import cv2\n",
    "import os\n",
    "\n",
    "def apply_gaussian_blur(input_image_path, output_image_path, ksize=(5, 5), sigmaX=0):\n",
    "    # Read the image\n",
    "    img = cv2.imread(input_image_path)\n",
    "    \n",
    "    # Apply Gaussian blur\n",
    "    blurred_img = cv2.GaussianBlur(img, ksize, sigmaX)\n",
    "    \n",
    "    # Write the blurred image to the output path\n",
    "    cv2.imwrite(output_image_path, blurred_img)\n",
    "    \n",
    "\n",
    "def batch_apply_gaussian_blur(input_folder, output_folder, ksize=(5, 5), sigmaX=0, silent=False):\n",
    "    # Ensure the output folder exists\n",
    "    os.makedirs(output_folder, exist_ok=True)\n",
    "\n",
    "    # Process each file in the input folder\n",
    "    for filename in os.listdir(input_folder):\n",
    "        input_path = os.path.join(input_folder, filename)\n",
    "        output_path = os.path.join(output_folder, filename)\n",
    "        \n",
    "        try:\n",
    "            apply_gaussian_blur(input_path, output_path, ksize, sigmaX)\n",
    "            if not silent:\n",
    "                print(f'Applied Gaussian blur to {input_path} and saved to {output_path}')\n",
    "        except Exception as e:\n",
    "            print(f'Failed to apply Gaussian blur to {input_path}: {e}')\n",
    "\n",
    "# Example usage\n",
    "# batch_apply_gaussian_blur('input_folder', 'output_folder')\n"
   ]
  },
  {
   "cell_type": "code",
   "execution_count": 4,
   "metadata": {},
   "outputs": [
    {
     "name": "stdout",
     "output_type": "stream",
     "text": [
      "Applied gaussian blur to dalle2\n",
      "Applied gaussian blur to dalle3\n",
      "Applied gaussian blur to firefly\n",
      "Applied gaussian blur to glide\n",
      "Applied gaussian blur to img\n",
      "Applied gaussian blur to midjourney-v5\n",
      "Applied gaussian blur to stable-diffusion-1-3\n",
      "Applied gaussian blur to stable-diffusion-1-4\n",
      "Applied gaussian blur to stable-diffusion-2\n",
      "Applied gaussian blur to stable-diffusion-xl\n",
      "Applied gaussian blur to dalle2\n",
      "Applied gaussian blur to dalle3\n",
      "Applied gaussian blur to firefly\n",
      "Applied gaussian blur to glide\n",
      "Applied gaussian blur to img\n",
      "Applied gaussian blur to midjourney-v5\n",
      "Applied gaussian blur to stable-diffusion-1-3\n",
      "Applied gaussian blur to stable-diffusion-1-4\n",
      "Applied gaussian blur to stable-diffusion-2\n",
      "Applied gaussian blur to stable-diffusion-xl\n",
      "Applied gaussian blur to dalle2\n",
      "Applied gaussian blur to dalle3\n",
      "Applied gaussian blur to firefly\n",
      "Applied gaussian blur to glide\n",
      "Applied gaussian blur to img\n",
      "Applied gaussian blur to midjourney-v5\n",
      "Applied gaussian blur to stable-diffusion-1-3\n",
      "Applied gaussian blur to stable-diffusion-1-4\n",
      "Applied gaussian blur to stable-diffusion-2\n",
      "Applied gaussian blur to stable-diffusion-xl\n"
     ]
    }
   ],
   "source": [
    "# Example usage\n",
    "input_path = '../data/synthbuster_resized'\n",
    "output_main_path = '../data/synthbuster_gaussian'\n",
    "\n",
    "for sigma in [1, 2, 3]:\n",
    "    output_path = os.path.join(output_main_path, f'sigma_{sigma}')\n",
    "    os.makedirs(output_path, exist_ok=True)\n",
    "    for generator in os.listdir(input_path):\n",
    "        generator_path = os.path.join(input_path, generator)\n",
    "        for dataset in os.listdir(generator_path):\n",
    "            dataset_path = os.path.join(generator_path, dataset)\n",
    "            for category in os.listdir(os.path.join(input_path, generator, dataset)):\n",
    "                category_path = os.path.join(dataset_path, category)\n",
    "                batch_apply_gaussian_blur(category_path, os.path.join(output_path, generator, dataset, category), sigmaX=sigma, silent=True)            \n",
    "        print(f'Applied gaussian blur to {generator}')"
   ]
  }
 ],
 "metadata": {
  "kernelspec": {
   "display_name": "venv",
   "language": "python",
   "name": "python3"
  },
  "language_info": {
   "codemirror_mode": {
    "name": "ipython",
    "version": 3
   },
   "file_extension": ".py",
   "mimetype": "text/x-python",
   "name": "python",
   "nbconvert_exporter": "python",
   "pygments_lexer": "ipython3",
   "version": "3.10.11"
  }
 },
 "nbformat": 4,
 "nbformat_minor": 2
}
