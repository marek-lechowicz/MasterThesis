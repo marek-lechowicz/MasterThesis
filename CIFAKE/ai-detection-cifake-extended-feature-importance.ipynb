{
 "cells": [
  {
   "cell_type": "markdown",
   "id": "3f9ccff6",
   "metadata": {
    "papermill": {
     "duration": 0.00924,
     "end_time": "2024-05-23T21:54:26.085587",
     "exception": false,
     "start_time": "2024-05-23T21:54:26.076347",
     "status": "completed"
    },
    "tags": []
   },
   "source": []
  },
  {
   "cell_type": "code",
   "execution_count": 1,
   "id": "ab677685",
   "metadata": {
    "execution": {
     "iopub.execute_input": "2024-05-23T21:54:26.103163Z",
     "iopub.status.busy": "2024-05-23T21:54:26.102306Z",
     "iopub.status.idle": "2024-05-23T21:54:27.012000Z",
     "shell.execute_reply": "2024-05-23T21:54:27.010807Z"
    },
    "papermill": {
     "duration": 0.921263,
     "end_time": "2024-05-23T21:54:27.014791",
     "exception": false,
     "start_time": "2024-05-23T21:54:26.093528",
     "status": "completed"
    },
    "tags": []
   },
   "outputs": [],
   "source": [
    "import numpy as np\n",
    "import random\n",
    "import pandas as pd\n",
    "import matplotlib.pyplot as plt"
   ]
  },
  {
   "cell_type": "markdown",
   "id": "3e07f225",
   "metadata": {
    "papermill": {
     "duration": 0.006859,
     "end_time": "2024-05-23T21:54:27.028760",
     "exception": false,
     "start_time": "2024-05-23T21:54:27.021901",
     "status": "completed"
    },
    "tags": []
   },
   "source": [
    "## Set the seed for reproducibility"
   ]
  },
  {
   "cell_type": "code",
   "execution_count": 2,
   "id": "d7ef6fc1",
   "metadata": {
    "execution": {
     "iopub.execute_input": "2024-05-23T21:54:27.044670Z",
     "iopub.status.busy": "2024-05-23T21:54:27.044117Z",
     "iopub.status.idle": "2024-05-23T21:54:27.049794Z",
     "shell.execute_reply": "2024-05-23T21:54:27.048607Z"
    },
    "papermill": {
     "duration": 0.016546,
     "end_time": "2024-05-23T21:54:27.052234",
     "exception": false,
     "start_time": "2024-05-23T21:54:27.035688",
     "status": "completed"
    },
    "tags": []
   },
   "outputs": [],
   "source": [
    "SEED = 44\n",
    "np.random.seed(SEED)\n",
    "random.seed(SEED)"
   ]
  },
  {
   "cell_type": "code",
   "execution_count": 3,
   "id": "ed3135f2",
   "metadata": {
    "execution": {
     "iopub.execute_input": "2024-05-23T21:54:27.068136Z",
     "iopub.status.busy": "2024-05-23T21:54:27.067734Z",
     "iopub.status.idle": "2024-05-23T21:54:28.537649Z",
     "shell.execute_reply": "2024-05-23T21:54:28.536148Z"
    },
    "papermill": {
     "duration": 1.48135,
     "end_time": "2024-05-23T21:54:28.540645",
     "exception": false,
     "start_time": "2024-05-23T21:54:27.059295",
     "status": "completed"
    },
    "tags": []
   },
   "outputs": [],
   "source": [
    "import joblib\n",
    "lda = joblib.load('/kaggle/input/models-cifake-all-features/LinearDiscriminantAnalysis.pkl')"
   ]
  },
  {
   "cell_type": "code",
   "execution_count": 4,
   "id": "431762ab",
   "metadata": {
    "execution": {
     "iopub.execute_input": "2024-05-23T21:54:28.557219Z",
     "iopub.status.busy": "2024-05-23T21:54:28.555902Z",
     "iopub.status.idle": "2024-05-23T21:54:28.565455Z",
     "shell.execute_reply": "2024-05-23T21:54:28.564252Z"
    },
    "papermill": {
     "duration": 0.020604,
     "end_time": "2024-05-23T21:54:28.568288",
     "exception": false,
     "start_time": "2024-05-23T21:54:28.547684",
     "status": "completed"
    },
    "tags": []
   },
   "outputs": [
    {
     "data": {
      "text/plain": [
       "array(['R_original_firstorder_10Percentile',\n",
       "       'R_original_firstorder_90Percentile',\n",
       "       'R_original_firstorder_Energy', ...,\n",
       "       'sym3_B_wavelet-L_ngtdm_Complexity',\n",
       "       'sym3_B_wavelet-L_ngtdm_Contrast',\n",
       "       'sym3_B_wavelet-L_ngtdm_Strength'], dtype=object)"
      ]
     },
     "execution_count": 4,
     "metadata": {},
     "output_type": "execute_result"
    }
   ],
   "source": [
    "lda.feature_names_in_"
   ]
  },
  {
   "cell_type": "markdown",
   "id": "2381bf32",
   "metadata": {
    "papermill": {
     "duration": 0.006823,
     "end_time": "2024-05-23T21:54:28.582705",
     "exception": false,
     "start_time": "2024-05-23T21:54:28.575882",
     "status": "completed"
    },
    "tags": []
   },
   "source": [
    "## Load the data"
   ]
  },
  {
   "cell_type": "code",
   "execution_count": 5,
   "id": "74791131",
   "metadata": {
    "execution": {
     "iopub.execute_input": "2024-05-23T21:54:28.599849Z",
     "iopub.status.busy": "2024-05-23T21:54:28.598708Z",
     "iopub.status.idle": "2024-05-23T22:01:23.576133Z",
     "shell.execute_reply": "2024-05-23T22:01:23.574767Z"
    },
    "papermill": {
     "duration": 415.00174,
     "end_time": "2024-05-23T22:01:23.591627",
     "exception": false,
     "start_time": "2024-05-23T21:54:28.589887",
     "status": "completed"
    },
    "tags": []
   },
   "outputs": [
    {
     "name": "stdout",
     "output_type": "stream",
     "text": [
      "<class 'pandas.core.frame.DataFrame'>\n",
      "Index: 50000 entries, 1 to 99999\n",
      "Columns: 9075 entries, Image to sym3_B_wavelet-L_ngtdm_Strength\n",
      "dtypes: float64(9015), int64(7), object(53)\n",
      "memory usage: 3.4+ GB\n"
     ]
    }
   ],
   "source": [
    "def skip_half_rows(x):\n",
    "    # x is the row id \n",
    "    # is function evaluates to \n",
    "    # True the row is skipped\n",
    "    # NOTE: index numbering starts with the first line of file, so column row has the id = 0\n",
    "    return not (x % 2 == 0) # keep even indexes\n",
    "\n",
    "data_path = \"/kaggle/input/cifake-all-features/RGB_train_all_features.csv\"\n",
    "df = pd.read_csv(data_path, index_col=0, skiprows=skip_half_rows)\n",
    "\n",
    "columns_initial = df.columns\n",
    "df.info()"
   ]
  },
  {
   "cell_type": "code",
   "execution_count": 6,
   "id": "418ec5c7",
   "metadata": {
    "execution": {
     "iopub.execute_input": "2024-05-23T22:01:23.609298Z",
     "iopub.status.busy": "2024-05-23T22:01:23.608840Z",
     "iopub.status.idle": "2024-05-23T22:01:23.645992Z",
     "shell.execute_reply": "2024-05-23T22:01:23.645122Z"
    },
    "papermill": {
     "duration": 0.049562,
     "end_time": "2024-05-23T22:01:23.648692",
     "exception": false,
     "start_time": "2024-05-23T22:01:23.599130",
     "status": "completed"
    },
    "tags": []
   },
   "outputs": [
    {
     "data": {
      "text/html": [
       "<div>\n",
       "<style scoped>\n",
       "    .dataframe tbody tr th:only-of-type {\n",
       "        vertical-align: middle;\n",
       "    }\n",
       "\n",
       "    .dataframe tbody tr th {\n",
       "        vertical-align: top;\n",
       "    }\n",
       "\n",
       "    .dataframe thead th {\n",
       "        text-align: right;\n",
       "    }\n",
       "</style>\n",
       "<table border=\"1\" class=\"dataframe\">\n",
       "  <thead>\n",
       "    <tr style=\"text-align: right;\">\n",
       "      <th></th>\n",
       "      <th>Image</th>\n",
       "      <th>Mask</th>\n",
       "      <th>Category</th>\n",
       "      <th>R_diagnostics_Versions_PyRadiomics</th>\n",
       "      <th>R_diagnostics_Versions_Numpy</th>\n",
       "      <th>R_diagnostics_Versions_SimpleITK</th>\n",
       "      <th>R_diagnostics_Versions_PyWavelet</th>\n",
       "      <th>R_diagnostics_Versions_Python</th>\n",
       "      <th>R_diagnostics_Configuration_Settings</th>\n",
       "      <th>R_diagnostics_Configuration_EnabledImageTypes</th>\n",
       "      <th>...</th>\n",
       "      <th>sym3_B_wavelet-L_gldm_LargeDependenceLowGrayLevelEmphasis</th>\n",
       "      <th>sym3_B_wavelet-L_gldm_LowGrayLevelEmphasis</th>\n",
       "      <th>sym3_B_wavelet-L_gldm_SmallDependenceEmphasis</th>\n",
       "      <th>sym3_B_wavelet-L_gldm_SmallDependenceHighGrayLevelEmphasis</th>\n",
       "      <th>sym3_B_wavelet-L_gldm_SmallDependenceLowGrayLevelEmphasis</th>\n",
       "      <th>sym3_B_wavelet-L_ngtdm_Busyness</th>\n",
       "      <th>sym3_B_wavelet-L_ngtdm_Coarseness</th>\n",
       "      <th>sym3_B_wavelet-L_ngtdm_Complexity</th>\n",
       "      <th>sym3_B_wavelet-L_ngtdm_Contrast</th>\n",
       "      <th>sym3_B_wavelet-L_ngtdm_Strength</th>\n",
       "    </tr>\n",
       "  </thead>\n",
       "  <tbody>\n",
       "    <tr>\n",
       "      <th>1</th>\n",
       "      <td>D:\\studia_zadania\\Others\\AIImageDetection\\data...</td>\n",
       "      <td>D:\\studia_zadania\\Others\\AIImageDetection\\data...</td>\n",
       "      <td>0</td>\n",
       "      <td>v3.0.1</td>\n",
       "      <td>1.25.2</td>\n",
       "      <td>2.3.1</td>\n",
       "      <td>1.5.0</td>\n",
       "      <td>3.10.11</td>\n",
       "      <td>{'minimumROIDimensions': 2, 'minimumROISize': ...</td>\n",
       "      <td>{'Original': {}, 'Wavelet': {}, 'Square': {}, ...</td>\n",
       "      <td>...</td>\n",
       "      <td>0.121249</td>\n",
       "      <td>0.038958</td>\n",
       "      <td>0.627387</td>\n",
       "      <td>88.291938</td>\n",
       "      <td>0.024955</td>\n",
       "      <td>0.244221</td>\n",
       "      <td>0.020355</td>\n",
       "      <td>143.809539</td>\n",
       "      <td>0.135964</td>\n",
       "      <td>2.892842</td>\n",
       "    </tr>\n",
       "    <tr>\n",
       "      <th>3</th>\n",
       "      <td>D:\\studia_zadania\\Others\\AIImageDetection\\data...</td>\n",
       "      <td>D:\\studia_zadania\\Others\\AIImageDetection\\data...</td>\n",
       "      <td>0</td>\n",
       "      <td>v3.0.1</td>\n",
       "      <td>1.25.2</td>\n",
       "      <td>2.3.1</td>\n",
       "      <td>1.5.0</td>\n",
       "      <td>3.10.11</td>\n",
       "      <td>{'minimumROIDimensions': 2, 'minimumROISize': ...</td>\n",
       "      <td>{'Original': {}, 'Wavelet': {}, 'Square': {}, ...</td>\n",
       "      <td>...</td>\n",
       "      <td>0.036432</td>\n",
       "      <td>0.015490</td>\n",
       "      <td>0.690321</td>\n",
       "      <td>146.112196</td>\n",
       "      <td>0.011059</td>\n",
       "      <td>0.117546</td>\n",
       "      <td>0.019500</td>\n",
       "      <td>404.573111</td>\n",
       "      <td>0.066753</td>\n",
       "      <td>6.742380</td>\n",
       "    </tr>\n",
       "    <tr>\n",
       "      <th>5</th>\n",
       "      <td>D:\\studia_zadania\\Others\\AIImageDetection\\data...</td>\n",
       "      <td>D:\\studia_zadania\\Others\\AIImageDetection\\data...</td>\n",
       "      <td>0</td>\n",
       "      <td>v3.0.1</td>\n",
       "      <td>1.25.2</td>\n",
       "      <td>2.3.1</td>\n",
       "      <td>1.5.0</td>\n",
       "      <td>3.10.11</td>\n",
       "      <td>{'minimumROIDimensions': 2, 'minimumROISize': ...</td>\n",
       "      <td>{'Original': {}, 'Wavelet': {}, 'Square': {}, ...</td>\n",
       "      <td>...</td>\n",
       "      <td>0.116522</td>\n",
       "      <td>0.039532</td>\n",
       "      <td>0.740831</td>\n",
       "      <td>93.557671</td>\n",
       "      <td>0.024763</td>\n",
       "      <td>0.339781</td>\n",
       "      <td>0.020632</td>\n",
       "      <td>242.850164</td>\n",
       "      <td>0.080504</td>\n",
       "      <td>6.273661</td>\n",
       "    </tr>\n",
       "    <tr>\n",
       "      <th>7</th>\n",
       "      <td>D:\\studia_zadania\\Others\\AIImageDetection\\data...</td>\n",
       "      <td>D:\\studia_zadania\\Others\\AIImageDetection\\data...</td>\n",
       "      <td>0</td>\n",
       "      <td>v3.0.1</td>\n",
       "      <td>1.25.2</td>\n",
       "      <td>2.3.1</td>\n",
       "      <td>1.5.0</td>\n",
       "      <td>3.10.11</td>\n",
       "      <td>{'minimumROIDimensions': 2, 'minimumROISize': ...</td>\n",
       "      <td>{'Original': {}, 'Wavelet': {}, 'Square': {}, ...</td>\n",
       "      <td>...</td>\n",
       "      <td>0.060377</td>\n",
       "      <td>0.022634</td>\n",
       "      <td>0.691569</td>\n",
       "      <td>115.006402</td>\n",
       "      <td>0.015114</td>\n",
       "      <td>0.155328</td>\n",
       "      <td>0.034512</td>\n",
       "      <td>140.792999</td>\n",
       "      <td>0.054886</td>\n",
       "      <td>8.338564</td>\n",
       "    </tr>\n",
       "    <tr>\n",
       "      <th>9</th>\n",
       "      <td>D:\\studia_zadania\\Others\\AIImageDetection\\data...</td>\n",
       "      <td>D:\\studia_zadania\\Others\\AIImageDetection\\data...</td>\n",
       "      <td>0</td>\n",
       "      <td>v3.0.1</td>\n",
       "      <td>1.25.2</td>\n",
       "      <td>2.3.1</td>\n",
       "      <td>1.5.0</td>\n",
       "      <td>3.10.11</td>\n",
       "      <td>{'minimumROIDimensions': 2, 'minimumROISize': ...</td>\n",
       "      <td>{'Original': {}, 'Wavelet': {}, 'Square': {}, ...</td>\n",
       "      <td>...</td>\n",
       "      <td>0.014221</td>\n",
       "      <td>0.007376</td>\n",
       "      <td>0.672309</td>\n",
       "      <td>199.806532</td>\n",
       "      <td>0.005969</td>\n",
       "      <td>0.092343</td>\n",
       "      <td>0.021758</td>\n",
       "      <td>210.355579</td>\n",
       "      <td>0.083002</td>\n",
       "      <td>6.233881</td>\n",
       "    </tr>\n",
       "  </tbody>\n",
       "</table>\n",
       "<p>5 rows × 9075 columns</p>\n",
       "</div>"
      ],
      "text/plain": [
       "                                               Image  \\\n",
       "1  D:\\studia_zadania\\Others\\AIImageDetection\\data...   \n",
       "3  D:\\studia_zadania\\Others\\AIImageDetection\\data...   \n",
       "5  D:\\studia_zadania\\Others\\AIImageDetection\\data...   \n",
       "7  D:\\studia_zadania\\Others\\AIImageDetection\\data...   \n",
       "9  D:\\studia_zadania\\Others\\AIImageDetection\\data...   \n",
       "\n",
       "                                                Mask  Category  \\\n",
       "1  D:\\studia_zadania\\Others\\AIImageDetection\\data...         0   \n",
       "3  D:\\studia_zadania\\Others\\AIImageDetection\\data...         0   \n",
       "5  D:\\studia_zadania\\Others\\AIImageDetection\\data...         0   \n",
       "7  D:\\studia_zadania\\Others\\AIImageDetection\\data...         0   \n",
       "9  D:\\studia_zadania\\Others\\AIImageDetection\\data...         0   \n",
       "\n",
       "  R_diagnostics_Versions_PyRadiomics R_diagnostics_Versions_Numpy  \\\n",
       "1                             v3.0.1                       1.25.2   \n",
       "3                             v3.0.1                       1.25.2   \n",
       "5                             v3.0.1                       1.25.2   \n",
       "7                             v3.0.1                       1.25.2   \n",
       "9                             v3.0.1                       1.25.2   \n",
       "\n",
       "  R_diagnostics_Versions_SimpleITK R_diagnostics_Versions_PyWavelet  \\\n",
       "1                            2.3.1                            1.5.0   \n",
       "3                            2.3.1                            1.5.0   \n",
       "5                            2.3.1                            1.5.0   \n",
       "7                            2.3.1                            1.5.0   \n",
       "9                            2.3.1                            1.5.0   \n",
       "\n",
       "  R_diagnostics_Versions_Python  \\\n",
       "1                       3.10.11   \n",
       "3                       3.10.11   \n",
       "5                       3.10.11   \n",
       "7                       3.10.11   \n",
       "9                       3.10.11   \n",
       "\n",
       "                R_diagnostics_Configuration_Settings  \\\n",
       "1  {'minimumROIDimensions': 2, 'minimumROISize': ...   \n",
       "3  {'minimumROIDimensions': 2, 'minimumROISize': ...   \n",
       "5  {'minimumROIDimensions': 2, 'minimumROISize': ...   \n",
       "7  {'minimumROIDimensions': 2, 'minimumROISize': ...   \n",
       "9  {'minimumROIDimensions': 2, 'minimumROISize': ...   \n",
       "\n",
       "       R_diagnostics_Configuration_EnabledImageTypes  ...  \\\n",
       "1  {'Original': {}, 'Wavelet': {}, 'Square': {}, ...  ...   \n",
       "3  {'Original': {}, 'Wavelet': {}, 'Square': {}, ...  ...   \n",
       "5  {'Original': {}, 'Wavelet': {}, 'Square': {}, ...  ...   \n",
       "7  {'Original': {}, 'Wavelet': {}, 'Square': {}, ...  ...   \n",
       "9  {'Original': {}, 'Wavelet': {}, 'Square': {}, ...  ...   \n",
       "\n",
       "  sym3_B_wavelet-L_gldm_LargeDependenceLowGrayLevelEmphasis  \\\n",
       "1                                           0.121249          \n",
       "3                                           0.036432          \n",
       "5                                           0.116522          \n",
       "7                                           0.060377          \n",
       "9                                           0.014221          \n",
       "\n",
       "  sym3_B_wavelet-L_gldm_LowGrayLevelEmphasis  \\\n",
       "1                                   0.038958   \n",
       "3                                   0.015490   \n",
       "5                                   0.039532   \n",
       "7                                   0.022634   \n",
       "9                                   0.007376   \n",
       "\n",
       "  sym3_B_wavelet-L_gldm_SmallDependenceEmphasis  \\\n",
       "1                                      0.627387   \n",
       "3                                      0.690321   \n",
       "5                                      0.740831   \n",
       "7                                      0.691569   \n",
       "9                                      0.672309   \n",
       "\n",
       "  sym3_B_wavelet-L_gldm_SmallDependenceHighGrayLevelEmphasis  \\\n",
       "1                                          88.291938           \n",
       "3                                         146.112196           \n",
       "5                                          93.557671           \n",
       "7                                         115.006402           \n",
       "9                                         199.806532           \n",
       "\n",
       "   sym3_B_wavelet-L_gldm_SmallDependenceLowGrayLevelEmphasis  \\\n",
       "1                                           0.024955           \n",
       "3                                           0.011059           \n",
       "5                                           0.024763           \n",
       "7                                           0.015114           \n",
       "9                                           0.005969           \n",
       "\n",
       "   sym3_B_wavelet-L_ngtdm_Busyness  sym3_B_wavelet-L_ngtdm_Coarseness  \\\n",
       "1                         0.244221                           0.020355   \n",
       "3                         0.117546                           0.019500   \n",
       "5                         0.339781                           0.020632   \n",
       "7                         0.155328                           0.034512   \n",
       "9                         0.092343                           0.021758   \n",
       "\n",
       "  sym3_B_wavelet-L_ngtdm_Complexity sym3_B_wavelet-L_ngtdm_Contrast  \\\n",
       "1                        143.809539                        0.135964   \n",
       "3                        404.573111                        0.066753   \n",
       "5                        242.850164                        0.080504   \n",
       "7                        140.792999                        0.054886   \n",
       "9                        210.355579                        0.083002   \n",
       "\n",
       "  sym3_B_wavelet-L_ngtdm_Strength  \n",
       "1                        2.892842  \n",
       "3                        6.742380  \n",
       "5                        6.273661  \n",
       "7                        8.338564  \n",
       "9                        6.233881  \n",
       "\n",
       "[5 rows x 9075 columns]"
      ]
     },
     "execution_count": 6,
     "metadata": {},
     "output_type": "execute_result"
    }
   ],
   "source": [
    "df.head()"
   ]
  },
  {
   "cell_type": "markdown",
   "id": "f605b5e7",
   "metadata": {
    "papermill": {
     "duration": 0.00753,
     "end_time": "2024-05-23T22:01:23.664206",
     "exception": false,
     "start_time": "2024-05-23T22:01:23.656676",
     "status": "completed"
    },
    "tags": []
   },
   "source": [
    "## Data preparation"
   ]
  },
  {
   "cell_type": "code",
   "execution_count": 7,
   "id": "64e1694b",
   "metadata": {
    "execution": {
     "iopub.execute_input": "2024-05-23T22:01:23.682955Z",
     "iopub.status.busy": "2024-05-23T22:01:23.682171Z",
     "iopub.status.idle": "2024-05-23T22:01:27.119212Z",
     "shell.execute_reply": "2024-05-23T22:01:27.118304Z"
    },
    "papermill": {
     "duration": 3.449692,
     "end_time": "2024-05-23T22:01:27.121894",
     "exception": false,
     "start_time": "2024-05-23T22:01:23.672202",
     "status": "completed"
    },
    "tags": []
   },
   "outputs": [],
   "source": [
    "from sklearn.model_selection import train_test_split\n",
    "\n",
    "# leave in df only the features that are in the lda model\n",
    "X = df[lda.feature_names_in_]\n",
    "y = df[['Category']]\n",
    "\n",
    "X_train, X_val, y_train, y_val = train_test_split(X, y, test_size=0.1)"
   ]
  },
  {
   "cell_type": "code",
   "execution_count": 8,
   "id": "ec74b36b",
   "metadata": {
    "execution": {
     "iopub.execute_input": "2024-05-23T22:01:27.139965Z",
     "iopub.status.busy": "2024-05-23T22:01:27.139256Z",
     "iopub.status.idle": "2024-05-23T22:01:27.250654Z",
     "shell.execute_reply": "2024-05-23T22:01:27.249523Z"
    },
    "papermill": {
     "duration": 0.123475,
     "end_time": "2024-05-23T22:01:27.253282",
     "exception": false,
     "start_time": "2024-05-23T22:01:27.129807",
     "status": "completed"
    },
    "tags": []
   },
   "outputs": [
    {
     "data": {
      "text/plain": [
       "0"
      ]
     },
     "execution_count": 8,
     "metadata": {},
     "output_type": "execute_result"
    }
   ],
   "source": [
    "del X_train\n",
    "del y_train\n",
    "del df\n",
    "\n",
    "import gc\n",
    "gc.collect()"
   ]
  },
  {
   "cell_type": "markdown",
   "id": "d8f0526e",
   "metadata": {
    "papermill": {
     "duration": 0.008048,
     "end_time": "2024-05-23T22:01:27.269268",
     "exception": false,
     "start_time": "2024-05-23T22:01:27.261220",
     "status": "completed"
    },
    "tags": []
   },
   "source": [
    "### Scale the data"
   ]
  },
  {
   "cell_type": "code",
   "execution_count": 9,
   "id": "e41811fd",
   "metadata": {
    "execution": {
     "iopub.execute_input": "2024-05-23T22:01:27.287783Z",
     "iopub.status.busy": "2024-05-23T22:01:27.287387Z",
     "iopub.status.idle": "2024-05-23T22:01:27.293528Z",
     "shell.execute_reply": "2024-05-23T22:01:27.292238Z"
    },
    "papermill": {
     "duration": 0.018504,
     "end_time": "2024-05-23T22:01:27.295898",
     "exception": false,
     "start_time": "2024-05-23T22:01:27.277394",
     "status": "completed"
    },
    "tags": []
   },
   "outputs": [],
   "source": [
    "from sklearn.preprocessing import MinMaxScaler\n",
    "\n",
    "# scaler = joblib.load('/kaggle/input/models-cifake-all-features/scaler.pkl')\n",
    "# X_val_scaled = scaler.transform(X_val.values)\n",
    "X_val_scaled = X_val.values\n",
    "\n",
    "# create df from scaled data\n",
    "X_val_scaled = pd.DataFrame(X_val_scaled, columns=X_val.columns)"
   ]
  },
  {
   "cell_type": "markdown",
   "id": "17eb9a6a",
   "metadata": {
    "papermill": {
     "duration": 0.008078,
     "end_time": "2024-05-23T22:01:27.312050",
     "exception": false,
     "start_time": "2024-05-23T22:01:27.303972",
     "status": "completed"
    },
    "tags": []
   },
   "source": [
    "## Evaluation"
   ]
  },
  {
   "cell_type": "code",
   "execution_count": 10,
   "id": "f5c81cea",
   "metadata": {
    "execution": {
     "iopub.execute_input": "2024-05-23T22:01:27.329821Z",
     "iopub.status.busy": "2024-05-23T22:01:27.329412Z",
     "iopub.status.idle": "2024-05-23T22:01:27.340826Z",
     "shell.execute_reply": "2024-05-23T22:01:27.339542Z"
    },
    "papermill": {
     "duration": 0.023303,
     "end_time": "2024-05-23T22:01:27.343295",
     "exception": false,
     "start_time": "2024-05-23T22:01:27.319992",
     "status": "completed"
    },
    "tags": []
   },
   "outputs": [],
   "source": [
    "from sklearn.metrics import accuracy_score, f1_score, precision_score, recall_score, \\\n",
    "    confusion_matrix, ConfusionMatrixDisplay\n",
    "\n",
    "def evaluate_model(model, X_test, y_test, print_results=True, name=None):\n",
    "    if name is not None:\n",
    "        name = model.__class__.__name__\n",
    "    \n",
    "    y_pred = model.predict(X_test)\n",
    "    accuracy = accuracy_score(y_test, y_pred)\n",
    "    f1 = f1_score(y_test, y_pred, average='weighted')\n",
    "    precision = precision_score(y_test, y_pred, average='weighted')\n",
    "    recall = recall_score(y_test, y_pred, average='weighted')\n",
    "    \n",
    "    if print_results:\n",
    "        print(f\"Model: {name}\")\n",
    "        print(f\"Accuracy: {accuracy:.4f}\")\n",
    "        print(f\"F1: {f1:.4f}\")\n",
    "        print(f\"Precision: {precision:.4f}\")\n",
    "        print(f\"Recall: {recall:.4f}\")\n",
    "    \n",
    "    return accuracy, f1, precision, recall\n",
    "\n",
    "def plot_confusion_matrix(model, X_test, y_test, name=None):\n",
    "    y_pred = model.predict(X_test)\n",
    "    cm = confusion_matrix(y_test, y_pred)\n",
    "    disp = ConfusionMatrixDisplay(confusion_matrix=cm, display_labels=model.classes_)\n",
    "    disp.plot()\n",
    "    plt.title(name)\n",
    "    plt.show()"
   ]
  },
  {
   "cell_type": "code",
   "execution_count": 11,
   "id": "61b6cc98",
   "metadata": {
    "execution": {
     "iopub.execute_input": "2024-05-23T22:01:27.361660Z",
     "iopub.status.busy": "2024-05-23T22:01:27.361149Z",
     "iopub.status.idle": "2024-05-23T22:01:27.644036Z",
     "shell.execute_reply": "2024-05-23T22:01:27.642452Z"
    },
    "papermill": {
     "duration": 0.299054,
     "end_time": "2024-05-23T22:01:27.650609",
     "exception": false,
     "start_time": "2024-05-23T22:01:27.351555",
     "status": "completed"
    },
    "tags": []
   },
   "outputs": [
    {
     "name": "stdout",
     "output_type": "stream",
     "text": [
      "Model: None\n",
      "Accuracy: 0.4942\n",
      "F1: 0.3269\n",
      "Precision: 0.2442\n",
      "Recall: 0.4942\n"
     ]
    },
    {
     "name": "stderr",
     "output_type": "stream",
     "text": [
      "/opt/conda/lib/python3.10/site-packages/sklearn/metrics/_classification.py:1344: UndefinedMetricWarning: Precision is ill-defined and being set to 0.0 in labels with no predicted samples. Use `zero_division` parameter to control this behavior.\n",
      "  _warn_prf(average, modifier, msg_start, len(result))\n"
     ]
    },
    {
     "data": {
      "text/plain": [
       "(0.4942, 0.32690890108419224, 0.24423363999999997, 0.4942)"
      ]
     },
     "execution_count": 11,
     "metadata": {},
     "output_type": "execute_result"
    }
   ],
   "source": [
    "evaluate_model(lda, X_val_scaled, y_val)"
   ]
  },
  {
   "cell_type": "code",
   "execution_count": 12,
   "id": "40027a6a",
   "metadata": {
    "execution": {
     "iopub.execute_input": "2024-05-23T22:01:27.688748Z",
     "iopub.status.busy": "2024-05-23T22:01:27.688339Z",
     "iopub.status.idle": "2024-05-23T22:01:28.277932Z",
     "shell.execute_reply": "2024-05-23T22:01:28.276792Z"
    },
    "papermill": {
     "duration": 0.611528,
     "end_time": "2024-05-23T22:01:28.280395",
     "exception": false,
     "start_time": "2024-05-23T22:01:27.668867",
     "status": "completed"
    },
    "tags": []
   },
   "outputs": [
    {
     "data": {
      "image/png": "[encoded data removed]",
      "text/plain": [
       "<Figure size 640x480 with 2 Axes>"
      ]
     },
     "metadata": {},
     "output_type": "display_data"
    }
   ],
   "source": [
    "plot_confusion_matrix(lda, X_val_scaled, y_val)"
   ]
  },
  {
   "cell_type": "markdown",
   "id": "d71b7c82",
   "metadata": {
    "papermill": {
     "duration": 0.00886,
     "end_time": "2024-05-23T22:01:28.298458",
     "exception": false,
     "start_time": "2024-05-23T22:01:28.289598",
     "status": "completed"
    },
    "tags": []
   },
   "source": [
    "## Feature importance"
   ]
  },
  {
   "cell_type": "code",
   "execution_count": 13,
   "id": "e647b9e1",
   "metadata": {
    "execution": {
     "iopub.execute_input": "2024-05-23T22:01:28.318005Z",
     "iopub.status.busy": "2024-05-23T22:01:28.317567Z",
     "iopub.status.idle": "2024-05-23T22:01:28.498520Z",
     "shell.execute_reply": "2024-05-23T22:01:28.497307Z"
    },
    "papermill": {
     "duration": 0.19407,
     "end_time": "2024-05-23T22:01:28.501288",
     "exception": false,
     "start_time": "2024-05-23T22:01:28.307218",
     "status": "completed"
    },
    "tags": []
   },
   "outputs": [],
   "source": [
    "from sklearn.inspection import permutation_importance\n",
    "\n",
    "def plot_top_importances(clf, X, y, top=10, clf_name=None, random_state=SEED):\n",
    "    if clf_name is None:\n",
    "        clf_name = clf.__class__.__name__\n",
    "    try:\n",
    "        result = permutation_importance(\n",
    "            clf, X, y, n_repeats=10, random_state=random_state, n_jobs=-1\n",
    "        )\n",
    "\n",
    "        sorted_importances_idx = result.importances_mean.argsort()\n",
    "        importances = pd.DataFrame(\n",
    "            result.importances[sorted_importances_idx].T,\n",
    "            columns=X.columns[sorted_importances_idx],\n",
    "        ) \n",
    "        sorted_importances_idx_top10 = result.importances_mean.argsort()[-10:]\n",
    "        importances_top10 = pd.DataFrame(\n",
    "            result.importances[sorted_importances_idx].T,\n",
    "            columns=X.columns[sorted_importances_idx],\n",
    "        )\n",
    "        ax = importances_top10.plot.box(vert=False, whis=10)\n",
    "        ax.set_title(f\"Permutation Importances {clf_name}\")\n",
    "        ax.axvline(x=0, color=\"k\", linestyle=\"--\")\n",
    "        ax.set_xlabel(\"Decrease in accuracy score\")\n",
    "        ax.figure.tight_layout()\n",
    "        plt.show()\n",
    "        return importances\n",
    "    except Exception as e:\n",
    "        print(f\"During processing {clf_name}. Exception: {e} occurred.\")"
   ]
  },
  {
   "cell_type": "code",
   "execution_count": 14,
   "id": "73ff3bf6",
   "metadata": {
    "execution": {
     "iopub.execute_input": "2024-05-23T22:01:28.521210Z",
     "iopub.status.busy": "2024-05-23T22:01:28.520351Z",
     "iopub.status.idle": "2024-05-24T01:42:55.241229Z",
     "shell.execute_reply": "2024-05-24T01:42:55.239184Z"
    },
    "papermill": {
     "duration": 13286.736381,
     "end_time": "2024-05-24T01:42:55.246450",
     "exception": false,
     "start_time": "2024-05-23T22:01:28.510069",
     "status": "completed"
    },
    "tags": []
   },
   "outputs": [
    {
     "data": {
      "image/png": "[encoded data removed]",
      "text/plain": [
       "<Figure size 640x480 with 1 Axes>"
      ]
     },
     "metadata": {},
     "output_type": "display_data"
    }
   ],
   "source": [
    "importances = plot_top_importances(lda, X_val, y_val)\n",
    "importances.to_csv(f\"importances_LinearDiscriminantAnalysis.csv\")"
   ]
  }
 ],
 "metadata": {
  "kaggle": {
   "accelerator": "none",
   "dataSources": [
    {
     "datasetId": 5016777,
     "sourceId": 8425412,
     "sourceType": "datasetVersion"
    },
    {
     "datasetId": 5032361,
     "sourceId": 8445505,
     "sourceType": "datasetVersion"
    }
   ],
   "dockerImageVersionId": 30698,
   "isGpuEnabled": false,
   "isInternetEnabled": true,
   "language": "python",
   "sourceType": "notebook"
  },
  "kernelspec": {
   "display_name": "Python 3",
   "language": "python",
   "name": "python3"
  },
  "language_info": {
   "codemirror_mode": {
    "name": "ipython",
    "version": 3
   },
   "file_extension": ".py",
   "mimetype": "text/x-python",
   "name": "python",
   "nbconvert_exporter": "python",
   "pygments_lexer": "ipython3",
   "version": "3.10.13"
  },
  "papermill": {
   "default_parameters": {},
   "duration": 13715.845263,
   "end_time": "2024-05-24T01:42:58.858126",
   "environment_variables": {},
   "exception": null,
   "input_path": "__notebook__.ipynb",
   "output_path": "__notebook__.ipynb",
   "parameters": {},
   "start_time": "2024-05-23T21:54:23.012863",
   "version": "2.5.0"
  }
 },
 "nbformat": 4,
 "nbformat_minor": 5
}
