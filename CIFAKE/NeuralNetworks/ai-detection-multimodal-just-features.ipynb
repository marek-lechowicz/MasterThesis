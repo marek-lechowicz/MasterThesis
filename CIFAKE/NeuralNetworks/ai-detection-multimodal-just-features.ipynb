{
 "cells": [
  {
   "cell_type": "raw",
   "id": "fe91a97c",
   "metadata": {
    "papermill": {
     "duration": 0.011487,
     "end_time": "2024-05-20T23:23:28.066421",
     "exception": false,
     "start_time": "2024-05-20T23:23:28.054934",
     "status": "completed"
    },
    "tags": []
   },
   "source": [
    "# Title"
   ]
  },
  {
   "cell_type": "code",
   "execution_count": 1,
   "id": "3f051ee0",
   "metadata": {
    "execution": {
     "iopub.execute_input": "2024-05-20T23:23:28.090196Z",
     "iopub.status.busy": "2024-05-20T23:23:28.089687Z",
     "iopub.status.idle": "2024-05-20T23:25:01.161362Z",
     "shell.execute_reply": "2024-05-20T23:25:01.159230Z"
    },
    "papermill": {
     "duration": 93.088322,
     "end_time": "2024-05-20T23:25:01.165974",
     "exception": false,
     "start_time": "2024-05-20T23:23:28.077652",
     "status": "completed"
    },
    "tags": []
   },
   "outputs": [
    {
     "name": "stdout",
     "output_type": "stream",
     "text": [
      "Collecting tensorflow==2.8\r\n",
      "  Downloading tensorflow-2.8.0-cp310-cp310-manylinux2010_x86_64.whl.metadata (2.9 kB)\r\n",
      "Collecting wandb==0.16\r\n",
      "  Downloading wandb-0.16.0-py3-none-any.whl.metadata (9.8 kB)\r\n",
      "Requirement already satisfied: absl-py>=0.4.0 in /opt/conda/lib/python3.10/site-packages (from tensorflow==2.8) (1.4.0)\r\n",
      "Requirement already satisfied: astunparse>=1.6.0 in /opt/conda/lib/python3.10/site-packages (from tensorflow==2.8) (1.6.3)\r\n",
      "Requirement already satisfied: flatbuffers>=1.12 in /opt/conda/lib/python3.10/site-packages (from tensorflow==2.8) (23.5.26)\r\n",
      "Requirement already satisfied: gast>=0.2.1 in /opt/conda/lib/python3.10/site-packages (from tensorflow==2.8) (0.5.4)\r\n",
      "Requirement already satisfied: google-pasta>=0.1.1 in /opt/conda/lib/python3.10/site-packages (from tensorflow==2.8) (0.2.0)\r\n",
      "Requirement already satisfied: h5py>=2.9.0 in /opt/conda/lib/python3.10/site-packages (from tensorflow==2.8) (3.10.0)\r\n",
      "Collecting keras-preprocessing>=1.1.1 (from tensorflow==2.8)\r\n",
      "  Downloading Keras_Preprocessing-1.1.2-py2.py3-none-any.whl.metadata (1.9 kB)\r\n",
      "Requirement already satisfied: libclang>=9.0.1 in /opt/conda/lib/python3.10/site-packages (from tensorflow==2.8) (16.0.6)\r\n",
      "Requirement already satisfied: numpy>=1.20 in /opt/conda/lib/python3.10/site-packages (from tensorflow==2.8) (1.26.4)\r\n",
      "Requirement already satisfied: opt-einsum>=2.3.2 in /opt/conda/lib/python3.10/site-packages (from tensorflow==2.8) (3.3.0)\r\n",
      "Requirement already satisfied: protobuf>=3.9.2 in /opt/conda/lib/python3.10/site-packages (from tensorflow==2.8) (3.20.3)\r\n",
      "Requirement already satisfied: setuptools in /opt/conda/lib/python3.10/site-packages (from tensorflow==2.8) (69.0.3)\r\n",
      "Requirement already satisfied: six>=1.12.0 in /opt/conda/lib/python3.10/site-packages (from tensorflow==2.8) (1.16.0)\r\n",
      "Requirement already satisfied: termcolor>=1.1.0 in /opt/conda/lib/python3.10/site-packages (from tensorflow==2.8) (2.4.0)\r\n",
      "Requirement already satisfied: typing-extensions>=3.6.6 in /opt/conda/lib/python3.10/site-packages (from tensorflow==2.8) (4.9.0)\r\n",
      "Requirement already satisfied: wrapt>=1.11.0 in /opt/conda/lib/python3.10/site-packages (from tensorflow==2.8) (1.14.1)\r\n",
      "Collecting tensorboard<2.9,>=2.8 (from tensorflow==2.8)\r\n",
      "  Downloading tensorboard-2.8.0-py3-none-any.whl.metadata (1.9 kB)\r\n",
      "Collecting tf-estimator-nightly==2.8.0.dev2021122109 (from tensorflow==2.8)\r\n",
      "  Downloading tf_estimator_nightly-2.8.0.dev2021122109-py2.py3-none-any.whl.metadata (1.2 kB)\r\n",
      "Collecting keras<2.9,>=2.8.0rc0 (from tensorflow==2.8)\r\n",
      "  Downloading keras-2.8.0-py2.py3-none-any.whl.metadata (1.3 kB)\r\n",
      "Requirement already satisfied: tensorflow-io-gcs-filesystem>=0.23.1 in /opt/conda/lib/python3.10/site-packages (from tensorflow==2.8) (0.35.0)\r\n",
      "Requirement already satisfied: grpcio<2.0,>=1.24.3 in /opt/conda/lib/python3.10/site-packages (from tensorflow==2.8) (1.60.0)\r\n",
      "Requirement already satisfied: Click!=8.0.0,>=7.1 in /opt/conda/lib/python3.10/site-packages (from wandb==0.16) (8.1.7)\r\n",
      "Requirement already satisfied: GitPython!=3.1.29,>=1.0.0 in /opt/conda/lib/python3.10/site-packages (from wandb==0.16) (3.1.41)\r\n",
      "Requirement already satisfied: requests<3,>=2.0.0 in /opt/conda/lib/python3.10/site-packages (from wandb==0.16) (2.31.0)\r\n",
      "Requirement already satisfied: psutil>=5.0.0 in /opt/conda/lib/python3.10/site-packages (from wandb==0.16) (5.9.3)\r\n",
      "Requirement already satisfied: sentry-sdk>=1.0.0 in /opt/conda/lib/python3.10/site-packages (from wandb==0.16) (1.45.0)\r\n",
      "Requirement already satisfied: docker-pycreds>=0.4.0 in /opt/conda/lib/python3.10/site-packages (from wandb==0.16) (0.4.0)\r\n",
      "Requirement already satisfied: PyYAML in /opt/conda/lib/python3.10/site-packages (from wandb==0.16) (6.0.1)\r\n",
      "Requirement already satisfied: setproctitle in /opt/conda/lib/python3.10/site-packages (from wandb==0.16) (1.3.3)\r\n",
      "Requirement already satisfied: appdirs>=1.4.3 in /opt/conda/lib/python3.10/site-packages (from wandb==0.16) (1.4.4)\r\n",
      "Requirement already satisfied: wheel<1.0,>=0.23.0 in /opt/conda/lib/python3.10/site-packages (from astunparse>=1.6.0->tensorflow==2.8) (0.42.0)\r\n",
      "Requirement already satisfied: gitdb<5,>=4.0.1 in /opt/conda/lib/python3.10/site-packages (from GitPython!=3.1.29,>=1.0.0->wandb==0.16) (4.0.11)\r\n",
      "Requirement already satisfied: charset-normalizer<4,>=2 in /opt/conda/lib/python3.10/site-packages (from requests<3,>=2.0.0->wandb==0.16) (3.3.2)\r\n",
      "Requirement already satisfied: idna<4,>=2.5 in /opt/conda/lib/python3.10/site-packages (from requests<3,>=2.0.0->wandb==0.16) (3.6)\r\n",
      "Requirement already satisfied: urllib3<3,>=1.21.1 in /opt/conda/lib/python3.10/site-packages (from requests<3,>=2.0.0->wandb==0.16) (1.26.18)\r\n",
      "Requirement already satisfied: certifi>=2017.4.17 in /opt/conda/lib/python3.10/site-packages (from requests<3,>=2.0.0->wandb==0.16) (2024.2.2)\r\n",
      "Requirement already satisfied: google-auth<3,>=1.6.3 in /opt/conda/lib/python3.10/site-packages (from tensorboard<2.9,>=2.8->tensorflow==2.8) (2.26.1)\r\n",
      "Collecting google-auth-oauthlib<0.5,>=0.4.1 (from tensorboard<2.9,>=2.8->tensorflow==2.8)\r\n",
      "  Downloading google_auth_oauthlib-0.4.6-py2.py3-none-any.whl.metadata (2.7 kB)\r\n",
      "Requirement already satisfied: markdown>=2.6.8 in /opt/conda/lib/python3.10/site-packages (from tensorboard<2.9,>=2.8->tensorflow==2.8) (3.5.2)\r\n",
      "Collecting tensorboard-data-server<0.7.0,>=0.6.0 (from tensorboard<2.9,>=2.8->tensorflow==2.8)\r\n",
      "  Downloading tensorboard_data_server-0.6.1-py3-none-manylinux2010_x86_64.whl.metadata (1.1 kB)\r\n",
      "Collecting tensorboard-plugin-wit>=1.6.0 (from tensorboard<2.9,>=2.8->tensorflow==2.8)\r\n",
      "  Downloading tensorboard_plugin_wit-1.8.1-py3-none-any.whl.metadata (873 bytes)\r\n",
      "Requirement already satisfied: werkzeug>=0.11.15 in /opt/conda/lib/python3.10/site-packages (from tensorboard<2.9,>=2.8->tensorflow==2.8) (3.0.2)\r\n",
      "Requirement already satisfied: smmap<6,>=3.0.1 in /opt/conda/lib/python3.10/site-packages (from gitdb<5,>=4.0.1->GitPython!=3.1.29,>=1.0.0->wandb==0.16) (5.0.1)\r\n",
      "Requirement already satisfied: cachetools<6.0,>=2.0.0 in /opt/conda/lib/python3.10/site-packages (from google-auth<3,>=1.6.3->tensorboard<2.9,>=2.8->tensorflow==2.8) (4.2.4)\r\n",
      "Requirement already satisfied: pyasn1-modules>=0.2.1 in /opt/conda/lib/python3.10/site-packages (from google-auth<3,>=1.6.3->tensorboard<2.9,>=2.8->tensorflow==2.8) (0.3.0)\r\n",
      "Requirement already satisfied: rsa<5,>=3.1.4 in /opt/conda/lib/python3.10/site-packages (from google-auth<3,>=1.6.3->tensorboard<2.9,>=2.8->tensorflow==2.8) (4.9)\r\n",
      "Requirement already satisfied: requests-oauthlib>=0.7.0 in /opt/conda/lib/python3.10/site-packages (from google-auth-oauthlib<0.5,>=0.4.1->tensorboard<2.9,>=2.8->tensorflow==2.8) (1.3.1)\r\n",
      "Requirement already satisfied: MarkupSafe>=2.1.1 in /opt/conda/lib/python3.10/site-packages (from werkzeug>=0.11.15->tensorboard<2.9,>=2.8->tensorflow==2.8) (2.1.3)\r\n",
      "Requirement already satisfied: pyasn1<0.6.0,>=0.4.6 in /opt/conda/lib/python3.10/site-packages (from pyasn1-modules>=0.2.1->google-auth<3,>=1.6.3->tensorboard<2.9,>=2.8->tensorflow==2.8) (0.5.1)\r\n",
      "Requirement already satisfied: oauthlib>=3.0.0 in /opt/conda/lib/python3.10/site-packages (from requests-oauthlib>=0.7.0->google-auth-oauthlib<0.5,>=0.4.1->tensorboard<2.9,>=2.8->tensorflow==2.8) (3.2.2)\r\n",
      "Downloading tensorflow-2.8.0-cp310-cp310-manylinux2010_x86_64.whl (497.6 MB)\r\n",
      "\u001b[2K   \u001b[90m━━━━━━━━━━━━━━━━━━━━━━━━━━━━━━━━━━━━━━━━\u001b[0m \u001b[32m497.6/497.6 MB\u001b[0m \u001b[31m2.8 MB/s\u001b[0m eta \u001b[36m0:00:00\u001b[0m\r\n",
      "\u001b[?25hDownloading wandb-0.16.0-py3-none-any.whl (2.1 MB)\r\n",
      "\u001b[2K   \u001b[90m━━━━━━━━━━━━━━━━━━━━━━━━━━━━━━━━━━━━━━━━\u001b[0m \u001b[32m2.1/2.1 MB\u001b[0m \u001b[31m47.9 MB/s\u001b[0m eta \u001b[36m0:00:00\u001b[0m\r\n",
      "\u001b[?25hDownloading tf_estimator_nightly-2.8.0.dev2021122109-py2.py3-none-any.whl (462 kB)\r\n",
      "\u001b[2K   \u001b[90m━━━━━━━━━━━━━━━━━━━━━━━━━━━━━━━━━━━━━━━━\u001b[0m \u001b[32m462.5/462.5 kB\u001b[0m \u001b[31m20.9 MB/s\u001b[0m eta \u001b[36m0:00:00\u001b[0m\r\n",
      "\u001b[?25hDownloading keras-2.8.0-py2.py3-none-any.whl (1.4 MB)\r\n",
      "\u001b[2K   \u001b[90m━━━━━━━━━━━━━━━━━━━━━━━━━━━━━━━━━━━━━━━━\u001b[0m \u001b[32m1.4/1.4 MB\u001b[0m \u001b[31m44.6 MB/s\u001b[0m eta \u001b[36m0:00:00\u001b[0m\r\n",
      "\u001b[?25hDownloading Keras_Preprocessing-1.1.2-py2.py3-none-any.whl (42 kB)\r\n",
      "\u001b[2K   \u001b[90m━━━━━━━━━━━━━━━━━━━━━━━━━━━━━━━━━━━━━━━━\u001b[0m \u001b[32m42.6/42.6 kB\u001b[0m \u001b[31m2.0 MB/s\u001b[0m eta \u001b[36m0:00:00\u001b[0m\r\n",
      "\u001b[?25hDownloading tensorboard-2.8.0-py3-none-any.whl (5.8 MB)\r\n",
      "\u001b[2K   \u001b[90m━━━━━━━━━━━━━━━━━━━━━━━━━━━━━━━━━━━━━━━━\u001b[0m \u001b[32m5.8/5.8 MB\u001b[0m \u001b[31m67.8 MB/s\u001b[0m eta \u001b[36m0:00:00\u001b[0m\r\n",
      "\u001b[?25hDownloading google_auth_oauthlib-0.4.6-py2.py3-none-any.whl (18 kB)\r\n",
      "Downloading tensorboard_data_server-0.6.1-py3-none-manylinux2010_x86_64.whl (4.9 MB)\r\n",
      "\u001b[2K   \u001b[90m━━━━━━━━━━━━━━━━━━━━━━━━━━━━━━━━━━━━━━━━\u001b[0m \u001b[32m4.9/4.9 MB\u001b[0m \u001b[31m70.1 MB/s\u001b[0m eta \u001b[36m0:00:00\u001b[0m\r\n",
      "\u001b[?25hDownloading tensorboard_plugin_wit-1.8.1-py3-none-any.whl (781 kB)\r\n",
      "\u001b[2K   \u001b[90m━━━━━━━━━━━━━━━━━━━━━━━━━━━━━━━━━━━━━━━━\u001b[0m \u001b[32m781.3/781.3 kB\u001b[0m \u001b[31m28.7 MB/s\u001b[0m eta \u001b[36m0:00:00\u001b[0m\r\n",
      "\u001b[?25hInstalling collected packages: tf-estimator-nightly, tensorboard-plugin-wit, keras, tensorboard-data-server, keras-preprocessing, wandb, google-auth-oauthlib, tensorboard, tensorflow\r\n",
      "  Attempting uninstall: keras\r\n",
      "    Found existing installation: keras 3.2.1\r\n",
      "    Uninstalling keras-3.2.1:\r\n",
      "      Successfully uninstalled keras-3.2.1\r\n",
      "  Attempting uninstall: tensorboard-data-server\r\n",
      "    Found existing installation: tensorboard-data-server 0.7.2\r\n",
      "    Uninstalling tensorboard-data-server-0.7.2:\r\n",
      "      Successfully uninstalled tensorboard-data-server-0.7.2\r\n",
      "  Attempting uninstall: wandb\r\n",
      "    Found existing installation: wandb 0.16.6\r\n",
      "    Uninstalling wandb-0.16.6:\r\n",
      "      Successfully uninstalled wandb-0.16.6\r\n",
      "  Attempting uninstall: google-auth-oauthlib\r\n",
      "    Found existing installation: google-auth-oauthlib 1.2.0\r\n",
      "    Uninstalling google-auth-oauthlib-1.2.0:\r\n",
      "      Successfully uninstalled google-auth-oauthlib-1.2.0\r\n",
      "  Attempting uninstall: tensorboard\r\n",
      "    Found existing installation: tensorboard 2.15.1\r\n",
      "    Uninstalling tensorboard-2.15.1:\r\n",
      "      Successfully uninstalled tensorboard-2.15.1\r\n",
      "  Attempting uninstall: tensorflow\r\n",
      "    Found existing installation: tensorflow 2.15.0\r\n",
      "    Uninstalling tensorflow-2.15.0:\r\n",
      "      Successfully uninstalled tensorflow-2.15.0\r\n",
      "\u001b[31mERROR: pip's dependency resolver does not currently take into account all the packages that are installed. This behaviour is the source of the following dependency conflicts.\r\n",
      "tensorflow-decision-forests 1.8.1 requires wurlitzer, which is not installed.\r\n",
      "tensorflow-decision-forests 1.8.1 requires tensorflow~=2.15.0, but you have tensorflow 2.8.0 which is incompatible.\r\n",
      "tensorflow-serving-api 2.14.1 requires tensorflow<3,>=2.14.1, but you have tensorflow 2.8.0 which is incompatible.\r\n",
      "tensorflow-text 2.15.0 requires tensorflow<2.16,>=2.15.0; platform_machine != \"arm64\" or platform_system != \"Darwin\", but you have tensorflow 2.8.0 which is incompatible.\r\n",
      "tf-keras 2.15.1 requires tensorflow<2.16,>=2.15, but you have tensorflow 2.8.0 which is incompatible.\u001b[0m\u001b[31m\r\n",
      "\u001b[0mSuccessfully installed google-auth-oauthlib-0.4.6 keras-2.8.0 keras-preprocessing-1.1.2 tensorboard-2.8.0 tensorboard-data-server-0.6.1 tensorboard-plugin-wit-1.8.1 tensorflow-2.8.0 tf-estimator-nightly-2.8.0.dev2021122109 wandb-0.16.0\r\n"
     ]
    }
   ],
   "source": [
    "!pip install -U tensorflow==2.8 wandb==0.16"
   ]
  },
  {
   "cell_type": "markdown",
   "id": "db742d6b",
   "metadata": {
    "papermill": {
     "duration": 0.03835,
     "end_time": "2024-05-20T23:25:01.251422",
     "exception": false,
     "start_time": "2024-05-20T23:25:01.213072",
     "status": "completed"
    },
    "tags": []
   },
   "source": [
    "## Enable w&b logging"
   ]
  },
  {
   "cell_type": "code",
   "execution_count": 2,
   "id": "03dd3936",
   "metadata": {
    "execution": {
     "iopub.execute_input": "2024-05-20T23:25:01.338140Z",
     "iopub.status.busy": "2024-05-20T23:25:01.336160Z",
     "iopub.status.idle": "2024-05-20T23:25:05.227001Z",
     "shell.execute_reply": "2024-05-20T23:25:05.225731Z"
    },
    "papermill": {
     "duration": 3.942195,
     "end_time": "2024-05-20T23:25:05.229794",
     "exception": false,
     "start_time": "2024-05-20T23:25:01.287599",
     "status": "completed"
    },
    "tags": []
   },
   "outputs": [
    {
     "name": "stderr",
     "output_type": "stream",
     "text": [
      "\u001b[34m\u001b[1mwandb\u001b[0m: W&B API key is configured. Use \u001b[1m`wandb login --relogin`\u001b[0m to force relogin\n",
      "\u001b[34m\u001b[1mwandb\u001b[0m: \u001b[33mWARNING\u001b[0m If you're specifying your api key in code, ensure this code is not shared publicly.\n",
      "\u001b[34m\u001b[1mwandb\u001b[0m: \u001b[33mWARNING\u001b[0m Consider setting the WANDB_API_KEY environment variable, or running `wandb login` from the command line.\n",
      "\u001b[34m\u001b[1mwandb\u001b[0m: Appending key for api.wandb.ai to your netrc file: /root/.netrc\n"
     ]
    },
    {
     "data": {
      "text/plain": [
       "True"
      ]
     },
     "execution_count": 2,
     "metadata": {},
     "output_type": "execute_result"
    }
   ],
   "source": [
    "import wandb\n",
    "wandb.login(key=\"fd9f24c89ea44085597d8689ee2472b1a6261015\")"
   ]
  },
  {
   "cell_type": "code",
   "execution_count": 3,
   "id": "59685632",
   "metadata": {
    "execution": {
     "iopub.execute_input": "2024-05-20T23:25:05.300365Z",
     "iopub.status.busy": "2024-05-20T23:25:05.299880Z",
     "iopub.status.idle": "2024-05-20T23:25:05.305936Z",
     "shell.execute_reply": "2024-05-20T23:25:05.304851Z"
    },
    "papermill": {
     "duration": 0.045149,
     "end_time": "2024-05-20T23:25:05.308519",
     "exception": false,
     "start_time": "2024-05-20T23:25:05.263370",
     "status": "completed"
    },
    "tags": []
   },
   "outputs": [],
   "source": [
    "config={\n",
    "    \"architecture\": \"Multimodal-JustRad\",\n",
    "    \"input_shape\": (32, 32, 3),\n",
    "    \"epochs\": 50,\n",
    "    \"batch_size\": 32,\n",
    "    \"seed\": 44,\n",
    "    \"use_small_sample\": False,\n",
    "}"
   ]
  },
  {
   "cell_type": "code",
   "execution_count": 4,
   "id": "667b02bc",
   "metadata": {
    "execution": {
     "iopub.execute_input": "2024-05-20T23:25:05.380745Z",
     "iopub.status.busy": "2024-05-20T23:25:05.379978Z",
     "iopub.status.idle": "2024-05-20T23:25:35.846475Z",
     "shell.execute_reply": "2024-05-20T23:25:35.845603Z"
    },
    "papermill": {
     "duration": 30.533644,
     "end_time": "2024-05-20T23:25:35.877820",
     "exception": false,
     "start_time": "2024-05-20T23:25:05.344176",
     "status": "completed"
    },
    "tags": []
   },
   "outputs": [
    {
     "name": "stderr",
     "output_type": "stream",
     "text": [
      "\u001b[34m\u001b[1mwandb\u001b[0m: Currently logged in as: \u001b[33mm-lechow13\u001b[0m (\u001b[33mbudalema\u001b[0m). Use \u001b[1m`wandb login --relogin`\u001b[0m to force relogin\n",
      "\u001b[34m\u001b[1mwandb\u001b[0m: wandb version 0.17.0 is available!  To upgrade, please run:\n",
      "\u001b[34m\u001b[1mwandb\u001b[0m:  $ pip install wandb --upgrade\n",
      "\u001b[34m\u001b[1mwandb\u001b[0m: Tracking run with wandb version 0.16.0\n",
      "\u001b[34m\u001b[1mwandb\u001b[0m: Run data is saved locally in \u001b[35m\u001b[1m/kaggle/working/wandb/run-20240520_232505-7hqckdgz\u001b[0m\n",
      "\u001b[34m\u001b[1mwandb\u001b[0m: Run \u001b[1m`wandb offline`\u001b[0m to turn off syncing.\n",
      "\u001b[34m\u001b[1mwandb\u001b[0m: Syncing run \u001b[33msuper-spaceship-109\u001b[0m\n",
      "\u001b[34m\u001b[1mwandb\u001b[0m: ⭐️ View project at \u001b[34m\u001b[4mhttps://wandb.ai/budalema/ai-detection\u001b[0m\n",
      "\u001b[34m\u001b[1mwandb\u001b[0m: 🚀 View run at \u001b[34m\u001b[4mhttps://wandb.ai/budalema/ai-detection/runs/7hqckdgz\u001b[0m\n"
     ]
    },
    {
     "data": {
      "text/html": [
       "<button onClick=\"this.nextSibling.style.display='block';this.style.display='none';\">Display W&B run</button><iframe src='https://wandb.ai/budalema/ai-detection/runs/7hqckdgz?jupyter=true' style='border:none;width:100%;height:420px;display:none;'></iframe>"
      ],
      "text/plain": [
       "<wandb.sdk.wandb_run.Run at 0x7c172efc8640>"
      ]
     },
     "execution_count": 4,
     "metadata": {},
     "output_type": "execute_result"
    }
   ],
   "source": [
    "wandb.init(\n",
    "    # set the wandb project where this run will be logged\n",
    "    project=\"ai-detection\",\n",
    "\n",
    "    # track hyperparameters and run metadata with wandb.config\n",
    "    config=config\n",
    ")"
   ]
  },
  {
   "cell_type": "markdown",
   "id": "7b28916e",
   "metadata": {
    "papermill": {
     "duration": 0.033593,
     "end_time": "2024-05-20T23:25:35.945410",
     "exception": false,
     "start_time": "2024-05-20T23:25:35.911817",
     "status": "completed"
    },
    "tags": []
   },
   "source": [
    "## Set seed for reproducability"
   ]
  },
  {
   "cell_type": "code",
   "execution_count": 5,
   "id": "6b2a9b2f",
   "metadata": {
    "execution": {
     "iopub.execute_input": "2024-05-20T23:25:36.014313Z",
     "iopub.status.busy": "2024-05-20T23:25:36.013924Z",
     "iopub.status.idle": "2024-05-20T23:25:42.974718Z",
     "shell.execute_reply": "2024-05-20T23:25:42.973664Z"
    },
    "papermill": {
     "duration": 7.000904,
     "end_time": "2024-05-20T23:25:42.978408",
     "exception": false,
     "start_time": "2024-05-20T23:25:35.977504",
     "status": "completed"
    },
    "tags": []
   },
   "outputs": [],
   "source": [
    "import numpy as np\n",
    "import tensorflow as tf\n",
    "\n",
    "SEED = config[\"seed\"]\n",
    "\n",
    "# Set random seed for NumPy\n",
    "np.random.seed(SEED)\n",
    "\n",
    "# Set random seed for TensorFlow\n",
    "tf.random.set_seed(SEED)"
   ]
  },
  {
   "cell_type": "code",
   "execution_count": 6,
   "id": "6af4ac71",
   "metadata": {
    "execution": {
     "iopub.execute_input": "2024-05-20T23:25:43.061192Z",
     "iopub.status.busy": "2024-05-20T23:25:43.059462Z",
     "iopub.status.idle": "2024-05-20T23:25:43.068054Z",
     "shell.execute_reply": "2024-05-20T23:25:43.066930Z"
    },
    "papermill": {
     "duration": 0.047482,
     "end_time": "2024-05-20T23:25:43.070473",
     "exception": false,
     "start_time": "2024-05-20T23:25:43.022991",
     "status": "completed"
    },
    "tags": []
   },
   "outputs": [
    {
     "name": "stdout",
     "output_type": "stream",
     "text": [
      "['cifake-rgb-radiomic-features', 'cifake-real-and-ai-generated-synthetic-images']\n"
     ]
    }
   ],
   "source": [
    "import os\n",
    "\n",
    "print(os.listdir(\"/kaggle/input\"))"
   ]
  },
  {
   "cell_type": "markdown",
   "id": "b37b4c5b",
   "metadata": {
    "papermill": {
     "duration": 0.03528,
     "end_time": "2024-05-20T23:25:43.139207",
     "exception": false,
     "start_time": "2024-05-20T23:25:43.103927",
     "status": "completed"
    },
    "tags": []
   },
   "source": [
    "## Import data"
   ]
  },
  {
   "cell_type": "code",
   "execution_count": 7,
   "id": "33daa571",
   "metadata": {
    "execution": {
     "iopub.execute_input": "2024-05-20T23:25:43.241852Z",
     "iopub.status.busy": "2024-05-20T23:25:43.239494Z",
     "iopub.status.idle": "2024-05-20T23:27:37.932349Z",
     "shell.execute_reply": "2024-05-20T23:27:37.930802Z"
    },
    "papermill": {
     "duration": 114.750869,
     "end_time": "2024-05-20T23:27:37.935295",
     "exception": false,
     "start_time": "2024-05-20T23:25:43.184426",
     "status": "completed"
    },
    "tags": []
   },
   "outputs": [
    {
     "name": "stdout",
     "output_type": "stream",
     "text": [
      "Found 100000 files belonging to 2 classes.\n",
      "Found 20000 files belonging to 2 classes.\n"
     ]
    }
   ],
   "source": [
    "image_path_train = \"/kaggle/input/cifake-real-and-ai-generated-synthetic-images/train\"\n",
    "\n",
    "IMAGE_SIZE = (config[\"input_shape\"][0], config[\"input_shape\"][1])\n",
    "BATCH_SIZE = None # do not batch - we want to perform shuffle\n",
    "\n",
    "image_dataset_train = tf.keras.utils.image_dataset_from_directory(\n",
    "    directory=image_path_train,\n",
    "    batch_size=BATCH_SIZE,\n",
    "    image_size=IMAGE_SIZE,\n",
    "    label_mode='categorical',\n",
    "#     subset='training',\n",
    "#     validation_split=0.1,\n",
    "    seed=config[\"seed\"],\n",
    "    shuffle=False\n",
    ")\n",
    "\n",
    "# validation_dataset = tf.keras.utils.image_dataset_from_directory(\n",
    "#     directory=image_path_train,\n",
    "#     batch_size=BATCH_SIZE,\n",
    "#     image_size=IMAGE_SIZE,\n",
    "#     label_mode='categorical',\n",
    "#     subset='validation',\n",
    "#     validation_split=0.1,\n",
    "#     seed=config[\"seed\"],\n",
    "# )\n",
    "\n",
    "image_path_test = \"/kaggle/input/cifake-real-and-ai-generated-synthetic-images/test\"\n",
    "\n",
    "image_dataset_test = tf.keras.utils.image_dataset_from_directory(\n",
    "    directory=image_path_test,\n",
    "    batch_size=BATCH_SIZE,\n",
    "    image_size=IMAGE_SIZE,\n",
    "    label_mode='categorical',\n",
    "    shuffle=False,\n",
    ")"
   ]
  },
  {
   "cell_type": "code",
   "execution_count": 8,
   "id": "8e3f4403",
   "metadata": {
    "execution": {
     "iopub.execute_input": "2024-05-20T23:27:38.006137Z",
     "iopub.status.busy": "2024-05-20T23:27:38.004312Z",
     "iopub.status.idle": "2024-05-20T23:27:38.014024Z",
     "shell.execute_reply": "2024-05-20T23:27:38.012158Z"
    },
    "papermill": {
     "duration": 0.048522,
     "end_time": "2024-05-20T23:27:38.017306",
     "exception": false,
     "start_time": "2024-05-20T23:27:37.968784",
     "status": "completed"
    },
    "tags": []
   },
   "outputs": [
    {
     "name": "stdout",
     "output_type": "stream",
     "text": [
      "Class Encoding: ['FAKE', 'REAL']\n"
     ]
    }
   ],
   "source": [
    "# Get the class encoding from the generator\n",
    "class_encoding = image_dataset_train.class_names\n",
    "\n",
    "# Print the class encoding\n",
    "print(\"Class Encoding:\", class_encoding)"
   ]
  },
  {
   "cell_type": "code",
   "execution_count": 9,
   "id": "b5eb4fa4",
   "metadata": {
    "execution": {
     "iopub.execute_input": "2024-05-20T23:27:38.084794Z",
     "iopub.status.busy": "2024-05-20T23:27:38.084318Z",
     "iopub.status.idle": "2024-05-20T23:30:49.489715Z",
     "shell.execute_reply": "2024-05-20T23:30:49.487687Z"
    },
    "papermill": {
     "duration": 191.443943,
     "end_time": "2024-05-20T23:30:49.493699",
     "exception": false,
     "start_time": "2024-05-20T23:27:38.049756",
     "status": "completed"
    },
    "tags": []
   },
   "outputs": [],
   "source": [
    "import pandas as pd\n",
    "df = pd.read_csv(\"/kaggle/input/cifake-rgb-radiomic-features/RGB_train_features.csv\", index_col=0)\n",
    "df_test = pd.read_csv(\"/kaggle/input/cifake-rgb-radiomic-features/RGB_test_features.csv\", index_col=0)"
   ]
  },
  {
   "cell_type": "code",
   "execution_count": 10,
   "id": "b0dbc34e",
   "metadata": {
    "execution": {
     "iopub.execute_input": "2024-05-20T23:30:49.563820Z",
     "iopub.status.busy": "2024-05-20T23:30:49.563343Z",
     "iopub.status.idle": "2024-05-20T23:30:49.576756Z",
     "shell.execute_reply": "2024-05-20T23:30:49.575211Z"
    },
    "papermill": {
     "duration": 0.050437,
     "end_time": "2024-05-20T23:30:49.579590",
     "exception": false,
     "start_time": "2024-05-20T23:30:49.529153",
     "status": "completed"
    },
    "tags": []
   },
   "outputs": [],
   "source": [
    "def drop_columns(df, drop_only_diagnostic=False):\n",
    "    for column in df.columns:\n",
    "        if df[column].min() == df[column].max() and not drop_only_diagnostic:\n",
    "            df.drop(column, axis=1, inplace=True)\n",
    "        elif 'diagnostics' in column:\n",
    "            df.drop(column, axis=1, inplace=True)\n",
    "        elif 'Mask' in column:\n",
    "            df.drop(column, axis=1, inplace=True)\n",
    "            \n",
    "def preprocess_dataset(df, **kwargs):\n",
    "    # print indexes and image names of rows with NaN values\n",
    "    nans = df[df.isnull().any(axis=1)]['Image'].apply(lambda x : x.split('/')[-1])\n",
    "    if not nans.empty:\n",
    "        print(f\"Rows with NaN values:\")\n",
    "        print(nans)\n",
    "    df.dropna(inplace=True)  \n",
    "    drop_columns(df, **kwargs)\n",
    "    \n",
    "def unify_columns(base_columns, df):\n",
    "    # drop columns that are not in base_columns\n",
    "    to_drop = list()\n",
    "    for column in df.columns:\n",
    "        if column not in base_columns:\n",
    "            to_drop.append(column)\n",
    "            \n",
    "    df.drop(to_drop, axis=1, inplace=True)"
   ]
  },
  {
   "cell_type": "code",
   "execution_count": 11,
   "id": "cc9d2f0b",
   "metadata": {
    "execution": {
     "iopub.execute_input": "2024-05-20T23:30:49.651024Z",
     "iopub.status.busy": "2024-05-20T23:30:49.649640Z",
     "iopub.status.idle": "2024-05-20T23:31:56.570909Z",
     "shell.execute_reply": "2024-05-20T23:31:56.569442Z"
    },
    "papermill": {
     "duration": 66.961347,
     "end_time": "2024-05-20T23:31:56.574098",
     "exception": false,
     "start_time": "2024-05-20T23:30:49.612751",
     "status": "completed"
    },
    "tags": []
   },
   "outputs": [],
   "source": [
    "from sklearn.model_selection import train_test_split\n",
    "\n",
    "preprocess_dataset(df, drop_only_diagnostic=True)\n",
    "preprocess_dataset(df_test, drop_only_diagnostic=True)\n",
    "\n",
    "X = df.drop('Category', axis=1)\n",
    "y = df['Category']\n",
    "\n",
    "Image = X['Image']\n",
    "X = X.drop('Image', axis=1)"
   ]
  },
  {
   "cell_type": "code",
   "execution_count": 12,
   "id": "d8947658",
   "metadata": {
    "execution": {
     "iopub.execute_input": "2024-05-20T23:31:56.758541Z",
     "iopub.status.busy": "2024-05-20T23:31:56.758118Z",
     "iopub.status.idle": "2024-05-20T23:31:56.797599Z",
     "shell.execute_reply": "2024-05-20T23:31:56.796352Z"
    },
    "papermill": {
     "duration": 0.193306,
     "end_time": "2024-05-20T23:31:56.800296",
     "exception": false,
     "start_time": "2024-05-20T23:31:56.606990",
     "status": "completed"
    },
    "tags": []
   },
   "outputs": [
    {
     "data": {
      "text/html": [
       "<div>\n",
       "<style scoped>\n",
       "    .dataframe tbody tr th:only-of-type {\n",
       "        vertical-align: middle;\n",
       "    }\n",
       "\n",
       "    .dataframe tbody tr th {\n",
       "        vertical-align: top;\n",
       "    }\n",
       "\n",
       "    .dataframe thead th {\n",
       "        text-align: right;\n",
       "    }\n",
       "</style>\n",
       "<table border=\"1\" class=\"dataframe\">\n",
       "  <thead>\n",
       "    <tr style=\"text-align: right;\">\n",
       "      <th></th>\n",
       "      <th>R_original_shape2D_Elongation</th>\n",
       "      <th>R_original_shape2D_MajorAxisLength</th>\n",
       "      <th>R_original_shape2D_MaximumDiameter</th>\n",
       "      <th>R_original_shape2D_MeshSurface</th>\n",
       "      <th>R_original_shape2D_MinorAxisLength</th>\n",
       "      <th>R_original_shape2D_Perimeter</th>\n",
       "      <th>R_original_shape2D_PerimeterSurfaceRatio</th>\n",
       "      <th>R_original_shape2D_PixelSurface</th>\n",
       "      <th>R_original_shape2D_Sphericity</th>\n",
       "      <th>R_original_firstorder_10Percentile</th>\n",
       "      <th>...</th>\n",
       "      <th>B_lbp-2D_gldm_LargeDependenceLowGrayLevelEmphasis</th>\n",
       "      <th>B_lbp-2D_gldm_LowGrayLevelEmphasis</th>\n",
       "      <th>B_lbp-2D_gldm_SmallDependenceEmphasis</th>\n",
       "      <th>B_lbp-2D_gldm_SmallDependenceHighGrayLevelEmphasis</th>\n",
       "      <th>B_lbp-2D_gldm_SmallDependenceLowGrayLevelEmphasis</th>\n",
       "      <th>B_lbp-2D_ngtdm_Busyness</th>\n",
       "      <th>B_lbp-2D_ngtdm_Coarseness</th>\n",
       "      <th>B_lbp-2D_ngtdm_Complexity</th>\n",
       "      <th>B_lbp-2D_ngtdm_Contrast</th>\n",
       "      <th>B_lbp-2D_ngtdm_Strength</th>\n",
       "    </tr>\n",
       "  </thead>\n",
       "  <tbody>\n",
       "    <tr>\n",
       "      <th>0</th>\n",
       "      <td>1.0</td>\n",
       "      <td>36.932371</td>\n",
       "      <td>44.553339</td>\n",
       "      <td>1023.5</td>\n",
       "      <td>36.932371</td>\n",
       "      <td>126.828427</td>\n",
       "      <td>0.123916</td>\n",
       "      <td>1024.0</td>\n",
       "      <td>0.894195</td>\n",
       "      <td>-118.333224</td>\n",
       "      <td>...</td>\n",
       "      <td>8.6875</td>\n",
       "      <td>1.0</td>\n",
       "      <td>0.119792</td>\n",
       "      <td>0.119792</td>\n",
       "      <td>0.119792</td>\n",
       "      <td>0.0</td>\n",
       "      <td>1000000.0</td>\n",
       "      <td>0.0</td>\n",
       "      <td>0.0</td>\n",
       "      <td>0.0</td>\n",
       "    </tr>\n",
       "    <tr>\n",
       "      <th>1</th>\n",
       "      <td>1.0</td>\n",
       "      <td>36.932371</td>\n",
       "      <td>44.553339</td>\n",
       "      <td>1023.5</td>\n",
       "      <td>36.932371</td>\n",
       "      <td>126.828427</td>\n",
       "      <td>0.123916</td>\n",
       "      <td>1024.0</td>\n",
       "      <td>0.894195</td>\n",
       "      <td>-153.391086</td>\n",
       "      <td>...</td>\n",
       "      <td>8.6875</td>\n",
       "      <td>1.0</td>\n",
       "      <td>0.119792</td>\n",
       "      <td>0.119792</td>\n",
       "      <td>0.119792</td>\n",
       "      <td>0.0</td>\n",
       "      <td>1000000.0</td>\n",
       "      <td>0.0</td>\n",
       "      <td>0.0</td>\n",
       "      <td>0.0</td>\n",
       "    </tr>\n",
       "    <tr>\n",
       "      <th>2</th>\n",
       "      <td>1.0</td>\n",
       "      <td>36.932371</td>\n",
       "      <td>44.553339</td>\n",
       "      <td>1023.5</td>\n",
       "      <td>36.932371</td>\n",
       "      <td>126.828427</td>\n",
       "      <td>0.123916</td>\n",
       "      <td>1024.0</td>\n",
       "      <td>0.894195</td>\n",
       "      <td>-173.356861</td>\n",
       "      <td>...</td>\n",
       "      <td>8.6875</td>\n",
       "      <td>1.0</td>\n",
       "      <td>0.119792</td>\n",
       "      <td>0.119792</td>\n",
       "      <td>0.119792</td>\n",
       "      <td>0.0</td>\n",
       "      <td>1000000.0</td>\n",
       "      <td>0.0</td>\n",
       "      <td>0.0</td>\n",
       "      <td>0.0</td>\n",
       "    </tr>\n",
       "    <tr>\n",
       "      <th>3</th>\n",
       "      <td>1.0</td>\n",
       "      <td>36.932371</td>\n",
       "      <td>44.553339</td>\n",
       "      <td>1023.5</td>\n",
       "      <td>36.932371</td>\n",
       "      <td>126.828427</td>\n",
       "      <td>0.123916</td>\n",
       "      <td>1024.0</td>\n",
       "      <td>0.894195</td>\n",
       "      <td>-132.478270</td>\n",
       "      <td>...</td>\n",
       "      <td>8.6875</td>\n",
       "      <td>1.0</td>\n",
       "      <td>0.119792</td>\n",
       "      <td>0.119792</td>\n",
       "      <td>0.119792</td>\n",
       "      <td>0.0</td>\n",
       "      <td>1000000.0</td>\n",
       "      <td>0.0</td>\n",
       "      <td>0.0</td>\n",
       "      <td>0.0</td>\n",
       "    </tr>\n",
       "    <tr>\n",
       "      <th>4</th>\n",
       "      <td>1.0</td>\n",
       "      <td>36.932371</td>\n",
       "      <td>44.553339</td>\n",
       "      <td>1023.5</td>\n",
       "      <td>36.932371</td>\n",
       "      <td>126.828427</td>\n",
       "      <td>0.123916</td>\n",
       "      <td>1024.0</td>\n",
       "      <td>0.894195</td>\n",
       "      <td>-129.649860</td>\n",
       "      <td>...</td>\n",
       "      <td>8.6875</td>\n",
       "      <td>1.0</td>\n",
       "      <td>0.119792</td>\n",
       "      <td>0.119792</td>\n",
       "      <td>0.119792</td>\n",
       "      <td>0.0</td>\n",
       "      <td>1000000.0</td>\n",
       "      <td>0.0</td>\n",
       "      <td>0.0</td>\n",
       "      <td>0.0</td>\n",
       "    </tr>\n",
       "  </tbody>\n",
       "</table>\n",
       "<p>5 rows × 2484 columns</p>\n",
       "</div>"
      ],
      "text/plain": [
       "   R_original_shape2D_Elongation  R_original_shape2D_MajorAxisLength  \\\n",
       "0                            1.0                           36.932371   \n",
       "1                            1.0                           36.932371   \n",
       "2                            1.0                           36.932371   \n",
       "3                            1.0                           36.932371   \n",
       "4                            1.0                           36.932371   \n",
       "\n",
       "   R_original_shape2D_MaximumDiameter  R_original_shape2D_MeshSurface  \\\n",
       "0                           44.553339                          1023.5   \n",
       "1                           44.553339                          1023.5   \n",
       "2                           44.553339                          1023.5   \n",
       "3                           44.553339                          1023.5   \n",
       "4                           44.553339                          1023.5   \n",
       "\n",
       "   R_original_shape2D_MinorAxisLength  R_original_shape2D_Perimeter  \\\n",
       "0                           36.932371                    126.828427   \n",
       "1                           36.932371                    126.828427   \n",
       "2                           36.932371                    126.828427   \n",
       "3                           36.932371                    126.828427   \n",
       "4                           36.932371                    126.828427   \n",
       "\n",
       "   R_original_shape2D_PerimeterSurfaceRatio  R_original_shape2D_PixelSurface  \\\n",
       "0                                  0.123916                           1024.0   \n",
       "1                                  0.123916                           1024.0   \n",
       "2                                  0.123916                           1024.0   \n",
       "3                                  0.123916                           1024.0   \n",
       "4                                  0.123916                           1024.0   \n",
       "\n",
       "   R_original_shape2D_Sphericity  R_original_firstorder_10Percentile  ...  \\\n",
       "0                       0.894195                         -118.333224  ...   \n",
       "1                       0.894195                         -153.391086  ...   \n",
       "2                       0.894195                         -173.356861  ...   \n",
       "3                       0.894195                         -132.478270  ...   \n",
       "4                       0.894195                         -129.649860  ...   \n",
       "\n",
       "   B_lbp-2D_gldm_LargeDependenceLowGrayLevelEmphasis  \\\n",
       "0                                             8.6875   \n",
       "1                                             8.6875   \n",
       "2                                             8.6875   \n",
       "3                                             8.6875   \n",
       "4                                             8.6875   \n",
       "\n",
       "   B_lbp-2D_gldm_LowGrayLevelEmphasis  B_lbp-2D_gldm_SmallDependenceEmphasis  \\\n",
       "0                                 1.0                               0.119792   \n",
       "1                                 1.0                               0.119792   \n",
       "2                                 1.0                               0.119792   \n",
       "3                                 1.0                               0.119792   \n",
       "4                                 1.0                               0.119792   \n",
       "\n",
       "   B_lbp-2D_gldm_SmallDependenceHighGrayLevelEmphasis  \\\n",
       "0                                           0.119792    \n",
       "1                                           0.119792    \n",
       "2                                           0.119792    \n",
       "3                                           0.119792    \n",
       "4                                           0.119792    \n",
       "\n",
       "   B_lbp-2D_gldm_SmallDependenceLowGrayLevelEmphasis  B_lbp-2D_ngtdm_Busyness  \\\n",
       "0                                           0.119792                      0.0   \n",
       "1                                           0.119792                      0.0   \n",
       "2                                           0.119792                      0.0   \n",
       "3                                           0.119792                      0.0   \n",
       "4                                           0.119792                      0.0   \n",
       "\n",
       "   B_lbp-2D_ngtdm_Coarseness  B_lbp-2D_ngtdm_Complexity  \\\n",
       "0                  1000000.0                        0.0   \n",
       "1                  1000000.0                        0.0   \n",
       "2                  1000000.0                        0.0   \n",
       "3                  1000000.0                        0.0   \n",
       "4                  1000000.0                        0.0   \n",
       "\n",
       "   B_lbp-2D_ngtdm_Contrast  B_lbp-2D_ngtdm_Strength  \n",
       "0                      0.0                      0.0  \n",
       "1                      0.0                      0.0  \n",
       "2                      0.0                      0.0  \n",
       "3                      0.0                      0.0  \n",
       "4                      0.0                      0.0  \n",
       "\n",
       "[5 rows x 2484 columns]"
      ]
     },
     "execution_count": 12,
     "metadata": {},
     "output_type": "execute_result"
    }
   ],
   "source": [
    "X.head()"
   ]
  },
  {
   "cell_type": "code",
   "execution_count": 13,
   "id": "c511a196",
   "metadata": {
    "execution": {
     "iopub.execute_input": "2024-05-20T23:31:56.874261Z",
     "iopub.status.busy": "2024-05-20T23:31:56.873876Z",
     "iopub.status.idle": "2024-05-20T23:31:56.882101Z",
     "shell.execute_reply": "2024-05-20T23:31:56.880810Z"
    },
    "papermill": {
     "duration": 0.047198,
     "end_time": "2024-05-20T23:31:56.884515",
     "exception": false,
     "start_time": "2024-05-20T23:31:56.837317",
     "status": "completed"
    },
    "tags": []
   },
   "outputs": [
    {
     "name": "stdout",
     "output_type": "stream",
     "text": [
      "Index([], dtype='object')\n"
     ]
    }
   ],
   "source": [
    "non_float_columns = X.select_dtypes(exclude=['float']).columns\n",
    "print(non_float_columns)"
   ]
  },
  {
   "cell_type": "code",
   "execution_count": 14,
   "id": "c4751c53",
   "metadata": {
    "execution": {
     "iopub.execute_input": "2024-05-20T23:31:56.957616Z",
     "iopub.status.busy": "2024-05-20T23:31:56.956876Z",
     "iopub.status.idle": "2024-05-20T23:32:01.196206Z",
     "shell.execute_reply": "2024-05-20T23:32:01.194918Z"
    },
    "papermill": {
     "duration": 4.281107,
     "end_time": "2024-05-20T23:32:01.199060",
     "exception": false,
     "start_time": "2024-05-20T23:31:56.917953",
     "status": "completed"
    },
    "tags": []
   },
   "outputs": [],
   "source": [
    "X_tensor = tf.convert_to_tensor(X)\n",
    "X_tensor = tf.expand_dims(X_tensor, axis=0)\n",
    "X_tensor = tf.reshape(X_tensor, (-1, 1, X.shape[1]))\n",
    "# tf.reshape(X_tensor, [32, tf.size(X_tensor[0])])\n",
    "tabular_dataset = tf.data.Dataset.from_tensor_slices(X_tensor)"
   ]
  },
  {
   "cell_type": "code",
   "execution_count": 15,
   "id": "c82ff101",
   "metadata": {
    "execution": {
     "iopub.execute_input": "2024-05-20T23:32:01.271139Z",
     "iopub.status.busy": "2024-05-20T23:32:01.270398Z",
     "iopub.status.idle": "2024-05-20T23:32:01.277873Z",
     "shell.execute_reply": "2024-05-20T23:32:01.276702Z"
    },
    "papermill": {
     "duration": 0.046589,
     "end_time": "2024-05-20T23:32:01.280481",
     "exception": false,
     "start_time": "2024-05-20T23:32:01.233892",
     "status": "completed"
    },
    "tags": []
   },
   "outputs": [
    {
     "data": {
      "text/plain": [
       "<TensorSliceDataset element_spec=TensorSpec(shape=(1, 2484), dtype=tf.float64, name=None)>"
      ]
     },
     "execution_count": 15,
     "metadata": {},
     "output_type": "execute_result"
    }
   ],
   "source": [
    "tabular_dataset"
   ]
  },
  {
   "cell_type": "code",
   "execution_count": 16,
   "id": "91f7dbdc",
   "metadata": {
    "execution": {
     "iopub.execute_input": "2024-05-20T23:32:01.352758Z",
     "iopub.status.busy": "2024-05-20T23:32:01.351473Z",
     "iopub.status.idle": "2024-05-20T23:32:01.359379Z",
     "shell.execute_reply": "2024-05-20T23:32:01.358108Z"
    },
    "papermill": {
     "duration": 0.047962,
     "end_time": "2024-05-20T23:32:01.362097",
     "exception": false,
     "start_time": "2024-05-20T23:32:01.314135",
     "status": "completed"
    },
    "tags": []
   },
   "outputs": [
    {
     "data": {
      "text/plain": [
       "<PrefetchDataset element_spec=(TensorSpec(shape=(32, 32, 3), dtype=tf.float32, name=None), TensorSpec(shape=(2,), dtype=tf.float32, name=None))>"
      ]
     },
     "execution_count": 16,
     "metadata": {},
     "output_type": "execute_result"
    }
   ],
   "source": [
    "image_dataset_train"
   ]
  },
  {
   "cell_type": "code",
   "execution_count": 17,
   "id": "30da1bdc",
   "metadata": {
    "execution": {
     "iopub.execute_input": "2024-05-20T23:32:01.435319Z",
     "iopub.status.busy": "2024-05-20T23:32:01.434657Z",
     "iopub.status.idle": "2024-05-20T23:32:01.489548Z",
     "shell.execute_reply": "2024-05-20T23:32:01.488455Z"
    },
    "papermill": {
     "duration": 0.096157,
     "end_time": "2024-05-20T23:32:01.492170",
     "exception": false,
     "start_time": "2024-05-20T23:32:01.396013",
     "status": "completed"
    },
    "tags": []
   },
   "outputs": [
    {
     "data": {
      "text/plain": [
       "<ZipDataset element_spec=((TensorSpec(shape=(32, 32, 3), dtype=tf.float32, name=None), TensorSpec(shape=(1, 2484), dtype=tf.float64, name=None)), TensorSpec(shape=(2,), dtype=tf.float32, name=None))>"
      ]
     },
     "execution_count": 17,
     "metadata": {},
     "output_type": "execute_result"
    }
   ],
   "source": [
    "# Merge datasets\n",
    "images = image_dataset_train.map(lambda x, y : x)\n",
    "labels = image_dataset_train.map(lambda x, y : y)\n",
    "joint_dataset = tf.data.Dataset.zip(((images, tabular_dataset), labels))\n",
    "joint_dataset"
   ]
  },
  {
   "cell_type": "code",
   "execution_count": 18,
   "id": "e6829a51",
   "metadata": {
    "execution": {
     "iopub.execute_input": "2024-05-20T23:32:01.562739Z",
     "iopub.status.busy": "2024-05-20T23:32:01.561513Z",
     "iopub.status.idle": "2024-05-20T23:32:01.577240Z",
     "shell.execute_reply": "2024-05-20T23:32:01.576306Z"
    },
    "papermill": {
     "duration": 0.054071,
     "end_time": "2024-05-20T23:32:01.580131",
     "exception": false,
     "start_time": "2024-05-20T23:32:01.526060",
     "status": "completed"
    },
    "tags": []
   },
   "outputs": [
    {
     "name": "stdout",
     "output_type": "stream",
     "text": [
      "2813\n",
      "312\n"
     ]
    }
   ],
   "source": [
    "# Define the total size of your dataset\n",
    "total_size = len(joint_dataset)\n",
    "\n",
    "# Define the size of the validation set (e.g., 20%)\n",
    "validation_size = int(0.1 * total_size)\n",
    "\n",
    "# Shuffle the dataset\n",
    "dataset_shuffled = joint_dataset.shuffle(buffer_size=total_size, seed=config[\"seed\"])\n",
    "dataset_shuffled = dataset_shuffled.batch(config[\"batch_size\"])\n",
    "\n",
    "# Define the total size of your dataset\n",
    "total_size = len(dataset_shuffled)\n",
    "\n",
    "# Define the size of the validation set (e.g., 20%)\n",
    "validation_size = int(0.1 * total_size)\n",
    "\n",
    "# Split the dataset into training and validation sets\n",
    "validation_dataset = dataset_shuffled.take(validation_size)\n",
    "train_dataset = dataset_shuffled.skip(validation_size)\n",
    "\n",
    "print(int(train_dataset.cardinality()))\n",
    "print(int(validation_dataset.cardinality()))"
   ]
  },
  {
   "cell_type": "markdown",
   "id": "8dff6e2c",
   "metadata": {
    "papermill": {
     "duration": 0.034779,
     "end_time": "2024-05-20T23:32:01.651107",
     "exception": false,
     "start_time": "2024-05-20T23:32:01.616328",
     "status": "completed"
    },
    "tags": []
   },
   "source": [
    "## Load and show sample image"
   ]
  },
  {
   "cell_type": "code",
   "execution_count": 19,
   "id": "4e91e8e7",
   "metadata": {
    "execution": {
     "iopub.execute_input": "2024-05-20T23:32:01.721827Z",
     "iopub.status.busy": "2024-05-20T23:32:01.720977Z",
     "iopub.status.idle": "2024-05-20T23:32:01.730062Z",
     "shell.execute_reply": "2024-05-20T23:32:01.728727Z"
    },
    "papermill": {
     "duration": 0.048667,
     "end_time": "2024-05-20T23:32:01.733757",
     "exception": false,
     "start_time": "2024-05-20T23:32:01.685090",
     "status": "completed"
    },
    "tags": []
   },
   "outputs": [
    {
     "data": {
      "text/plain": [
       "<TakeDataset element_spec=((TensorSpec(shape=(None, 32, 32, 3), dtype=tf.float32, name=None), TensorSpec(shape=(None, 1, 2484), dtype=tf.float64, name=None)), TensorSpec(shape=(None, 2), dtype=tf.float32, name=None))>"
      ]
     },
     "execution_count": 19,
     "metadata": {},
     "output_type": "execute_result"
    }
   ],
   "source": [
    "# Retrieve a batch of data from the generator\n",
    "first_element = train_dataset.take(1)\n",
    "first_element"
   ]
  },
  {
   "cell_type": "code",
   "execution_count": 20,
   "id": "10ccf8a2",
   "metadata": {
    "execution": {
     "iopub.execute_input": "2024-05-20T23:32:01.804767Z",
     "iopub.status.busy": "2024-05-20T23:32:01.804303Z",
     "iopub.status.idle": "2024-05-20T23:35:42.825905Z",
     "shell.execute_reply": "2024-05-20T23:35:42.824560Z"
    },
    "papermill": {
     "duration": 221.098843,
     "end_time": "2024-05-20T23:35:42.866429",
     "exception": false,
     "start_time": "2024-05-20T23:32:01.767586",
     "status": "completed"
    },
    "tags": []
   },
   "outputs": [
    {
     "data": {
      "image/png": "[encoded data removed]",
      "text/plain": [
       "<Figure size 640x480 with 1 Axes>"
      ]
     },
     "metadata": {},
     "output_type": "display_data"
    }
   ],
   "source": [
    "import matplotlib.pyplot as plt\n",
    "\n",
    "# Extract images and labels from the first element\n",
    "x, labels = next(iter(first_element))\n",
    "images, tabular_data = x\n",
    "\n",
    "plt.imshow(images[0].numpy().squeeze().astype(\"uint8\"))\n",
    "plt.title(f\"Class: {image_dataset_train.class_names[labels[0].numpy().argmax()]}\")\n",
    "#     plt.axis('off')\n",
    "plt.show()"
   ]
  },
  {
   "cell_type": "code",
   "execution_count": 21,
   "id": "51245ea7",
   "metadata": {
    "execution": {
     "iopub.execute_input": "2024-05-20T23:35:42.940097Z",
     "iopub.status.busy": "2024-05-20T23:35:42.939644Z",
     "iopub.status.idle": "2024-05-20T23:35:42.950286Z",
     "shell.execute_reply": "2024-05-20T23:35:42.948995Z"
    },
    "papermill": {
     "duration": 0.050897,
     "end_time": "2024-05-20T23:35:42.952929",
     "exception": false,
     "start_time": "2024-05-20T23:35:42.902032",
     "status": "completed"
    },
    "tags": []
   },
   "outputs": [
    {
     "data": {
      "text/plain": [
       "<tf.Tensor: shape=(32, 2), dtype=float32, numpy=\n",
       "array([[0., 1.],\n",
       "       [1., 0.],\n",
       "       [1., 0.],\n",
       "       [0., 1.],\n",
       "       [0., 1.],\n",
       "       [1., 0.],\n",
       "       [0., 1.],\n",
       "       [0., 1.],\n",
       "       [1., 0.],\n",
       "       [0., 1.],\n",
       "       [0., 1.],\n",
       "       [1., 0.],\n",
       "       [1., 0.],\n",
       "       [0., 1.],\n",
       "       [0., 1.],\n",
       "       [1., 0.],\n",
       "       [0., 1.],\n",
       "       [1., 0.],\n",
       "       [1., 0.],\n",
       "       [0., 1.],\n",
       "       [0., 1.],\n",
       "       [0., 1.],\n",
       "       [0., 1.],\n",
       "       [0., 1.],\n",
       "       [1., 0.],\n",
       "       [0., 1.],\n",
       "       [0., 1.],\n",
       "       [1., 0.],\n",
       "       [0., 1.],\n",
       "       [0., 1.],\n",
       "       [1., 0.],\n",
       "       [0., 1.]], dtype=float32)>"
      ]
     },
     "execution_count": 21,
     "metadata": {},
     "output_type": "execute_result"
    }
   ],
   "source": [
    "labels"
   ]
  },
  {
   "cell_type": "code",
   "execution_count": 22,
   "id": "7aad7739",
   "metadata": {
    "execution": {
     "iopub.execute_input": "2024-05-20T23:35:43.030101Z",
     "iopub.status.busy": "2024-05-20T23:35:43.029656Z",
     "iopub.status.idle": "2024-05-20T23:35:43.038856Z",
     "shell.execute_reply": "2024-05-20T23:35:43.037571Z"
    },
    "papermill": {
     "duration": 0.051921,
     "end_time": "2024-05-20T23:35:43.041378",
     "exception": false,
     "start_time": "2024-05-20T23:35:42.989457",
     "status": "completed"
    },
    "tags": []
   },
   "outputs": [
    {
     "data": {
      "text/plain": [
       "<tf.Tensor: shape=(32, 1, 2484), dtype=float64, numpy=\n",
       "array([[[ 1.        , 36.93237063, 44.55333882, ...,  0.        ,\n",
       "          0.        ,  0.        ]],\n",
       "\n",
       "       [[ 1.        , 36.93237063, 44.55333882, ...,  0.        ,\n",
       "          0.        ,  0.        ]],\n",
       "\n",
       "       [[ 1.        , 36.93237063, 44.55333882, ...,  0.        ,\n",
       "          0.        ,  0.        ]],\n",
       "\n",
       "       ...,\n",
       "\n",
       "       [[ 1.        , 36.93237063, 44.55333882, ...,  0.        ,\n",
       "          0.        ,  0.        ]],\n",
       "\n",
       "       [[ 1.        , 36.93237063, 44.55333882, ...,  0.        ,\n",
       "          0.        ,  0.        ]],\n",
       "\n",
       "       [[ 1.        , 36.93237063, 44.55333882, ...,  0.        ,\n",
       "          0.        ,  0.        ]]])>"
      ]
     },
     "execution_count": 22,
     "metadata": {},
     "output_type": "execute_result"
    }
   ],
   "source": [
    "tabular_data"
   ]
  },
  {
   "cell_type": "code",
   "execution_count": 23,
   "id": "9ea95fe9",
   "metadata": {
    "execution": {
     "iopub.execute_input": "2024-05-20T23:35:43.114686Z",
     "iopub.status.busy": "2024-05-20T23:35:43.114239Z",
     "iopub.status.idle": "2024-05-20T23:35:43.675477Z",
     "shell.execute_reply": "2024-05-20T23:35:43.673949Z"
    },
    "papermill": {
     "duration": 0.600515,
     "end_time": "2024-05-20T23:35:43.678336",
     "exception": false,
     "start_time": "2024-05-20T23:35:43.077821",
     "status": "completed"
    },
    "tags": []
   },
   "outputs": [],
   "source": [
    "norm = tf.keras.layers.Normalization()\n",
    "norm.adapt(tabular_data)"
   ]
  },
  {
   "cell_type": "code",
   "execution_count": 24,
   "id": "1c8baf87",
   "metadata": {
    "execution": {
     "iopub.execute_input": "2024-05-20T23:35:43.757308Z",
     "iopub.status.busy": "2024-05-20T23:35:43.756861Z",
     "iopub.status.idle": "2024-05-20T23:35:43.994589Z",
     "shell.execute_reply": "2024-05-20T23:35:43.993709Z"
    },
    "papermill": {
     "duration": 0.282415,
     "end_time": "2024-05-20T23:35:43.997489",
     "exception": false,
     "start_time": "2024-05-20T23:35:43.715074",
     "status": "completed"
    },
    "tags": []
   },
   "outputs": [
    {
     "name": "stdout",
     "output_type": "stream",
     "text": [
      "Model: \"model\"\n",
      "__________________________________________________________________________________________________\n",
      " Layer (type)                   Output Shape         Param #     Connected to                     \n",
      "==================================================================================================\n",
      " tabular_input (InputLayer)     [(None, 1, 2484)]    0           []                               \n",
      "                                                                                                  \n",
      " normalization (Normalization)  (None, 1, 2484)      4969        ['tabular_input[0][0]']          \n",
      "                                                                                                  \n",
      " dense (Dense)                  (None, 1, 32)        79520       ['normalization[0][0]']          \n",
      "                                                                                                  \n",
      " batch_normalization_1 (BatchNo  (None, 1, 32)       128         ['dense[0][0]']                  \n",
      " rmalization)                                                                                     \n",
      "                                                                                                  \n",
      " re_lu_1 (ReLU)                 (None, 1, 32)        0           ['batch_normalization_1[0][0]']  \n",
      "                                                                                                  \n",
      " dropout (Dropout)              (None, 1, 32)        0           ['re_lu_1[0][0]']                \n",
      "                                                                                                  \n",
      " dense_1 (Dense)                (None, 1, 16)        528         ['dropout[0][0]']                \n",
      "                                                                                                  \n",
      " batch_normalization_2 (BatchNo  (None, 1, 16)       64          ['dense_1[0][0]']                \n",
      " rmalization)                                                                                     \n",
      "                                                                                                  \n",
      " re_lu_2 (ReLU)                 (None, 1, 16)        0           ['batch_normalization_2[0][0]']  \n",
      "                                                                                                  \n",
      " flatten_1 (Flatten)            (None, 16)           0           ['re_lu_2[0][0]']                \n",
      "                                                                                                  \n",
      " img_input (InputLayer)         [(None, 32, 32, 3)]  0           []                               \n",
      "                                                                                                  \n",
      " dense_2 (Dense)                (None, 2)            34          ['flatten_1[0][0]']              \n",
      "                                                                                                  \n",
      "==================================================================================================\n",
      "Total params: 85,243\n",
      "Trainable params: 80,178\n",
      "Non-trainable params: 5,065\n",
      "__________________________________________________________________________________________________\n"
     ]
    }
   ],
   "source": [
    "from tensorflow.keras import layers\n",
    "\n",
    "NUMBER_OF_CLASSES = 2\n",
    "\n",
    "# Image part\n",
    "img_input = layers.Input(shape=config[\"input_shape\"], name='img_input')\n",
    "\n",
    "img_X = layers.Conv2D(64, (3, 3))(img_input)\n",
    "img_X = layers.BatchNormalization()(img_X)\n",
    "img_X = layers.ReLU()(img_X)\n",
    "\n",
    "img_output = layers.Flatten()(img_X)\n",
    "\n",
    "# Radiomic part\n",
    "tabular_input = layers.Input(shape=tuple(tabular_data.shape[1:]), name='tabular_input')\n",
    "tabular_X = norm(tabular_input)\n",
    "\n",
    "tabular_X = layers.Dense(32)(tabular_X)\n",
    "tabular_X = layers.BatchNormalization()(tabular_X)\n",
    "tabular_X = layers.ReLU()(tabular_X)\n",
    "\n",
    "tabular_X = layers.Dropout(0.3)(tabular_X)\n",
    "\n",
    "tabular_X = layers.Dense(16)(tabular_X)\n",
    "tabular_X = layers.BatchNormalization()(tabular_X)\n",
    "tabular_X = layers.ReLU()(tabular_X)\n",
    "\n",
    "tabular_output = layers.Flatten()(tabular_X)\n",
    "\n",
    "# Combine\n",
    "combined = layers.Concatenate()([img_output, tabular_output])\n",
    "\n",
    "# output\n",
    "output = layers.Dense(NUMBER_OF_CLASSES, activation='softmax')(tabular_output)\n",
    "\n",
    "# define model\n",
    "keras_model = tf.keras.Model(inputs=[img_input, tabular_input], outputs=output)\n",
    "\n",
    "keras_model.summary()\n",
    "\n"
   ]
  },
  {
   "cell_type": "code",
   "execution_count": 25,
   "id": "8f163758",
   "metadata": {
    "execution": {
     "iopub.execute_input": "2024-05-20T23:35:44.080802Z",
     "iopub.status.busy": "2024-05-20T23:35:44.080311Z",
     "iopub.status.idle": "2024-05-20T23:35:44.097656Z",
     "shell.execute_reply": "2024-05-20T23:35:44.096450Z"
    },
    "papermill": {
     "duration": 0.060674,
     "end_time": "2024-05-20T23:35:44.100289",
     "exception": false,
     "start_time": "2024-05-20T23:35:44.039615",
     "status": "completed"
    },
    "tags": []
   },
   "outputs": [],
   "source": [
    "keras_model.compile(optimizer='adam', loss='categorical_crossentropy', metrics=['accuracy'])"
   ]
  },
  {
   "cell_type": "markdown",
   "id": "4a0437f2",
   "metadata": {
    "papermill": {
     "duration": 0.039021,
     "end_time": "2024-05-20T23:35:44.180519",
     "exception": false,
     "start_time": "2024-05-20T23:35:44.141498",
     "status": "completed"
    },
    "tags": []
   },
   "source": [
    "## Train the model"
   ]
  },
  {
   "cell_type": "code",
   "execution_count": 26,
   "id": "405871d4",
   "metadata": {
    "execution": {
     "iopub.execute_input": "2024-05-20T23:35:44.263729Z",
     "iopub.status.busy": "2024-05-20T23:35:44.262567Z",
     "iopub.status.idle": "2024-05-21T01:54:45.093819Z",
     "shell.execute_reply": "2024-05-21T01:54:45.092286Z"
    },
    "papermill": {
     "duration": 8342.643891,
     "end_time": "2024-05-21T01:54:46.863572",
     "exception": false,
     "start_time": "2024-05-20T23:35:44.219681",
     "status": "completed"
    },
    "tags": []
   },
   "outputs": [
    {
     "name": "stderr",
     "output_type": "stream",
     "text": [
      "\u001b[34m\u001b[1mwandb\u001b[0m: \u001b[33mWARNING\u001b[0m The save_model argument by default saves the model in the HDF5 format that cannot save custom objects like subclassed models and custom layers. This behavior will be deprecated in a future release in favor of the SavedModel format. Meanwhile, the HDF5 model is saved as W&B files and the SavedModel as W&B Artifacts.\n"
     ]
    },
    {
     "name": "stdout",
     "output_type": "stream",
     "text": [
      "steps_per_epoch = None, validation_steps = None\n",
      "\n",
      "\n",
      "Epoch 1/50\n",
      "2813/2813 [==============================] - ETA: 0s - loss: 0.3571 - accuracy: 0.8451"
     ]
    },
    {
     "name": "stderr",
     "output_type": "stream",
     "text": [
      "\u001b[34m\u001b[1mwandb\u001b[0m: Adding directory to artifact (/kaggle/working/wandb/run-20240520_232505-7hqckdgz/files/model-best)... Done. 0.0s\n"
     ]
    },
    {
     "name": "stdout",
     "output_type": "stream",
     "text": [
      "2813/2813 [==============================] - 156s 37ms/step - loss: 0.3571 - accuracy: 0.8451 - val_loss: 0.2887 - val_accuracy: 0.8795\n",
      "Epoch 2/50\n",
      "2806/2813 [============================>.] - ETA: 0s - loss: 0.3163 - accuracy: 0.8660"
     ]
    },
    {
     "name": "stderr",
     "output_type": "stream",
     "text": [
      "\u001b[34m\u001b[1mwandb\u001b[0m: Adding directory to artifact (/kaggle/working/wandb/run-20240520_232505-7hqckdgz/files/model-best)... Done. 0.0s\n"
     ]
    },
    {
     "name": "stdout",
     "output_type": "stream",
     "text": [
      "2813/2813 [==============================] - 150s 38ms/step - loss: 0.3164 - accuracy: 0.8661 - val_loss: 0.2760 - val_accuracy: 0.8851\n",
      "Epoch 3/50\n",
      "2809/2813 [============================>.] - ETA: 0s - loss: 0.3069 - accuracy: 0.8701"
     ]
    },
    {
     "name": "stderr",
     "output_type": "stream",
     "text": [
      "\u001b[34m\u001b[1mwandb\u001b[0m: Adding directory to artifact (/kaggle/working/wandb/run-20240520_232505-7hqckdgz/files/model-best)... Done. 0.0s\n"
     ]
    },
    {
     "name": "stdout",
     "output_type": "stream",
     "text": [
      "2813/2813 [==============================] - 108s 22ms/step - loss: 0.3069 - accuracy: 0.8700 - val_loss: 0.2573 - val_accuracy: 0.8940\n",
      "Epoch 4/50\n",
      "2813/2813 [==============================] - 125s 30ms/step - loss: 0.2970 - accuracy: 0.8741 - val_loss: 0.2733 - val_accuracy: 0.8824\n",
      "Epoch 5/50\n",
      "2807/2813 [============================>.] - ETA: 0s - loss: 0.2912 - accuracy: 0.8784"
     ]
    },
    {
     "name": "stderr",
     "output_type": "stream",
     "text": [
      "\u001b[34m\u001b[1mwandb\u001b[0m: Adding directory to artifact (/kaggle/working/wandb/run-20240520_232505-7hqckdgz/files/model-best)... Done. 0.0s\n"
     ]
    },
    {
     "name": "stdout",
     "output_type": "stream",
     "text": [
      "2813/2813 [==============================] - 146s 37ms/step - loss: 0.2911 - accuracy: 0.8784 - val_loss: 0.2444 - val_accuracy: 0.9023\n",
      "Epoch 6/50\n",
      "2807/2813 [============================>.] - ETA: 0s - loss: 0.2851 - accuracy: 0.8805"
     ]
    },
    {
     "name": "stderr",
     "output_type": "stream",
     "text": [
      "\u001b[34m\u001b[1mwandb\u001b[0m: Adding directory to artifact (/kaggle/working/wandb/run-20240520_232505-7hqckdgz/files/model-best)... Done. 0.0s\n"
     ]
    },
    {
     "name": "stdout",
     "output_type": "stream",
     "text": [
      "2813/2813 [==============================] - 147s 37ms/step - loss: 0.2853 - accuracy: 0.8804 - val_loss: 0.2402 - val_accuracy: 0.9051\n",
      "Epoch 7/50\n",
      "2813/2813 [==============================] - ETA: 0s - loss: 0.2824 - accuracy: 0.8831"
     ]
    },
    {
     "name": "stderr",
     "output_type": "stream",
     "text": [
      "\u001b[34m\u001b[1mwandb\u001b[0m: Adding directory to artifact (/kaggle/working/wandb/run-20240520_232505-7hqckdgz/files/model-best)... Done. 0.0s\n"
     ]
    },
    {
     "name": "stdout",
     "output_type": "stream",
     "text": [
      "2813/2813 [==============================] - 106s 23ms/step - loss: 0.2824 - accuracy: 0.8831 - val_loss: 0.2385 - val_accuracy: 0.9065\n",
      "Epoch 8/50\n",
      "2812/2813 [============================>.] - ETA: 0s - loss: 0.2786 - accuracy: 0.8849"
     ]
    },
    {
     "name": "stderr",
     "output_type": "stream",
     "text": [
      "\u001b[34m\u001b[1mwandb\u001b[0m: Adding directory to artifact (/kaggle/working/wandb/run-20240520_232505-7hqckdgz/files/model-best)... Done. 0.0s\n"
     ]
    },
    {
     "name": "stdout",
     "output_type": "stream",
     "text": [
      "2813/2813 [==============================] - 115s 27ms/step - loss: 0.2786 - accuracy: 0.8849 - val_loss: 0.2300 - val_accuracy: 0.9102\n",
      "Epoch 9/50\n",
      "2813/2813 [==============================] - 115s 23ms/step - loss: 0.2767 - accuracy: 0.8839 - val_loss: 0.2353 - val_accuracy: 0.9078\n",
      "Epoch 10/50\n",
      "2807/2813 [============================>.] - ETA: 0s - loss: 0.2745 - accuracy: 0.8862"
     ]
    },
    {
     "name": "stderr",
     "output_type": "stream",
     "text": [
      "\u001b[34m\u001b[1mwandb\u001b[0m: Adding directory to artifact (/kaggle/working/wandb/run-20240520_232505-7hqckdgz/files/model-best)... Done. 0.0s\n"
     ]
    },
    {
     "name": "stdout",
     "output_type": "stream",
     "text": [
      "2813/2813 [==============================] - 108s 24ms/step - loss: 0.2743 - accuracy: 0.8864 - val_loss: 0.2263 - val_accuracy: 0.9104\n",
      "Epoch 11/50\n",
      "2813/2813 [==============================] - 145s 36ms/step - loss: 0.2705 - accuracy: 0.8893 - val_loss: 0.2263 - val_accuracy: 0.9108\n",
      "Epoch 12/50\n",
      "2809/2813 [============================>.] - ETA: 0s - loss: 0.2692 - accuracy: 0.8881"
     ]
    },
    {
     "name": "stderr",
     "output_type": "stream",
     "text": [
      "\u001b[34m\u001b[1mwandb\u001b[0m: Adding directory to artifact (/kaggle/working/wandb/run-20240520_232505-7hqckdgz/files/model-best)... Done. 0.0s\n"
     ]
    },
    {
     "name": "stdout",
     "output_type": "stream",
     "text": [
      "2813/2813 [==============================] - 106s 23ms/step - loss: 0.2693 - accuracy: 0.8881 - val_loss: 0.2211 - val_accuracy: 0.9096\n",
      "Epoch 13/50\n",
      "2811/2813 [============================>.] - ETA: 0s - loss: 0.2676 - accuracy: 0.8890"
     ]
    },
    {
     "name": "stderr",
     "output_type": "stream",
     "text": [
      "\u001b[34m\u001b[1mwandb\u001b[0m: Adding directory to artifact (/kaggle/working/wandb/run-20240520_232505-7hqckdgz/files/model-best)... Done. 0.0s\n"
     ]
    },
    {
     "name": "stdout",
     "output_type": "stream",
     "text": [
      "2813/2813 [==============================] - 126s 25ms/step - loss: 0.2676 - accuracy: 0.8889 - val_loss: 0.2208 - val_accuracy: 0.9117\n",
      "Epoch 14/50\n",
      "2813/2813 [==============================] - 104s 23ms/step - loss: 0.2636 - accuracy: 0.8912 - val_loss: 0.2255 - val_accuracy: 0.9081\n",
      "Epoch 15/50\n",
      "2812/2813 [============================>.] - ETA: 0s - loss: 0.2627 - accuracy: 0.8921"
     ]
    },
    {
     "name": "stderr",
     "output_type": "stream",
     "text": [
      "\u001b[34m\u001b[1mwandb\u001b[0m: Adding directory to artifact (/kaggle/working/wandb/run-20240520_232505-7hqckdgz/files/model-best)... Done. 0.0s\n"
     ]
    },
    {
     "name": "stdout",
     "output_type": "stream",
     "text": [
      "2813/2813 [==============================] - 105s 23ms/step - loss: 0.2627 - accuracy: 0.8921 - val_loss: 0.2065 - val_accuracy: 0.9175\n",
      "Epoch 16/50\n",
      "2813/2813 [==============================] - 102s 22ms/step - loss: 0.2624 - accuracy: 0.8921 - val_loss: 0.2204 - val_accuracy: 0.9098\n",
      "Epoch 17/50\n",
      "2813/2813 [==============================] - 103s 22ms/step - loss: 0.2602 - accuracy: 0.8918 - val_loss: 0.2124 - val_accuracy: 0.9156\n",
      "Epoch 18/50\n",
      "2813/2813 [==============================] - 105s 23ms/step - loss: 0.2577 - accuracy: 0.8939 - val_loss: 0.2140 - val_accuracy: 0.9159\n",
      "Epoch 19/50\n",
      "2813/2813 [==============================] - 110s 24ms/step - loss: 0.2584 - accuracy: 0.8943 - val_loss: 0.2139 - val_accuracy: 0.9146\n",
      "Epoch 20/50\n",
      "2813/2813 [==============================] - 108s 23ms/step - loss: 0.2572 - accuracy: 0.8944 - val_loss: 0.2274 - val_accuracy: 0.9144\n",
      "Epoch 21/50\n",
      "2813/2813 [==============================] - 147s 37ms/step - loss: 0.2563 - accuracy: 0.8951 - val_loss: 0.2200 - val_accuracy: 0.9133\n",
      "Epoch 22/50\n",
      "2813/2813 [==============================] - 104s 22ms/step - loss: 0.2553 - accuracy: 0.8947 - val_loss: 0.2122 - val_accuracy: 0.9188\n",
      "Epoch 23/50\n",
      "2813/2813 [==============================] - 108s 23ms/step - loss: 0.2546 - accuracy: 0.8953 - val_loss: 0.2181 - val_accuracy: 0.9138\n",
      "Epoch 24/50\n",
      "2809/2813 [============================>.] - ETA: 0s - loss: 0.2555 - accuracy: 0.8953"
     ]
    },
    {
     "name": "stderr",
     "output_type": "stream",
     "text": [
      "\u001b[34m\u001b[1mwandb\u001b[0m: Adding directory to artifact (/kaggle/working/wandb/run-20240520_232505-7hqckdgz/files/model-best)... Done. 0.0s\n"
     ]
    },
    {
     "name": "stdout",
     "output_type": "stream",
     "text": [
      "2813/2813 [==============================] - 108s 23ms/step - loss: 0.2553 - accuracy: 0.8954 - val_loss: 0.2047 - val_accuracy: 0.9231\n",
      "Epoch 25/50\n",
      "2813/2813 [==============================] - 107s 23ms/step - loss: 0.2514 - accuracy: 0.8971 - val_loss: 0.2207 - val_accuracy: 0.9126\n",
      "Epoch 26/50\n",
      "2813/2813 [==============================] - 114s 25ms/step - loss: 0.2520 - accuracy: 0.8953 - val_loss: 0.2163 - val_accuracy: 0.9158\n",
      "Epoch 27/50\n",
      "2813/2813 [==============================] - 113s 24ms/step - loss: 0.2518 - accuracy: 0.8978 - val_loss: 0.2065 - val_accuracy: 0.9188\n",
      "Epoch 28/50\n",
      "2813/2813 [==============================] - 126s 28ms/step - loss: 0.2499 - accuracy: 0.8972 - val_loss: 0.2127 - val_accuracy: 0.9155\n",
      "Epoch 29/50\n",
      "2813/2813 [==============================] - 118s 22ms/step - loss: 0.2472 - accuracy: 0.8988 - val_loss: 0.2109 - val_accuracy: 0.9155\n",
      "Epoch 30/50\n",
      "2807/2813 [============================>.] - ETA: 0s - loss: 0.2472 - accuracy: 0.8997"
     ]
    },
    {
     "name": "stderr",
     "output_type": "stream",
     "text": [
      "\u001b[34m\u001b[1mwandb\u001b[0m: Adding directory to artifact (/kaggle/working/wandb/run-20240520_232505-7hqckdgz/files/model-best)... Done. 0.0s\n"
     ]
    },
    {
     "name": "stdout",
     "output_type": "stream",
     "text": [
      "2813/2813 [==============================] - 113s 25ms/step - loss: 0.2471 - accuracy: 0.8997 - val_loss: 0.2028 - val_accuracy: 0.9187\n",
      "Epoch 31/50\n",
      "2813/2813 [==============================] - 110s 23ms/step - loss: 0.2496 - accuracy: 0.8974 - val_loss: 0.2085 - val_accuracy: 0.9177\n",
      "Epoch 32/50\n",
      "2813/2813 [==============================] - 150s 37ms/step - loss: 0.2485 - accuracy: 0.8980 - val_loss: 0.2083 - val_accuracy: 0.9191\n",
      "Epoch 33/50\n",
      "2813/2813 [==============================] - ETA: 0s - loss: 0.2447 - accuracy: 0.9006"
     ]
    },
    {
     "name": "stderr",
     "output_type": "stream",
     "text": [
      "\u001b[34m\u001b[1mwandb\u001b[0m: Adding directory to artifact (/kaggle/working/wandb/run-20240520_232505-7hqckdgz/files/model-best)... Done. 0.0s\n"
     ]
    },
    {
     "name": "stdout",
     "output_type": "stream",
     "text": [
      "2813/2813 [==============================] - 116s 25ms/step - loss: 0.2447 - accuracy: 0.9006 - val_loss: 0.1981 - val_accuracy: 0.9241\n",
      "Epoch 34/50\n",
      "2812/2813 [============================>.] - ETA: 0s - loss: 0.2455 - accuracy: 0.8997"
     ]
    },
    {
     "name": "stderr",
     "output_type": "stream",
     "text": [
      "\u001b[34m\u001b[1mwandb\u001b[0m: Adding directory to artifact (/kaggle/working/wandb/run-20240520_232505-7hqckdgz/files/model-best)... Done. 0.0s\n"
     ]
    },
    {
     "name": "stdout",
     "output_type": "stream",
     "text": [
      "2813/2813 [==============================] - 114s 24ms/step - loss: 0.2455 - accuracy: 0.8997 - val_loss: 0.1941 - val_accuracy: 0.9241\n",
      "Epoch 35/50\n",
      "2813/2813 [==============================] - 110s 24ms/step - loss: 0.2458 - accuracy: 0.9002 - val_loss: 0.1997 - val_accuracy: 0.9212\n",
      "Epoch 36/50\n",
      "2813/2813 [==============================] - 160s 39ms/step - loss: 0.2454 - accuracy: 0.8991 - val_loss: 0.1960 - val_accuracy: 0.9239\n",
      "Epoch 37/50\n",
      "2813/2813 [==============================] - 116s 25ms/step - loss: 0.2435 - accuracy: 0.9006 - val_loss: 0.1974 - val_accuracy: 0.9236\n",
      "Epoch 38/50\n",
      "2811/2813 [============================>.] - ETA: 0s - loss: 0.2450 - accuracy: 0.8997"
     ]
    },
    {
     "name": "stderr",
     "output_type": "stream",
     "text": [
      "\u001b[34m\u001b[1mwandb\u001b[0m: Adding directory to artifact (/kaggle/working/wandb/run-20240520_232505-7hqckdgz/files/model-best)... Done. 0.1s\n"
     ]
    },
    {
     "name": "stdout",
     "output_type": "stream",
     "text": [
      "2813/2813 [==============================] - 116s 26ms/step - loss: 0.2450 - accuracy: 0.8998 - val_loss: 0.1928 - val_accuracy: 0.9263\n",
      "Epoch 39/50\n",
      "2813/2813 [==============================] - 149s 37ms/step - loss: 0.2425 - accuracy: 0.9005 - val_loss: 0.1939 - val_accuracy: 0.9233\n",
      "Epoch 40/50\n",
      "2813/2813 [==============================] - 1647s 473ms/step - loss: 0.2420 - accuracy: 0.9013 - val_loss: 0.2142 - val_accuracy: 0.9213\n",
      "Epoch 41/50\n",
      "2813/2813 [==============================] - 125s 26ms/step - loss: 0.2403 - accuracy: 0.9020 - val_loss: 0.1979 - val_accuracy: 0.9220\n",
      "Epoch 42/50\n",
      "2813/2813 [==============================] - 150s 36ms/step - loss: 0.2431 - accuracy: 0.9016 - val_loss: 0.1998 - val_accuracy: 0.9220\n",
      "Epoch 43/50\n",
      "2807/2813 [============================>.] - ETA: 0s - loss: 0.2399 - accuracy: 0.9029"
     ]
    },
    {
     "name": "stderr",
     "output_type": "stream",
     "text": [
      "\u001b[34m\u001b[1mwandb\u001b[0m: Adding directory to artifact (/kaggle/working/wandb/run-20240520_232505-7hqckdgz/files/model-best)... Done. 0.0s\n"
     ]
    },
    {
     "name": "stdout",
     "output_type": "stream",
     "text": [
      "2813/2813 [==============================] - 120s 25ms/step - loss: 0.2400 - accuracy: 0.9029 - val_loss: 0.1920 - val_accuracy: 0.9234\n",
      "Epoch 44/50\n",
      "2811/2813 [============================>.] - ETA: 0s - loss: 0.2419 - accuracy: 0.9020"
     ]
    },
    {
     "name": "stderr",
     "output_type": "stream",
     "text": [
      "\u001b[34m\u001b[1mwandb\u001b[0m: Adding directory to artifact (/kaggle/working/wandb/run-20240520_232505-7hqckdgz/files/model-best)... Done. 0.0s\n"
     ]
    },
    {
     "name": "stdout",
     "output_type": "stream",
     "text": [
      "2813/2813 [==============================] - 117s 25ms/step - loss: 0.2419 - accuracy: 0.9020 - val_loss: 0.1902 - val_accuracy: 0.9274\n",
      "Epoch 45/50\n",
      "2813/2813 [==============================] - 125s 27ms/step - loss: 0.2395 - accuracy: 0.9031 - val_loss: 0.2164 - val_accuracy: 0.9190\n",
      "Epoch 46/50\n",
      "2813/2813 [==============================] - 121s 26ms/step - loss: 0.2420 - accuracy: 0.9015 - val_loss: 0.1914 - val_accuracy: 0.9257\n",
      "Epoch 47/50\n",
      "2813/2813 [==============================] - 131s 28ms/step - loss: 0.2373 - accuracy: 0.9033 - val_loss: 0.1940 - val_accuracy: 0.9240\n",
      "Epoch 48/50\n",
      "2813/2813 [==============================] - ETA: 0s - loss: 0.2383 - accuracy: 0.9031"
     ]
    },
    {
     "name": "stderr",
     "output_type": "stream",
     "text": [
      "\u001b[34m\u001b[1mwandb\u001b[0m: Adding directory to artifact (/kaggle/working/wandb/run-20240520_232505-7hqckdgz/files/model-best)... Done. 0.0s\n"
     ]
    },
    {
     "name": "stdout",
     "output_type": "stream",
     "text": [
      "2813/2813 [==============================] - 120s 26ms/step - loss: 0.2383 - accuracy: 0.9031 - val_loss: 0.1878 - val_accuracy: 0.9291\n",
      "Epoch 49/50\n",
      "2813/2813 [==============================] - 116s 25ms/step - loss: 0.2390 - accuracy: 0.9026 - val_loss: 0.2054 - val_accuracy: 0.9208\n",
      "Epoch 50/50\n",
      "2813/2813 [==============================] - 122s 26ms/step - loss: 0.2373 - accuracy: 0.9035 - val_loss: 0.1931 - val_accuracy: 0.9227\n"
     ]
    }
   ],
   "source": [
    "from wandb.keras import WandbCallback\n",
    "\n",
    "EPOCHS = config[\"epochs\"]\n",
    "\n",
    "if config[\"use_small_sample\"] is True:\n",
    "    steps_per_epoch = 1000 // BATCH_SIZE\n",
    "    validation_steps = 100 // BATCH_SIZE\n",
    "else:\n",
    "    # train_dataset.samples // BATCH_SIZE\n",
    "    steps_per_epoch = None\n",
    "    validation_steps = None\n",
    "    \n",
    "print(f\"steps_per_epoch = {steps_per_epoch}, validation_steps = {validation_steps}\\n\\n\")\n",
    "    \n",
    "history = keras_model.fit(\n",
    "    train_dataset,\n",
    "    steps_per_epoch=steps_per_epoch,\n",
    "    epochs=EPOCHS,\n",
    "    validation_data=validation_dataset,\n",
    "    callbacks=[\n",
    "      WandbCallback(),\n",
    "    ],\n",
    "    validation_steps=validation_steps\n",
    ")"
   ]
  },
  {
   "cell_type": "code",
   "execution_count": 27,
   "id": "68b7371d",
   "metadata": {
    "execution": {
     "iopub.execute_input": "2024-05-21T01:54:50.381491Z",
     "iopub.status.busy": "2024-05-21T01:54:50.381058Z",
     "iopub.status.idle": "2024-05-21T01:54:55.633597Z",
     "shell.execute_reply": "2024-05-21T01:54:55.632422Z"
    },
    "papermill": {
     "duration": 6.963289,
     "end_time": "2024-05-21T01:54:55.637431",
     "exception": false,
     "start_time": "2024-05-21T01:54:48.674142",
     "status": "completed"
    },
    "tags": []
   },
   "outputs": [
    {
     "name": "stderr",
     "output_type": "stream",
     "text": [
      "\u001b[34m\u001b[1mwandb\u001b[0m:                                                                                \n",
      "\u001b[34m\u001b[1mwandb\u001b[0m: W&B sync reduced upload amount by 1.5%             \n",
      "\u001b[34m\u001b[1mwandb\u001b[0m: \n",
      "\u001b[34m\u001b[1mwandb\u001b[0m: Run history:\n",
      "\u001b[34m\u001b[1mwandb\u001b[0m:     accuracy ▁▄▄▄▅▆▆▆▆▆▆▇▇▇▇▇▇▇▇▇▇▇▇▇▇▇██▇███████████\n",
      "\u001b[34m\u001b[1mwandb\u001b[0m:        epoch ▁▁▁▁▂▂▂▂▂▃▃▃▃▃▃▄▄▄▄▄▅▅▅▅▅▅▆▆▆▆▆▆▇▇▇▇▇███\n",
      "\u001b[34m\u001b[1mwandb\u001b[0m:         loss █▆▅▄▄▄▃▃▃▃▃▃▂▂▂▂▂▂▂▂▂▂▂▂▂▂▁▁▁▁▁▁▁▁▁▁▁▁▁▁\n",
      "\u001b[34m\u001b[1mwandb\u001b[0m: val_accuracy ▁▂▃▁▅▅▅▅▅▅▆▅▅▆▆▆▆▇▆▇▆▇▆▆▆▇▇▇▇▇█▇▇▇▇██▇█▇\n",
      "\u001b[34m\u001b[1mwandb\u001b[0m:     val_loss █▇▆▇▅▅▄▄▄▃▃▄▃▃▃▃▃▃▃▂▃▂▃▃▂▂▂▁▂▂▁▁▂▂▁▁▁▁▁▁\n",
      "\u001b[34m\u001b[1mwandb\u001b[0m: \n",
      "\u001b[34m\u001b[1mwandb\u001b[0m: Run summary:\n",
      "\u001b[34m\u001b[1mwandb\u001b[0m:      accuracy 0.90349\n",
      "\u001b[34m\u001b[1mwandb\u001b[0m:    best_epoch 47\n",
      "\u001b[34m\u001b[1mwandb\u001b[0m: best_val_loss 0.18782\n",
      "\u001b[34m\u001b[1mwandb\u001b[0m:         epoch 49\n",
      "\u001b[34m\u001b[1mwandb\u001b[0m:          loss 0.23734\n",
      "\u001b[34m\u001b[1mwandb\u001b[0m:  val_accuracy 0.92268\n",
      "\u001b[34m\u001b[1mwandb\u001b[0m:      val_loss 0.19312\n",
      "\u001b[34m\u001b[1mwandb\u001b[0m: \n",
      "\u001b[34m\u001b[1mwandb\u001b[0m: 🚀 View run \u001b[33msuper-spaceship-109\u001b[0m at: \u001b[34m\u001b[4mhttps://wandb.ai/budalema/ai-detection/runs/7hqckdgz\u001b[0m\n",
      "\u001b[34m\u001b[1mwandb\u001b[0m: Synced 6 W&B file(s), 1 media file(s), 76 artifact file(s) and 1 other file(s)\n",
      "\u001b[34m\u001b[1mwandb\u001b[0m: Find logs at: \u001b[35m\u001b[1m./wandb/run-20240520_232505-7hqckdgz/logs\u001b[0m\n"
     ]
    }
   ],
   "source": [
    "wandb.finish()"
   ]
  }
 ],
 "metadata": {
  "kaggle": {
   "accelerator": "none",
   "dataSources": [
    {
     "datasetId": 3041726,
     "sourceId": 5256696,
     "sourceType": "datasetVersion"
    },
    {
     "datasetId": 4418181,
     "sourceId": 8404447,
     "sourceType": "datasetVersion"
    }
   ],
   "dockerImageVersionId": 30698,
   "isGpuEnabled": false,
   "isInternetEnabled": true,
   "language": "python",
   "sourceType": "notebook"
  },
  "kernelspec": {
   "display_name": "Python 3",
   "language": "python",
   "name": "python3"
  },
  "language_info": {
   "codemirror_mode": {
    "name": "ipython",
    "version": 3
   },
   "file_extension": ".py",
   "mimetype": "text/x-python",
   "name": "python",
   "nbconvert_exporter": "python",
   "pygments_lexer": "ipython3",
   "version": "3.10.13"
  },
  "papermill": {
   "default_parameters": {},
   "duration": 9096.631406,
   "end_time": "2024-05-21T01:55:01.320858",
   "environment_variables": {},
   "exception": null,
   "input_path": "__notebook__.ipynb",
   "output_path": "__notebook__.ipynb",
   "parameters": {},
   "start_time": "2024-05-20T23:23:24.689452",
   "version": "2.5.0"
  }
 },
 "nbformat": 4,
 "nbformat_minor": 5
}
