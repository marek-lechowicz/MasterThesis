{
 "cells": [
  {
   "cell_type": "raw",
   "id": "19f778b5",
   "metadata": {
    "papermill": {
     "duration": 0.011411,
     "end_time": "2024-05-20T23:24:39.067948",
     "exception": false,
     "start_time": "2024-05-20T23:24:39.056537",
     "status": "completed"
    },
    "tags": []
   },
   "source": [
    "# Title"
   ]
  },
  {
   "cell_type": "code",
   "execution_count": 1,
   "id": "87946274",
   "metadata": {
    "execution": {
     "iopub.execute_input": "2024-05-20T23:24:39.092743Z",
     "iopub.status.busy": "2024-05-20T23:24:39.091965Z",
     "iopub.status.idle": "2024-05-20T23:26:06.297207Z",
     "shell.execute_reply": "2024-05-20T23:26:06.296142Z"
    },
    "papermill": {
     "duration": 87.22118,
     "end_time": "2024-05-20T23:26:06.300308",
     "exception": false,
     "start_time": "2024-05-20T23:24:39.079128",
     "status": "completed"
    },
    "tags": []
   },
   "outputs": [
    {
     "name": "stdout",
     "output_type": "stream",
     "text": [
      "Collecting tensorflow==2.8\r\n",
      "  Downloading tensorflow-2.8.0-cp310-cp310-manylinux2010_x86_64.whl.metadata (2.9 kB)\r\n",
      "Collecting wandb==0.16\r\n",
      "  Downloading wandb-0.16.0-py3-none-any.whl.metadata (9.8 kB)\r\n",
      "Requirement already satisfied: absl-py>=0.4.0 in /opt/conda/lib/python3.10/site-packages (from tensorflow==2.8) (1.4.0)\r\n",
      "Requirement already satisfied: astunparse>=1.6.0 in /opt/conda/lib/python3.10/site-packages (from tensorflow==2.8) (1.6.3)\r\n",
      "Requirement already satisfied: flatbuffers>=1.12 in /opt/conda/lib/python3.10/site-packages (from tensorflow==2.8) (23.5.26)\r\n",
      "Requirement already satisfied: gast>=0.2.1 in /opt/conda/lib/python3.10/site-packages (from tensorflow==2.8) (0.5.4)\r\n",
      "Requirement already satisfied: google-pasta>=0.1.1 in /opt/conda/lib/python3.10/site-packages (from tensorflow==2.8) (0.2.0)\r\n",
      "Requirement already satisfied: h5py>=2.9.0 in /opt/conda/lib/python3.10/site-packages (from tensorflow==2.8) (3.10.0)\r\n",
      "Collecting keras-preprocessing>=1.1.1 (from tensorflow==2.8)\r\n",
      "  Downloading Keras_Preprocessing-1.1.2-py2.py3-none-any.whl.metadata (1.9 kB)\r\n",
      "Requirement already satisfied: libclang>=9.0.1 in /opt/conda/lib/python3.10/site-packages (from tensorflow==2.8) (16.0.6)\r\n",
      "Requirement already satisfied: numpy>=1.20 in /opt/conda/lib/python3.10/site-packages (from tensorflow==2.8) (1.26.4)\r\n",
      "Requirement already satisfied: opt-einsum>=2.3.2 in /opt/conda/lib/python3.10/site-packages (from tensorflow==2.8) (3.3.0)\r\n",
      "Requirement already satisfied: protobuf>=3.9.2 in /opt/conda/lib/python3.10/site-packages (from tensorflow==2.8) (3.20.3)\r\n",
      "Requirement already satisfied: setuptools in /opt/conda/lib/python3.10/site-packages (from tensorflow==2.8) (69.0.3)\r\n",
      "Requirement already satisfied: six>=1.12.0 in /opt/conda/lib/python3.10/site-packages (from tensorflow==2.8) (1.16.0)\r\n",
      "Requirement already satisfied: termcolor>=1.1.0 in /opt/conda/lib/python3.10/site-packages (from tensorflow==2.8) (2.4.0)\r\n",
      "Requirement already satisfied: typing-extensions>=3.6.6 in /opt/conda/lib/python3.10/site-packages (from tensorflow==2.8) (4.9.0)\r\n",
      "Requirement already satisfied: wrapt>=1.11.0 in /opt/conda/lib/python3.10/site-packages (from tensorflow==2.8) (1.14.1)\r\n",
      "Collecting tensorboard<2.9,>=2.8 (from tensorflow==2.8)\r\n",
      "  Downloading tensorboard-2.8.0-py3-none-any.whl.metadata (1.9 kB)\r\n",
      "Collecting tf-estimator-nightly==2.8.0.dev2021122109 (from tensorflow==2.8)\r\n",
      "  Downloading tf_estimator_nightly-2.8.0.dev2021122109-py2.py3-none-any.whl.metadata (1.2 kB)\r\n",
      "Collecting keras<2.9,>=2.8.0rc0 (from tensorflow==2.8)\r\n",
      "  Downloading keras-2.8.0-py2.py3-none-any.whl.metadata (1.3 kB)\r\n",
      "Requirement already satisfied: tensorflow-io-gcs-filesystem>=0.23.1 in /opt/conda/lib/python3.10/site-packages (from tensorflow==2.8) (0.35.0)\r\n",
      "Requirement already satisfied: grpcio<2.0,>=1.24.3 in /opt/conda/lib/python3.10/site-packages (from tensorflow==2.8) (1.60.0)\r\n",
      "Requirement already satisfied: Click!=8.0.0,>=7.1 in /opt/conda/lib/python3.10/site-packages (from wandb==0.16) (8.1.7)\r\n",
      "Requirement already satisfied: GitPython!=3.1.29,>=1.0.0 in /opt/conda/lib/python3.10/site-packages (from wandb==0.16) (3.1.41)\r\n",
      "Requirement already satisfied: requests<3,>=2.0.0 in /opt/conda/lib/python3.10/site-packages (from wandb==0.16) (2.31.0)\r\n",
      "Requirement already satisfied: psutil>=5.0.0 in /opt/conda/lib/python3.10/site-packages (from wandb==0.16) (5.9.3)\r\n",
      "Requirement already satisfied: sentry-sdk>=1.0.0 in /opt/conda/lib/python3.10/site-packages (from wandb==0.16) (1.45.0)\r\n",
      "Requirement already satisfied: docker-pycreds>=0.4.0 in /opt/conda/lib/python3.10/site-packages (from wandb==0.16) (0.4.0)\r\n",
      "Requirement already satisfied: PyYAML in /opt/conda/lib/python3.10/site-packages (from wandb==0.16) (6.0.1)\r\n",
      "Requirement already satisfied: setproctitle in /opt/conda/lib/python3.10/site-packages (from wandb==0.16) (1.3.3)\r\n",
      "Requirement already satisfied: appdirs>=1.4.3 in /opt/conda/lib/python3.10/site-packages (from wandb==0.16) (1.4.4)\r\n",
      "Requirement already satisfied: wheel<1.0,>=0.23.0 in /opt/conda/lib/python3.10/site-packages (from astunparse>=1.6.0->tensorflow==2.8) (0.42.0)\r\n",
      "Requirement already satisfied: gitdb<5,>=4.0.1 in /opt/conda/lib/python3.10/site-packages (from GitPython!=3.1.29,>=1.0.0->wandb==0.16) (4.0.11)\r\n",
      "Requirement already satisfied: charset-normalizer<4,>=2 in /opt/conda/lib/python3.10/site-packages (from requests<3,>=2.0.0->wandb==0.16) (3.3.2)\r\n",
      "Requirement already satisfied: idna<4,>=2.5 in /opt/conda/lib/python3.10/site-packages (from requests<3,>=2.0.0->wandb==0.16) (3.6)\r\n",
      "Requirement already satisfied: urllib3<3,>=1.21.1 in /opt/conda/lib/python3.10/site-packages (from requests<3,>=2.0.0->wandb==0.16) (1.26.18)\r\n",
      "Requirement already satisfied: certifi>=2017.4.17 in /opt/conda/lib/python3.10/site-packages (from requests<3,>=2.0.0->wandb==0.16) (2024.2.2)\r\n",
      "Requirement already satisfied: google-auth<3,>=1.6.3 in /opt/conda/lib/python3.10/site-packages (from tensorboard<2.9,>=2.8->tensorflow==2.8) (2.26.1)\r\n",
      "Collecting google-auth-oauthlib<0.5,>=0.4.1 (from tensorboard<2.9,>=2.8->tensorflow==2.8)\r\n",
      "  Downloading google_auth_oauthlib-0.4.6-py2.py3-none-any.whl.metadata (2.7 kB)\r\n",
      "Requirement already satisfied: markdown>=2.6.8 in /opt/conda/lib/python3.10/site-packages (from tensorboard<2.9,>=2.8->tensorflow==2.8) (3.5.2)\r\n",
      "Collecting tensorboard-data-server<0.7.0,>=0.6.0 (from tensorboard<2.9,>=2.8->tensorflow==2.8)\r\n",
      "  Downloading tensorboard_data_server-0.6.1-py3-none-manylinux2010_x86_64.whl.metadata (1.1 kB)\r\n",
      "Collecting tensorboard-plugin-wit>=1.6.0 (from tensorboard<2.9,>=2.8->tensorflow==2.8)\r\n",
      "  Downloading tensorboard_plugin_wit-1.8.1-py3-none-any.whl.metadata (873 bytes)\r\n",
      "Requirement already satisfied: werkzeug>=0.11.15 in /opt/conda/lib/python3.10/site-packages (from tensorboard<2.9,>=2.8->tensorflow==2.8) (3.0.2)\r\n",
      "Requirement already satisfied: smmap<6,>=3.0.1 in /opt/conda/lib/python3.10/site-packages (from gitdb<5,>=4.0.1->GitPython!=3.1.29,>=1.0.0->wandb==0.16) (5.0.1)\r\n",
      "Requirement already satisfied: cachetools<6.0,>=2.0.0 in /opt/conda/lib/python3.10/site-packages (from google-auth<3,>=1.6.3->tensorboard<2.9,>=2.8->tensorflow==2.8) (4.2.4)\r\n",
      "Requirement already satisfied: pyasn1-modules>=0.2.1 in /opt/conda/lib/python3.10/site-packages (from google-auth<3,>=1.6.3->tensorboard<2.9,>=2.8->tensorflow==2.8) (0.3.0)\r\n",
      "Requirement already satisfied: rsa<5,>=3.1.4 in /opt/conda/lib/python3.10/site-packages (from google-auth<3,>=1.6.3->tensorboard<2.9,>=2.8->tensorflow==2.8) (4.9)\r\n",
      "Requirement already satisfied: requests-oauthlib>=0.7.0 in /opt/conda/lib/python3.10/site-packages (from google-auth-oauthlib<0.5,>=0.4.1->tensorboard<2.9,>=2.8->tensorflow==2.8) (1.3.1)\r\n",
      "Requirement already satisfied: MarkupSafe>=2.1.1 in /opt/conda/lib/python3.10/site-packages (from werkzeug>=0.11.15->tensorboard<2.9,>=2.8->tensorflow==2.8) (2.1.3)\r\n",
      "Requirement already satisfied: pyasn1<0.6.0,>=0.4.6 in /opt/conda/lib/python3.10/site-packages (from pyasn1-modules>=0.2.1->google-auth<3,>=1.6.3->tensorboard<2.9,>=2.8->tensorflow==2.8) (0.5.1)\r\n",
      "Requirement already satisfied: oauthlib>=3.0.0 in /opt/conda/lib/python3.10/site-packages (from requests-oauthlib>=0.7.0->google-auth-oauthlib<0.5,>=0.4.1->tensorboard<2.9,>=2.8->tensorflow==2.8) (3.2.2)\r\n",
      "Downloading tensorflow-2.8.0-cp310-cp310-manylinux2010_x86_64.whl (497.6 MB)\r\n",
      "\u001b[2K   \u001b[90m━━━━━━━━━━━━━━━━━━━━━━━━━━━━━━━━━━━━━━━━\u001b[0m \u001b[32m497.6/497.6 MB\u001b[0m \u001b[31m2.7 MB/s\u001b[0m eta \u001b[36m0:00:00\u001b[0m\r\n",
      "\u001b[?25hDownloading wandb-0.16.0-py3-none-any.whl (2.1 MB)\r\n",
      "\u001b[2K   \u001b[90m━━━━━━━━━━━━━━━━━━━━━━━━━━━━━━━━━━━━━━━━\u001b[0m \u001b[32m2.1/2.1 MB\u001b[0m \u001b[31m56.8 MB/s\u001b[0m eta \u001b[36m0:00:00\u001b[0m\r\n",
      "\u001b[?25hDownloading tf_estimator_nightly-2.8.0.dev2021122109-py2.py3-none-any.whl (462 kB)\r\n",
      "\u001b[2K   \u001b[90m━━━━━━━━━━━━━━━━━━━━━━━━━━━━━━━━━━━━━━━━\u001b[0m \u001b[32m462.5/462.5 kB\u001b[0m \u001b[31m20.5 MB/s\u001b[0m eta \u001b[36m0:00:00\u001b[0m\r\n",
      "\u001b[?25hDownloading keras-2.8.0-py2.py3-none-any.whl (1.4 MB)\r\n",
      "\u001b[2K   \u001b[90m━━━━━━━━━━━━━━━━━━━━━━━━━━━━━━━━━━━━━━━━\u001b[0m \u001b[32m1.4/1.4 MB\u001b[0m \u001b[31m43.6 MB/s\u001b[0m eta \u001b[36m0:00:00\u001b[0m\r\n",
      "\u001b[?25hDownloading Keras_Preprocessing-1.1.2-py2.py3-none-any.whl (42 kB)\r\n",
      "\u001b[2K   \u001b[90m━━━━━━━━━━━━━━━━━━━━━━━━━━━━━━━━━━━━━━━━\u001b[0m \u001b[32m42.6/42.6 kB\u001b[0m \u001b[31m1.8 MB/s\u001b[0m eta \u001b[36m0:00:00\u001b[0m\r\n",
      "\u001b[?25hDownloading tensorboard-2.8.0-py3-none-any.whl (5.8 MB)\r\n",
      "\u001b[2K   \u001b[90m━━━━━━━━━━━━━━━━━━━━━━━━━━━━━━━━━━━━━━━━\u001b[0m \u001b[32m5.8/5.8 MB\u001b[0m \u001b[31m69.1 MB/s\u001b[0m eta \u001b[36m0:00:00\u001b[0m\r\n",
      "\u001b[?25hDownloading google_auth_oauthlib-0.4.6-py2.py3-none-any.whl (18 kB)\r\n",
      "Downloading tensorboard_data_server-0.6.1-py3-none-manylinux2010_x86_64.whl (4.9 MB)\r\n",
      "\u001b[2K   \u001b[90m━━━━━━━━━━━━━━━━━━━━━━━━━━━━━━━━━━━━━━━━\u001b[0m \u001b[32m4.9/4.9 MB\u001b[0m \u001b[31m65.0 MB/s\u001b[0m eta \u001b[36m0:00:00\u001b[0m\r\n",
      "\u001b[?25hDownloading tensorboard_plugin_wit-1.8.1-py3-none-any.whl (781 kB)\r\n",
      "\u001b[2K   \u001b[90m━━━━━━━━━━━━━━━━━━━━━━━━━━━━━━━━━━━━━━━━\u001b[0m \u001b[32m781.3/781.3 kB\u001b[0m \u001b[31m31.3 MB/s\u001b[0m eta \u001b[36m0:00:00\u001b[0m\r\n",
      "\u001b[?25hInstalling collected packages: tf-estimator-nightly, tensorboard-plugin-wit, keras, tensorboard-data-server, keras-preprocessing, wandb, google-auth-oauthlib, tensorboard, tensorflow\r\n",
      "  Attempting uninstall: keras\r\n",
      "    Found existing installation: keras 3.2.1\r\n",
      "    Uninstalling keras-3.2.1:\r\n",
      "      Successfully uninstalled keras-3.2.1\r\n",
      "  Attempting uninstall: tensorboard-data-server\r\n",
      "    Found existing installation: tensorboard-data-server 0.7.2\r\n",
      "    Uninstalling tensorboard-data-server-0.7.2:\r\n",
      "      Successfully uninstalled tensorboard-data-server-0.7.2\r\n",
      "  Attempting uninstall: wandb\r\n",
      "    Found existing installation: wandb 0.16.6\r\n",
      "    Uninstalling wandb-0.16.6:\r\n",
      "      Successfully uninstalled wandb-0.16.6\r\n",
      "  Attempting uninstall: google-auth-oauthlib\r\n",
      "    Found existing installation: google-auth-oauthlib 1.2.0\r\n",
      "    Uninstalling google-auth-oauthlib-1.2.0:\r\n",
      "      Successfully uninstalled google-auth-oauthlib-1.2.0\r\n",
      "  Attempting uninstall: tensorboard\r\n",
      "    Found existing installation: tensorboard 2.15.1\r\n",
      "    Uninstalling tensorboard-2.15.1:\r\n",
      "      Successfully uninstalled tensorboard-2.15.1\r\n",
      "  Attempting uninstall: tensorflow\r\n",
      "    Found existing installation: tensorflow 2.15.0\r\n",
      "    Uninstalling tensorflow-2.15.0:\r\n",
      "      Successfully uninstalled tensorflow-2.15.0\r\n",
      "\u001b[31mERROR: pip's dependency resolver does not currently take into account all the packages that are installed. This behaviour is the source of the following dependency conflicts.\r\n",
      "tensorflow-decision-forests 1.8.1 requires wurlitzer, which is not installed.\r\n",
      "tensorflow-decision-forests 1.8.1 requires tensorflow~=2.15.0, but you have tensorflow 2.8.0 which is incompatible.\r\n",
      "tensorflow-serving-api 2.14.1 requires tensorflow<3,>=2.14.1, but you have tensorflow 2.8.0 which is incompatible.\r\n",
      "tensorflow-text 2.15.0 requires tensorflow<2.16,>=2.15.0; platform_machine != \"arm64\" or platform_system != \"Darwin\", but you have tensorflow 2.8.0 which is incompatible.\r\n",
      "tf-keras 2.15.1 requires tensorflow<2.16,>=2.15, but you have tensorflow 2.8.0 which is incompatible.\u001b[0m\u001b[31m\r\n",
      "\u001b[0mSuccessfully installed google-auth-oauthlib-0.4.6 keras-2.8.0 keras-preprocessing-1.1.2 tensorboard-2.8.0 tensorboard-data-server-0.6.1 tensorboard-plugin-wit-1.8.1 tensorflow-2.8.0 tf-estimator-nightly-2.8.0.dev2021122109 wandb-0.16.0\r\n"
     ]
    }
   ],
   "source": [
    "!pip install -U tensorflow==2.8 wandb==0.16"
   ]
  },
  {
   "cell_type": "markdown",
   "id": "30248610",
   "metadata": {
    "papermill": {
     "duration": 0.030562,
     "end_time": "2024-05-20T23:26:06.363580",
     "exception": false,
     "start_time": "2024-05-20T23:26:06.333018",
     "status": "completed"
    },
    "tags": []
   },
   "source": [
    "## Enable w&b logging"
   ]
  },
  {
   "cell_type": "code",
   "execution_count": 2,
   "id": "29eba4d0",
   "metadata": {
    "execution": {
     "iopub.execute_input": "2024-05-20T23:26:06.428954Z",
     "iopub.status.busy": "2024-05-20T23:26:06.427884Z",
     "iopub.status.idle": "2024-05-20T23:26:09.291691Z",
     "shell.execute_reply": "2024-05-20T23:26:09.290540Z"
    },
    "papermill": {
     "duration": 2.899872,
     "end_time": "2024-05-20T23:26:09.294492",
     "exception": false,
     "start_time": "2024-05-20T23:26:06.394620",
     "status": "completed"
    },
    "tags": []
   },
   "outputs": [
    {
     "name": "stderr",
     "output_type": "stream",
     "text": [
      "\u001b[34m\u001b[1mwandb\u001b[0m: W&B API key is configured. Use \u001b[1m`wandb login --relogin`\u001b[0m to force relogin\n",
      "\u001b[34m\u001b[1mwandb\u001b[0m: \u001b[33mWARNING\u001b[0m If you're specifying your api key in code, ensure this code is not shared publicly.\n",
      "\u001b[34m\u001b[1mwandb\u001b[0m: \u001b[33mWARNING\u001b[0m Consider setting the WANDB_API_KEY environment variable, or running `wandb login` from the command line.\n",
      "\u001b[34m\u001b[1mwandb\u001b[0m: Appending key for api.wandb.ai to your netrc file: /root/.netrc\n"
     ]
    },
    {
     "data": {
      "text/plain": [
       "True"
      ]
     },
     "execution_count": 2,
     "metadata": {},
     "output_type": "execute_result"
    }
   ],
   "source": [
    "import wandb\n",
    "wandb.login(key=\"fd9f24c89ea44085597d8689ee2472b1a6261015\")"
   ]
  },
  {
   "cell_type": "code",
   "execution_count": 3,
   "id": "0d6f76d0",
   "metadata": {
    "execution": {
     "iopub.execute_input": "2024-05-20T23:26:09.359025Z",
     "iopub.status.busy": "2024-05-20T23:26:09.358538Z",
     "iopub.status.idle": "2024-05-20T23:26:09.364515Z",
     "shell.execute_reply": "2024-05-20T23:26:09.363262Z"
    },
    "papermill": {
     "duration": 0.041722,
     "end_time": "2024-05-20T23:26:09.367207",
     "exception": false,
     "start_time": "2024-05-20T23:26:09.325485",
     "status": "completed"
    },
    "tags": []
   },
   "outputs": [],
   "source": [
    "config={\n",
    "    \"architecture\": \"Multimodal-Both\",\n",
    "    \"input_shape\": (32, 32, 3),\n",
    "    \"epochs\": 50,\n",
    "    \"batch_size\": 32,\n",
    "    \"seed\": 44,\n",
    "    \"use_small_sample\": False,\n",
    "}"
   ]
  },
  {
   "cell_type": "code",
   "execution_count": 4,
   "id": "882af926",
   "metadata": {
    "execution": {
     "iopub.execute_input": "2024-05-20T23:26:09.433104Z",
     "iopub.status.busy": "2024-05-20T23:26:09.432180Z",
     "iopub.status.idle": "2024-05-20T23:26:39.797499Z",
     "shell.execute_reply": "2024-05-20T23:26:39.796277Z"
    },
    "papermill": {
     "duration": 30.433763,
     "end_time": "2024-05-20T23:26:39.832643",
     "exception": false,
     "start_time": "2024-05-20T23:26:09.398880",
     "status": "completed"
    },
    "tags": []
   },
   "outputs": [
    {
     "name": "stderr",
     "output_type": "stream",
     "text": [
      "\u001b[34m\u001b[1mwandb\u001b[0m: Currently logged in as: \u001b[33mm-lechow13\u001b[0m (\u001b[33mbudalema\u001b[0m). Use \u001b[1m`wandb login --relogin`\u001b[0m to force relogin\n",
      "\u001b[34m\u001b[1mwandb\u001b[0m: wandb version 0.17.0 is available!  To upgrade, please run:\n",
      "\u001b[34m\u001b[1mwandb\u001b[0m:  $ pip install wandb --upgrade\n",
      "\u001b[34m\u001b[1mwandb\u001b[0m: Tracking run with wandb version 0.16.0\n",
      "\u001b[34m\u001b[1mwandb\u001b[0m: Run data is saved locally in \u001b[35m\u001b[1m/kaggle/working/wandb/run-20240520_232609-q9ljwasc\u001b[0m\n",
      "\u001b[34m\u001b[1mwandb\u001b[0m: Run \u001b[1m`wandb offline`\u001b[0m to turn off syncing.\n",
      "\u001b[34m\u001b[1mwandb\u001b[0m: Syncing run \u001b[33mcerulean-sound-110\u001b[0m\n",
      "\u001b[34m\u001b[1mwandb\u001b[0m: ⭐️ View project at \u001b[34m\u001b[4mhttps://wandb.ai/budalema/ai-detection\u001b[0m\n",
      "\u001b[34m\u001b[1mwandb\u001b[0m: 🚀 View run at \u001b[34m\u001b[4mhttps://wandb.ai/budalema/ai-detection/runs/q9ljwasc\u001b[0m\n"
     ]
    },
    {
     "data": {
      "text/html": [
       "<button onClick=\"this.nextSibling.style.display='block';this.style.display='none';\">Display W&B run</button><iframe src='https://wandb.ai/budalema/ai-detection/runs/q9ljwasc?jupyter=true' style='border:none;width:100%;height:420px;display:none;'></iframe>"
      ],
      "text/plain": [
       "<wandb.sdk.wandb_run.Run at 0x7a28bf69c700>"
      ]
     },
     "execution_count": 4,
     "metadata": {},
     "output_type": "execute_result"
    }
   ],
   "source": [
    "wandb.init(\n",
    "    # set the wandb project where this run will be logged\n",
    "    project=\"ai-detection\",\n",
    "\n",
    "    # track hyperparameters and run metadata with wandb.config\n",
    "    config=config\n",
    ")"
   ]
  },
  {
   "cell_type": "markdown",
   "id": "a7978cd9",
   "metadata": {
    "papermill": {
     "duration": 0.032286,
     "end_time": "2024-05-20T23:26:39.896862",
     "exception": false,
     "start_time": "2024-05-20T23:26:39.864576",
     "status": "completed"
    },
    "tags": []
   },
   "source": [
    "## Set seed for reproducability"
   ]
  },
  {
   "cell_type": "code",
   "execution_count": 5,
   "id": "460f04e7",
   "metadata": {
    "execution": {
     "iopub.execute_input": "2024-05-20T23:26:39.962496Z",
     "iopub.status.busy": "2024-05-20T23:26:39.962104Z",
     "iopub.status.idle": "2024-05-20T23:26:46.559001Z",
     "shell.execute_reply": "2024-05-20T23:26:46.557842Z"
    },
    "papermill": {
     "duration": 6.633338,
     "end_time": "2024-05-20T23:26:46.562146",
     "exception": false,
     "start_time": "2024-05-20T23:26:39.928808",
     "status": "completed"
    },
    "tags": []
   },
   "outputs": [],
   "source": [
    "import numpy as np\n",
    "import tensorflow as tf\n",
    "\n",
    "SEED = config[\"seed\"]\n",
    "\n",
    "# Set random seed for NumPy\n",
    "np.random.seed(SEED)\n",
    "\n",
    "# Set random seed for TensorFlow\n",
    "tf.random.set_seed(SEED)"
   ]
  },
  {
   "cell_type": "code",
   "execution_count": 6,
   "id": "1efdfe9c",
   "metadata": {
    "execution": {
     "iopub.execute_input": "2024-05-20T23:26:46.633278Z",
     "iopub.status.busy": "2024-05-20T23:26:46.631197Z",
     "iopub.status.idle": "2024-05-20T23:26:46.639712Z",
     "shell.execute_reply": "2024-05-20T23:26:46.638589Z"
    },
    "papermill": {
     "duration": 0.047328,
     "end_time": "2024-05-20T23:26:46.642216",
     "exception": false,
     "start_time": "2024-05-20T23:26:46.594888",
     "status": "completed"
    },
    "tags": []
   },
   "outputs": [
    {
     "name": "stdout",
     "output_type": "stream",
     "text": [
      "['cifake-real-and-ai-generated-synthetic-images', 'cifake-rgb-radiomic-features']\n"
     ]
    }
   ],
   "source": [
    "import os\n",
    "\n",
    "print(os.listdir(\"/kaggle/input\"))"
   ]
  },
  {
   "cell_type": "markdown",
   "id": "66bf785b",
   "metadata": {
    "papermill": {
     "duration": 0.032762,
     "end_time": "2024-05-20T23:26:46.708776",
     "exception": false,
     "start_time": "2024-05-20T23:26:46.676014",
     "status": "completed"
    },
    "tags": []
   },
   "source": [
    "## Import data"
   ]
  },
  {
   "cell_type": "code",
   "execution_count": 7,
   "id": "c13b7a46",
   "metadata": {
    "execution": {
     "iopub.execute_input": "2024-05-20T23:26:46.777132Z",
     "iopub.status.busy": "2024-05-20T23:26:46.775699Z",
     "iopub.status.idle": "2024-05-20T23:27:41.769005Z",
     "shell.execute_reply": "2024-05-20T23:27:41.767105Z"
    },
    "papermill": {
     "duration": 55.032494,
     "end_time": "2024-05-20T23:27:41.774064",
     "exception": false,
     "start_time": "2024-05-20T23:26:46.741570",
     "status": "completed"
    },
    "tags": []
   },
   "outputs": [
    {
     "name": "stdout",
     "output_type": "stream",
     "text": [
      "Found 100000 files belonging to 2 classes.\n",
      "Found 20000 files belonging to 2 classes.\n"
     ]
    }
   ],
   "source": [
    "image_path_train = \"/kaggle/input/cifake-real-and-ai-generated-synthetic-images/train\"\n",
    "\n",
    "IMAGE_SIZE = (config[\"input_shape\"][0], config[\"input_shape\"][1])\n",
    "BATCH_SIZE = None # do not batch - we want to perform shuffle\n",
    "\n",
    "image_dataset_train = tf.keras.utils.image_dataset_from_directory(\n",
    "    directory=image_path_train,\n",
    "    batch_size=BATCH_SIZE,\n",
    "    image_size=IMAGE_SIZE,\n",
    "    label_mode='categorical',\n",
    "#     subset='training',\n",
    "#     validation_split=0.1,\n",
    "    seed=config[\"seed\"],\n",
    "    shuffle=False\n",
    ")\n",
    "\n",
    "# validation_dataset = tf.keras.utils.image_dataset_from_directory(\n",
    "#     directory=image_path_train,\n",
    "#     batch_size=BATCH_SIZE,\n",
    "#     image_size=IMAGE_SIZE,\n",
    "#     label_mode='categorical',\n",
    "#     subset='validation',\n",
    "#     validation_split=0.1,\n",
    "#     seed=config[\"seed\"],\n",
    "# )\n",
    "\n",
    "image_path_test = \"/kaggle/input/cifake-real-and-ai-generated-synthetic-images/test\"\n",
    "\n",
    "image_dataset_test = tf.keras.utils.image_dataset_from_directory(\n",
    "    directory=image_path_test,\n",
    "    batch_size=BATCH_SIZE,\n",
    "    image_size=IMAGE_SIZE,\n",
    "    label_mode='categorical',\n",
    "    shuffle=False,\n",
    ")"
   ]
  },
  {
   "cell_type": "code",
   "execution_count": 8,
   "id": "342827e2",
   "metadata": {
    "execution": {
     "iopub.execute_input": "2024-05-20T23:27:41.846959Z",
     "iopub.status.busy": "2024-05-20T23:27:41.846475Z",
     "iopub.status.idle": "2024-05-20T23:27:41.856485Z",
     "shell.execute_reply": "2024-05-20T23:27:41.854859Z"
    },
    "papermill": {
     "duration": 0.048643,
     "end_time": "2024-05-20T23:27:41.859442",
     "exception": false,
     "start_time": "2024-05-20T23:27:41.810799",
     "status": "completed"
    },
    "tags": []
   },
   "outputs": [
    {
     "name": "stdout",
     "output_type": "stream",
     "text": [
      "Class Encoding: ['FAKE', 'REAL']\n"
     ]
    }
   ],
   "source": [
    "# Get the class encoding from the generator\n",
    "class_encoding = image_dataset_train.class_names\n",
    "\n",
    "# Print the class encoding\n",
    "print(\"Class Encoding:\", class_encoding)"
   ]
  },
  {
   "cell_type": "code",
   "execution_count": 9,
   "id": "b393f9fa",
   "metadata": {
    "execution": {
     "iopub.execute_input": "2024-05-20T23:27:41.931210Z",
     "iopub.status.busy": "2024-05-20T23:27:41.929984Z",
     "iopub.status.idle": "2024-05-20T23:30:49.626430Z",
     "shell.execute_reply": "2024-05-20T23:30:49.624046Z"
    },
    "papermill": {
     "duration": 187.736608,
     "end_time": "2024-05-20T23:30:49.631893",
     "exception": false,
     "start_time": "2024-05-20T23:27:41.895285",
     "status": "completed"
    },
    "tags": []
   },
   "outputs": [],
   "source": [
    "import pandas as pd\n",
    "df = pd.read_csv(\"/kaggle/input/cifake-rgb-radiomic-features/RGB_train_features.csv\", index_col=0)\n",
    "df_test = pd.read_csv(\"/kaggle/input/cifake-rgb-radiomic-features/RGB_test_features.csv\", index_col=0)"
   ]
  },
  {
   "cell_type": "code",
   "execution_count": 10,
   "id": "8d275647",
   "metadata": {
    "execution": {
     "iopub.execute_input": "2024-05-20T23:30:49.705816Z",
     "iopub.status.busy": "2024-05-20T23:30:49.704912Z",
     "iopub.status.idle": "2024-05-20T23:30:49.717153Z",
     "shell.execute_reply": "2024-05-20T23:30:49.716072Z"
    },
    "papermill": {
     "duration": 0.05122,
     "end_time": "2024-05-20T23:30:49.720200",
     "exception": false,
     "start_time": "2024-05-20T23:30:49.668980",
     "status": "completed"
    },
    "tags": []
   },
   "outputs": [],
   "source": [
    "def drop_columns(df, drop_only_diagnostic=False):\n",
    "    for column in df.columns:\n",
    "        if df[column].min() == df[column].max() and not drop_only_diagnostic:\n",
    "            df.drop(column, axis=1, inplace=True)\n",
    "        elif 'diagnostics' in column:\n",
    "            df.drop(column, axis=1, inplace=True)\n",
    "        elif 'Mask' in column:\n",
    "            df.drop(column, axis=1, inplace=True)\n",
    "            \n",
    "def preprocess_dataset(df, **kwargs):\n",
    "    # print indexes and image names of rows with NaN values\n",
    "    nans = df[df.isnull().any(axis=1)]['Image'].apply(lambda x : x.split('/')[-1])\n",
    "    if not nans.empty:\n",
    "        print(f\"Rows with NaN values:\")\n",
    "        print(nans)\n",
    "    df.dropna(inplace=True)  \n",
    "    drop_columns(df, **kwargs)\n",
    "    \n",
    "def unify_columns(base_columns, df):\n",
    "    # drop columns that are not in base_columns\n",
    "    to_drop = list()\n",
    "    for column in df.columns:\n",
    "        if column not in base_columns:\n",
    "            to_drop.append(column)\n",
    "            \n",
    "    df.drop(to_drop, axis=1, inplace=True)"
   ]
  },
  {
   "cell_type": "code",
   "execution_count": 11,
   "id": "0ddff1e9",
   "metadata": {
    "execution": {
     "iopub.execute_input": "2024-05-20T23:30:49.792066Z",
     "iopub.status.busy": "2024-05-20T23:30:49.791256Z",
     "iopub.status.idle": "2024-05-20T23:32:18.425878Z",
     "shell.execute_reply": "2024-05-20T23:32:18.424262Z"
    },
    "papermill": {
     "duration": 88.674488,
     "end_time": "2024-05-20T23:32:18.429102",
     "exception": false,
     "start_time": "2024-05-20T23:30:49.754614",
     "status": "completed"
    },
    "tags": []
   },
   "outputs": [],
   "source": [
    "from sklearn.model_selection import train_test_split\n",
    "\n",
    "preprocess_dataset(df, drop_only_diagnostic=True)\n",
    "preprocess_dataset(df_test, drop_only_diagnostic=True)\n",
    "\n",
    "X = df.drop('Category', axis=1)\n",
    "y = df['Category']\n",
    "\n",
    "Image = X['Image']\n",
    "X = X.drop('Image', axis=1)"
   ]
  },
  {
   "cell_type": "code",
   "execution_count": 12,
   "id": "a48a6370",
   "metadata": {
    "execution": {
     "iopub.execute_input": "2024-05-20T23:32:18.604544Z",
     "iopub.status.busy": "2024-05-20T23:32:18.603719Z",
     "iopub.status.idle": "2024-05-20T23:32:18.642832Z",
     "shell.execute_reply": "2024-05-20T23:32:18.641329Z"
    },
    "papermill": {
     "duration": 0.183835,
     "end_time": "2024-05-20T23:32:18.645678",
     "exception": false,
     "start_time": "2024-05-20T23:32:18.461843",
     "status": "completed"
    },
    "tags": []
   },
   "outputs": [
    {
     "data": {
      "text/html": [
       "<div>\n",
       "<style scoped>\n",
       "    .dataframe tbody tr th:only-of-type {\n",
       "        vertical-align: middle;\n",
       "    }\n",
       "\n",
       "    .dataframe tbody tr th {\n",
       "        vertical-align: top;\n",
       "    }\n",
       "\n",
       "    .dataframe thead th {\n",
       "        text-align: right;\n",
       "    }\n",
       "</style>\n",
       "<table border=\"1\" class=\"dataframe\">\n",
       "  <thead>\n",
       "    <tr style=\"text-align: right;\">\n",
       "      <th></th>\n",
       "      <th>R_original_shape2D_Elongation</th>\n",
       "      <th>R_original_shape2D_MajorAxisLength</th>\n",
       "      <th>R_original_shape2D_MaximumDiameter</th>\n",
       "      <th>R_original_shape2D_MeshSurface</th>\n",
       "      <th>R_original_shape2D_MinorAxisLength</th>\n",
       "      <th>R_original_shape2D_Perimeter</th>\n",
       "      <th>R_original_shape2D_PerimeterSurfaceRatio</th>\n",
       "      <th>R_original_shape2D_PixelSurface</th>\n",
       "      <th>R_original_shape2D_Sphericity</th>\n",
       "      <th>R_original_firstorder_10Percentile</th>\n",
       "      <th>...</th>\n",
       "      <th>B_lbp-2D_gldm_LargeDependenceLowGrayLevelEmphasis</th>\n",
       "      <th>B_lbp-2D_gldm_LowGrayLevelEmphasis</th>\n",
       "      <th>B_lbp-2D_gldm_SmallDependenceEmphasis</th>\n",
       "      <th>B_lbp-2D_gldm_SmallDependenceHighGrayLevelEmphasis</th>\n",
       "      <th>B_lbp-2D_gldm_SmallDependenceLowGrayLevelEmphasis</th>\n",
       "      <th>B_lbp-2D_ngtdm_Busyness</th>\n",
       "      <th>B_lbp-2D_ngtdm_Coarseness</th>\n",
       "      <th>B_lbp-2D_ngtdm_Complexity</th>\n",
       "      <th>B_lbp-2D_ngtdm_Contrast</th>\n",
       "      <th>B_lbp-2D_ngtdm_Strength</th>\n",
       "    </tr>\n",
       "  </thead>\n",
       "  <tbody>\n",
       "    <tr>\n",
       "      <th>0</th>\n",
       "      <td>1.0</td>\n",
       "      <td>36.932371</td>\n",
       "      <td>44.553339</td>\n",
       "      <td>1023.5</td>\n",
       "      <td>36.932371</td>\n",
       "      <td>126.828427</td>\n",
       "      <td>0.123916</td>\n",
       "      <td>1024.0</td>\n",
       "      <td>0.894195</td>\n",
       "      <td>-118.333224</td>\n",
       "      <td>...</td>\n",
       "      <td>8.6875</td>\n",
       "      <td>1.0</td>\n",
       "      <td>0.119792</td>\n",
       "      <td>0.119792</td>\n",
       "      <td>0.119792</td>\n",
       "      <td>0.0</td>\n",
       "      <td>1000000.0</td>\n",
       "      <td>0.0</td>\n",
       "      <td>0.0</td>\n",
       "      <td>0.0</td>\n",
       "    </tr>\n",
       "    <tr>\n",
       "      <th>1</th>\n",
       "      <td>1.0</td>\n",
       "      <td>36.932371</td>\n",
       "      <td>44.553339</td>\n",
       "      <td>1023.5</td>\n",
       "      <td>36.932371</td>\n",
       "      <td>126.828427</td>\n",
       "      <td>0.123916</td>\n",
       "      <td>1024.0</td>\n",
       "      <td>0.894195</td>\n",
       "      <td>-153.391086</td>\n",
       "      <td>...</td>\n",
       "      <td>8.6875</td>\n",
       "      <td>1.0</td>\n",
       "      <td>0.119792</td>\n",
       "      <td>0.119792</td>\n",
       "      <td>0.119792</td>\n",
       "      <td>0.0</td>\n",
       "      <td>1000000.0</td>\n",
       "      <td>0.0</td>\n",
       "      <td>0.0</td>\n",
       "      <td>0.0</td>\n",
       "    </tr>\n",
       "    <tr>\n",
       "      <th>2</th>\n",
       "      <td>1.0</td>\n",
       "      <td>36.932371</td>\n",
       "      <td>44.553339</td>\n",
       "      <td>1023.5</td>\n",
       "      <td>36.932371</td>\n",
       "      <td>126.828427</td>\n",
       "      <td>0.123916</td>\n",
       "      <td>1024.0</td>\n",
       "      <td>0.894195</td>\n",
       "      <td>-173.356861</td>\n",
       "      <td>...</td>\n",
       "      <td>8.6875</td>\n",
       "      <td>1.0</td>\n",
       "      <td>0.119792</td>\n",
       "      <td>0.119792</td>\n",
       "      <td>0.119792</td>\n",
       "      <td>0.0</td>\n",
       "      <td>1000000.0</td>\n",
       "      <td>0.0</td>\n",
       "      <td>0.0</td>\n",
       "      <td>0.0</td>\n",
       "    </tr>\n",
       "    <tr>\n",
       "      <th>3</th>\n",
       "      <td>1.0</td>\n",
       "      <td>36.932371</td>\n",
       "      <td>44.553339</td>\n",
       "      <td>1023.5</td>\n",
       "      <td>36.932371</td>\n",
       "      <td>126.828427</td>\n",
       "      <td>0.123916</td>\n",
       "      <td>1024.0</td>\n",
       "      <td>0.894195</td>\n",
       "      <td>-132.478270</td>\n",
       "      <td>...</td>\n",
       "      <td>8.6875</td>\n",
       "      <td>1.0</td>\n",
       "      <td>0.119792</td>\n",
       "      <td>0.119792</td>\n",
       "      <td>0.119792</td>\n",
       "      <td>0.0</td>\n",
       "      <td>1000000.0</td>\n",
       "      <td>0.0</td>\n",
       "      <td>0.0</td>\n",
       "      <td>0.0</td>\n",
       "    </tr>\n",
       "    <tr>\n",
       "      <th>4</th>\n",
       "      <td>1.0</td>\n",
       "      <td>36.932371</td>\n",
       "      <td>44.553339</td>\n",
       "      <td>1023.5</td>\n",
       "      <td>36.932371</td>\n",
       "      <td>126.828427</td>\n",
       "      <td>0.123916</td>\n",
       "      <td>1024.0</td>\n",
       "      <td>0.894195</td>\n",
       "      <td>-129.649860</td>\n",
       "      <td>...</td>\n",
       "      <td>8.6875</td>\n",
       "      <td>1.0</td>\n",
       "      <td>0.119792</td>\n",
       "      <td>0.119792</td>\n",
       "      <td>0.119792</td>\n",
       "      <td>0.0</td>\n",
       "      <td>1000000.0</td>\n",
       "      <td>0.0</td>\n",
       "      <td>0.0</td>\n",
       "      <td>0.0</td>\n",
       "    </tr>\n",
       "  </tbody>\n",
       "</table>\n",
       "<p>5 rows × 2484 columns</p>\n",
       "</div>"
      ],
      "text/plain": [
       "   R_original_shape2D_Elongation  R_original_shape2D_MajorAxisLength  \\\n",
       "0                            1.0                           36.932371   \n",
       "1                            1.0                           36.932371   \n",
       "2                            1.0                           36.932371   \n",
       "3                            1.0                           36.932371   \n",
       "4                            1.0                           36.932371   \n",
       "\n",
       "   R_original_shape2D_MaximumDiameter  R_original_shape2D_MeshSurface  \\\n",
       "0                           44.553339                          1023.5   \n",
       "1                           44.553339                          1023.5   \n",
       "2                           44.553339                          1023.5   \n",
       "3                           44.553339                          1023.5   \n",
       "4                           44.553339                          1023.5   \n",
       "\n",
       "   R_original_shape2D_MinorAxisLength  R_original_shape2D_Perimeter  \\\n",
       "0                           36.932371                    126.828427   \n",
       "1                           36.932371                    126.828427   \n",
       "2                           36.932371                    126.828427   \n",
       "3                           36.932371                    126.828427   \n",
       "4                           36.932371                    126.828427   \n",
       "\n",
       "   R_original_shape2D_PerimeterSurfaceRatio  R_original_shape2D_PixelSurface  \\\n",
       "0                                  0.123916                           1024.0   \n",
       "1                                  0.123916                           1024.0   \n",
       "2                                  0.123916                           1024.0   \n",
       "3                                  0.123916                           1024.0   \n",
       "4                                  0.123916                           1024.0   \n",
       "\n",
       "   R_original_shape2D_Sphericity  R_original_firstorder_10Percentile  ...  \\\n",
       "0                       0.894195                         -118.333224  ...   \n",
       "1                       0.894195                         -153.391086  ...   \n",
       "2                       0.894195                         -173.356861  ...   \n",
       "3                       0.894195                         -132.478270  ...   \n",
       "4                       0.894195                         -129.649860  ...   \n",
       "\n",
       "   B_lbp-2D_gldm_LargeDependenceLowGrayLevelEmphasis  \\\n",
       "0                                             8.6875   \n",
       "1                                             8.6875   \n",
       "2                                             8.6875   \n",
       "3                                             8.6875   \n",
       "4                                             8.6875   \n",
       "\n",
       "   B_lbp-2D_gldm_LowGrayLevelEmphasis  B_lbp-2D_gldm_SmallDependenceEmphasis  \\\n",
       "0                                 1.0                               0.119792   \n",
       "1                                 1.0                               0.119792   \n",
       "2                                 1.0                               0.119792   \n",
       "3                                 1.0                               0.119792   \n",
       "4                                 1.0                               0.119792   \n",
       "\n",
       "   B_lbp-2D_gldm_SmallDependenceHighGrayLevelEmphasis  \\\n",
       "0                                           0.119792    \n",
       "1                                           0.119792    \n",
       "2                                           0.119792    \n",
       "3                                           0.119792    \n",
       "4                                           0.119792    \n",
       "\n",
       "   B_lbp-2D_gldm_SmallDependenceLowGrayLevelEmphasis  B_lbp-2D_ngtdm_Busyness  \\\n",
       "0                                           0.119792                      0.0   \n",
       "1                                           0.119792                      0.0   \n",
       "2                                           0.119792                      0.0   \n",
       "3                                           0.119792                      0.0   \n",
       "4                                           0.119792                      0.0   \n",
       "\n",
       "   B_lbp-2D_ngtdm_Coarseness  B_lbp-2D_ngtdm_Complexity  \\\n",
       "0                  1000000.0                        0.0   \n",
       "1                  1000000.0                        0.0   \n",
       "2                  1000000.0                        0.0   \n",
       "3                  1000000.0                        0.0   \n",
       "4                  1000000.0                        0.0   \n",
       "\n",
       "   B_lbp-2D_ngtdm_Contrast  B_lbp-2D_ngtdm_Strength  \n",
       "0                      0.0                      0.0  \n",
       "1                      0.0                      0.0  \n",
       "2                      0.0                      0.0  \n",
       "3                      0.0                      0.0  \n",
       "4                      0.0                      0.0  \n",
       "\n",
       "[5 rows x 2484 columns]"
      ]
     },
     "execution_count": 12,
     "metadata": {},
     "output_type": "execute_result"
    }
   ],
   "source": [
    "X.head()"
   ]
  },
  {
   "cell_type": "code",
   "execution_count": 13,
   "id": "d760a49a",
   "metadata": {
    "execution": {
     "iopub.execute_input": "2024-05-20T23:32:18.713186Z",
     "iopub.status.busy": "2024-05-20T23:32:18.712736Z",
     "iopub.status.idle": "2024-05-20T23:32:18.721780Z",
     "shell.execute_reply": "2024-05-20T23:32:18.720188Z"
    },
    "papermill": {
     "duration": 0.045948,
     "end_time": "2024-05-20T23:32:18.724333",
     "exception": false,
     "start_time": "2024-05-20T23:32:18.678385",
     "status": "completed"
    },
    "tags": []
   },
   "outputs": [
    {
     "name": "stdout",
     "output_type": "stream",
     "text": [
      "Index([], dtype='object')\n"
     ]
    }
   ],
   "source": [
    "non_float_columns = X.select_dtypes(exclude=['float']).columns\n",
    "print(non_float_columns)"
   ]
  },
  {
   "cell_type": "code",
   "execution_count": 14,
   "id": "2cca255d",
   "metadata": {
    "execution": {
     "iopub.execute_input": "2024-05-20T23:32:18.792152Z",
     "iopub.status.busy": "2024-05-20T23:32:18.791658Z",
     "iopub.status.idle": "2024-05-20T23:32:23.106146Z",
     "shell.execute_reply": "2024-05-20T23:32:23.104616Z"
    },
    "papermill": {
     "duration": 4.352519,
     "end_time": "2024-05-20T23:32:23.109441",
     "exception": false,
     "start_time": "2024-05-20T23:32:18.756922",
     "status": "completed"
    },
    "tags": []
   },
   "outputs": [],
   "source": [
    "X_tensor = tf.convert_to_tensor(X)\n",
    "X_tensor = tf.expand_dims(X_tensor, axis=0)\n",
    "X_tensor = tf.reshape(X_tensor, (-1, 1, X.shape[1]))\n",
    "# tf.reshape(X_tensor, [32, tf.size(X_tensor[0])])\n",
    "tabular_dataset = tf.data.Dataset.from_tensor_slices(X_tensor)"
   ]
  },
  {
   "cell_type": "code",
   "execution_count": 15,
   "id": "acacb71b",
   "metadata": {
    "execution": {
     "iopub.execute_input": "2024-05-20T23:32:23.179683Z",
     "iopub.status.busy": "2024-05-20T23:32:23.178860Z",
     "iopub.status.idle": "2024-05-20T23:32:23.187263Z",
     "shell.execute_reply": "2024-05-20T23:32:23.185975Z"
    },
    "papermill": {
     "duration": 0.046651,
     "end_time": "2024-05-20T23:32:23.189892",
     "exception": false,
     "start_time": "2024-05-20T23:32:23.143241",
     "status": "completed"
    },
    "tags": []
   },
   "outputs": [
    {
     "data": {
      "text/plain": [
       "<TensorSliceDataset element_spec=TensorSpec(shape=(1, 2484), dtype=tf.float64, name=None)>"
      ]
     },
     "execution_count": 15,
     "metadata": {},
     "output_type": "execute_result"
    }
   ],
   "source": [
    "tabular_dataset"
   ]
  },
  {
   "cell_type": "code",
   "execution_count": 16,
   "id": "dee53f4b",
   "metadata": {
    "execution": {
     "iopub.execute_input": "2024-05-20T23:32:23.262625Z",
     "iopub.status.busy": "2024-05-20T23:32:23.262018Z",
     "iopub.status.idle": "2024-05-20T23:32:23.270434Z",
     "shell.execute_reply": "2024-05-20T23:32:23.269152Z"
    },
    "papermill": {
     "duration": 0.046641,
     "end_time": "2024-05-20T23:32:23.272719",
     "exception": false,
     "start_time": "2024-05-20T23:32:23.226078",
     "status": "completed"
    },
    "tags": []
   },
   "outputs": [
    {
     "data": {
      "text/plain": [
       "<PrefetchDataset element_spec=(TensorSpec(shape=(32, 32, 3), dtype=tf.float32, name=None), TensorSpec(shape=(2,), dtype=tf.float32, name=None))>"
      ]
     },
     "execution_count": 16,
     "metadata": {},
     "output_type": "execute_result"
    }
   ],
   "source": [
    "image_dataset_train"
   ]
  },
  {
   "cell_type": "code",
   "execution_count": 17,
   "id": "5b763075",
   "metadata": {
    "execution": {
     "iopub.execute_input": "2024-05-20T23:32:23.343218Z",
     "iopub.status.busy": "2024-05-20T23:32:23.342697Z",
     "iopub.status.idle": "2024-05-20T23:32:23.400928Z",
     "shell.execute_reply": "2024-05-20T23:32:23.399382Z"
    },
    "papermill": {
     "duration": 0.098197,
     "end_time": "2024-05-20T23:32:23.404344",
     "exception": false,
     "start_time": "2024-05-20T23:32:23.306147",
     "status": "completed"
    },
    "tags": []
   },
   "outputs": [
    {
     "data": {
      "text/plain": [
       "<ZipDataset element_spec=((TensorSpec(shape=(32, 32, 3), dtype=tf.float32, name=None), TensorSpec(shape=(1, 2484), dtype=tf.float64, name=None)), TensorSpec(shape=(2,), dtype=tf.float32, name=None))>"
      ]
     },
     "execution_count": 17,
     "metadata": {},
     "output_type": "execute_result"
    }
   ],
   "source": [
    "# Merge datasets\n",
    "images = image_dataset_train.map(lambda x, y : x)\n",
    "labels = image_dataset_train.map(lambda x, y : y)\n",
    "joint_dataset = tf.data.Dataset.zip(((images, tabular_dataset), labels))\n",
    "joint_dataset"
   ]
  },
  {
   "cell_type": "code",
   "execution_count": 18,
   "id": "80ad215b",
   "metadata": {
    "execution": {
     "iopub.execute_input": "2024-05-20T23:32:23.476019Z",
     "iopub.status.busy": "2024-05-20T23:32:23.475542Z",
     "iopub.status.idle": "2024-05-20T23:32:23.493914Z",
     "shell.execute_reply": "2024-05-20T23:32:23.492511Z"
    },
    "papermill": {
     "duration": 0.057104,
     "end_time": "2024-05-20T23:32:23.496811",
     "exception": false,
     "start_time": "2024-05-20T23:32:23.439707",
     "status": "completed"
    },
    "tags": []
   },
   "outputs": [
    {
     "name": "stdout",
     "output_type": "stream",
     "text": [
      "2813\n",
      "312\n"
     ]
    }
   ],
   "source": [
    "# Define the total size of your dataset\n",
    "total_size = len(joint_dataset)\n",
    "\n",
    "# Define the size of the validation set (e.g., 20%)\n",
    "validation_size = int(0.1 * total_size)\n",
    "\n",
    "# Shuffle the dataset\n",
    "dataset_shuffled = joint_dataset.shuffle(buffer_size=total_size, seed=config[\"seed\"])\n",
    "dataset_shuffled = dataset_shuffled.batch(config[\"batch_size\"])\n",
    "\n",
    "# Define the total size of your dataset\n",
    "total_size = len(dataset_shuffled)\n",
    "\n",
    "# Define the size of the validation set (e.g., 20%)\n",
    "validation_size = int(0.1 * total_size)\n",
    "\n",
    "# Split the dataset into training and validation sets\n",
    "validation_dataset = dataset_shuffled.take(validation_size)\n",
    "train_dataset = dataset_shuffled.skip(validation_size)\n",
    "\n",
    "print(int(train_dataset.cardinality()))\n",
    "print(int(validation_dataset.cardinality()))"
   ]
  },
  {
   "cell_type": "markdown",
   "id": "46286045",
   "metadata": {
    "papermill": {
     "duration": 0.034106,
     "end_time": "2024-05-20T23:32:23.565190",
     "exception": false,
     "start_time": "2024-05-20T23:32:23.531084",
     "status": "completed"
    },
    "tags": []
   },
   "source": [
    "## Load and show sample image"
   ]
  },
  {
   "cell_type": "code",
   "execution_count": 19,
   "id": "982f16ca",
   "metadata": {
    "execution": {
     "iopub.execute_input": "2024-05-20T23:32:23.636420Z",
     "iopub.status.busy": "2024-05-20T23:32:23.635937Z",
     "iopub.status.idle": "2024-05-20T23:32:23.644982Z",
     "shell.execute_reply": "2024-05-20T23:32:23.643683Z"
    },
    "papermill": {
     "duration": 0.048194,
     "end_time": "2024-05-20T23:32:23.647677",
     "exception": false,
     "start_time": "2024-05-20T23:32:23.599483",
     "status": "completed"
    },
    "tags": []
   },
   "outputs": [
    {
     "data": {
      "text/plain": [
       "<TakeDataset element_spec=((TensorSpec(shape=(None, 32, 32, 3), dtype=tf.float32, name=None), TensorSpec(shape=(None, 1, 2484), dtype=tf.float64, name=None)), TensorSpec(shape=(None, 2), dtype=tf.float32, name=None))>"
      ]
     },
     "execution_count": 19,
     "metadata": {},
     "output_type": "execute_result"
    }
   ],
   "source": [
    "# Retrieve a batch of data from the generator\n",
    "first_element = train_dataset.take(1)\n",
    "first_element"
   ]
  },
  {
   "cell_type": "code",
   "execution_count": 20,
   "id": "b321e34f",
   "metadata": {
    "execution": {
     "iopub.execute_input": "2024-05-20T23:32:23.718643Z",
     "iopub.status.busy": "2024-05-20T23:32:23.718150Z",
     "iopub.status.idle": "2024-05-20T23:35:42.667661Z",
     "shell.execute_reply": "2024-05-20T23:35:42.666681Z"
    },
    "papermill": {
     "duration": 199.023514,
     "end_time": "2024-05-20T23:35:42.705307",
     "exception": false,
     "start_time": "2024-05-20T23:32:23.681793",
     "status": "completed"
    },
    "tags": []
   },
   "outputs": [
    {
     "data": {
      "image/png": "[encoded data removed]",
      "text/plain": [
       "<Figure size 640x480 with 1 Axes>"
      ]
     },
     "metadata": {},
     "output_type": "display_data"
    }
   ],
   "source": [
    "import matplotlib.pyplot as plt\n",
    "\n",
    "# Extract images and labels from the first element\n",
    "x, labels = next(iter(first_element))\n",
    "images, tabular_data = x\n",
    "\n",
    "plt.imshow(images[0].numpy().squeeze().astype(\"uint8\"))\n",
    "plt.title(f\"Class: {image_dataset_train.class_names[labels[0].numpy().argmax()]}\")\n",
    "#     plt.axis('off')\n",
    "plt.show()"
   ]
  },
  {
   "cell_type": "code",
   "execution_count": 21,
   "id": "a6216eb5",
   "metadata": {
    "execution": {
     "iopub.execute_input": "2024-05-20T23:35:42.777264Z",
     "iopub.status.busy": "2024-05-20T23:35:42.775986Z",
     "iopub.status.idle": "2024-05-20T23:35:42.786416Z",
     "shell.execute_reply": "2024-05-20T23:35:42.784991Z"
    },
    "papermill": {
     "duration": 0.049203,
     "end_time": "2024-05-20T23:35:42.789068",
     "exception": false,
     "start_time": "2024-05-20T23:35:42.739865",
     "status": "completed"
    },
    "tags": []
   },
   "outputs": [
    {
     "data": {
      "text/plain": [
       "<tf.Tensor: shape=(32, 2), dtype=float32, numpy=\n",
       "array([[0., 1.],\n",
       "       [1., 0.],\n",
       "       [1., 0.],\n",
       "       [0., 1.],\n",
       "       [0., 1.],\n",
       "       [1., 0.],\n",
       "       [0., 1.],\n",
       "       [0., 1.],\n",
       "       [1., 0.],\n",
       "       [0., 1.],\n",
       "       [0., 1.],\n",
       "       [1., 0.],\n",
       "       [1., 0.],\n",
       "       [0., 1.],\n",
       "       [0., 1.],\n",
       "       [1., 0.],\n",
       "       [0., 1.],\n",
       "       [1., 0.],\n",
       "       [1., 0.],\n",
       "       [0., 1.],\n",
       "       [0., 1.],\n",
       "       [0., 1.],\n",
       "       [0., 1.],\n",
       "       [0., 1.],\n",
       "       [1., 0.],\n",
       "       [0., 1.],\n",
       "       [0., 1.],\n",
       "       [1., 0.],\n",
       "       [0., 1.],\n",
       "       [0., 1.],\n",
       "       [1., 0.],\n",
       "       [0., 1.]], dtype=float32)>"
      ]
     },
     "execution_count": 21,
     "metadata": {},
     "output_type": "execute_result"
    }
   ],
   "source": [
    "labels"
   ]
  },
  {
   "cell_type": "code",
   "execution_count": 22,
   "id": "b6d5b52f",
   "metadata": {
    "execution": {
     "iopub.execute_input": "2024-05-20T23:35:42.861538Z",
     "iopub.status.busy": "2024-05-20T23:35:42.860999Z",
     "iopub.status.idle": "2024-05-20T23:35:42.874166Z",
     "shell.execute_reply": "2024-05-20T23:35:42.872762Z"
    },
    "papermill": {
     "duration": 0.052139,
     "end_time": "2024-05-20T23:35:42.877158",
     "exception": false,
     "start_time": "2024-05-20T23:35:42.825019",
     "status": "completed"
    },
    "tags": []
   },
   "outputs": [
    {
     "data": {
      "text/plain": [
       "<tf.Tensor: shape=(32, 1, 2484), dtype=float64, numpy=\n",
       "array([[[ 1.        , 36.93237063, 44.55333882, ...,  0.        ,\n",
       "          0.        ,  0.        ]],\n",
       "\n",
       "       [[ 1.        , 36.93237063, 44.55333882, ...,  0.        ,\n",
       "          0.        ,  0.        ]],\n",
       "\n",
       "       [[ 1.        , 36.93237063, 44.55333882, ...,  0.        ,\n",
       "          0.        ,  0.        ]],\n",
       "\n",
       "       ...,\n",
       "\n",
       "       [[ 1.        , 36.93237063, 44.55333882, ...,  0.        ,\n",
       "          0.        ,  0.        ]],\n",
       "\n",
       "       [[ 1.        , 36.93237063, 44.55333882, ...,  0.        ,\n",
       "          0.        ,  0.        ]],\n",
       "\n",
       "       [[ 1.        , 36.93237063, 44.55333882, ...,  0.        ,\n",
       "          0.        ,  0.        ]]])>"
      ]
     },
     "execution_count": 22,
     "metadata": {},
     "output_type": "execute_result"
    }
   ],
   "source": [
    "tabular_data"
   ]
  },
  {
   "cell_type": "code",
   "execution_count": 23,
   "id": "061eccd5",
   "metadata": {
    "execution": {
     "iopub.execute_input": "2024-05-20T23:35:42.950767Z",
     "iopub.status.busy": "2024-05-20T23:35:42.950348Z",
     "iopub.status.idle": "2024-05-20T23:35:43.461070Z",
     "shell.execute_reply": "2024-05-20T23:35:43.459733Z"
    },
    "papermill": {
     "duration": 0.551358,
     "end_time": "2024-05-20T23:35:43.464749",
     "exception": false,
     "start_time": "2024-05-20T23:35:42.913391",
     "status": "completed"
    },
    "tags": []
   },
   "outputs": [],
   "source": [
    "norm = tf.keras.layers.Normalization()\n",
    "norm.adapt(tabular_data)"
   ]
  },
  {
   "cell_type": "code",
   "execution_count": 24,
   "id": "521f5474",
   "metadata": {
    "execution": {
     "iopub.execute_input": "2024-05-20T23:35:43.536248Z",
     "iopub.status.busy": "2024-05-20T23:35:43.535803Z",
     "iopub.status.idle": "2024-05-20T23:35:43.792750Z",
     "shell.execute_reply": "2024-05-20T23:35:43.791116Z"
    },
    "papermill": {
     "duration": 0.296049,
     "end_time": "2024-05-20T23:35:43.795532",
     "exception": false,
     "start_time": "2024-05-20T23:35:43.499483",
     "status": "completed"
    },
    "tags": []
   },
   "outputs": [
    {
     "name": "stdout",
     "output_type": "stream",
     "text": [
      "Model: \"model\"\n",
      "__________________________________________________________________________________________________\n",
      " Layer (type)                   Output Shape         Param #     Connected to                     \n",
      "==================================================================================================\n",
      " tabular_input (InputLayer)     [(None, 1, 2484)]    0           []                               \n",
      "                                                                                                  \n",
      " normalization (Normalization)  (None, 1, 2484)      4969        ['tabular_input[0][0]']          \n",
      "                                                                                                  \n",
      " dense (Dense)                  (None, 1, 32)        79520       ['normalization[0][0]']          \n",
      "                                                                                                  \n",
      " batch_normalization_1 (BatchNo  (None, 1, 32)       128         ['dense[0][0]']                  \n",
      " rmalization)                                                                                     \n",
      "                                                                                                  \n",
      " re_lu_1 (ReLU)                 (None, 1, 32)        0           ['batch_normalization_1[0][0]']  \n",
      "                                                                                                  \n",
      " img_input (InputLayer)         [(None, 32, 32, 3)]  0           []                               \n",
      "                                                                                                  \n",
      " dropout (Dropout)              (None, 1, 32)        0           ['re_lu_1[0][0]']                \n",
      "                                                                                                  \n",
      " conv2d (Conv2D)                (None, 30, 30, 64)   1792        ['img_input[0][0]']              \n",
      "                                                                                                  \n",
      " dense_1 (Dense)                (None, 1, 16)        528         ['dropout[0][0]']                \n",
      "                                                                                                  \n",
      " batch_normalization (BatchNorm  (None, 30, 30, 64)  256         ['conv2d[0][0]']                 \n",
      " alization)                                                                                       \n",
      "                                                                                                  \n",
      " batch_normalization_2 (BatchNo  (None, 1, 16)       64          ['dense_1[0][0]']                \n",
      " rmalization)                                                                                     \n",
      "                                                                                                  \n",
      " re_lu (ReLU)                   (None, 30, 30, 64)   0           ['batch_normalization[0][0]']    \n",
      "                                                                                                  \n",
      " re_lu_2 (ReLU)                 (None, 1, 16)        0           ['batch_normalization_2[0][0]']  \n",
      "                                                                                                  \n",
      " flatten (Flatten)              (None, 57600)        0           ['re_lu[0][0]']                  \n",
      "                                                                                                  \n",
      " flatten_1 (Flatten)            (None, 16)           0           ['re_lu_2[0][0]']                \n",
      "                                                                                                  \n",
      " concatenate (Concatenate)      (None, 57616)        0           ['flatten[0][0]',                \n",
      "                                                                  'flatten_1[0][0]']              \n",
      "                                                                                                  \n",
      " dense_2 (Dense)                (None, 2)            115234      ['concatenate[0][0]']            \n",
      "                                                                                                  \n",
      "==================================================================================================\n",
      "Total params: 202,491\n",
      "Trainable params: 197,298\n",
      "Non-trainable params: 5,193\n",
      "__________________________________________________________________________________________________\n"
     ]
    }
   ],
   "source": [
    "from tensorflow.keras import layers\n",
    "\n",
    "NUMBER_OF_CLASSES = 2\n",
    "\n",
    "# Image part\n",
    "img_input = layers.Input(shape=config[\"input_shape\"], name='img_input')\n",
    "\n",
    "img_X = layers.Conv2D(64, (3, 3))(img_input)\n",
    "img_X = layers.BatchNormalization()(img_X)\n",
    "img_X = layers.ReLU()(img_X)\n",
    "\n",
    "img_output = layers.Flatten()(img_X)\n",
    "\n",
    "# Radiomic part\n",
    "tabular_input = layers.Input(shape=tuple(tabular_data.shape[1:]), name='tabular_input')\n",
    "tabular_X = norm(tabular_input)\n",
    "\n",
    "tabular_X = layers.Dense(32)(tabular_X)\n",
    "tabular_X = layers.BatchNormalization()(tabular_X)\n",
    "tabular_X = layers.ReLU()(tabular_X)\n",
    "\n",
    "tabular_X = layers.Dropout(0.3)(tabular_X)\n",
    "\n",
    "tabular_X = layers.Dense(16)(tabular_X)\n",
    "tabular_X = layers.BatchNormalization()(tabular_X)\n",
    "tabular_X = layers.ReLU()(tabular_X)\n",
    "\n",
    "tabular_output = layers.Flatten()(tabular_X)\n",
    "\n",
    "# Combine\n",
    "combined = layers.Concatenate()([img_output, tabular_output])\n",
    "\n",
    "# output\n",
    "output = layers.Dense(NUMBER_OF_CLASSES, activation='softmax')(combined)\n",
    "\n",
    "# define model\n",
    "keras_model = tf.keras.Model(inputs=[img_input, tabular_input], outputs=output)\n",
    "\n",
    "keras_model.summary()\n",
    "\n"
   ]
  },
  {
   "cell_type": "code",
   "execution_count": 25,
   "id": "63298e46",
   "metadata": {
    "execution": {
     "iopub.execute_input": "2024-05-20T23:35:43.881315Z",
     "iopub.status.busy": "2024-05-20T23:35:43.880881Z",
     "iopub.status.idle": "2024-05-20T23:35:43.903996Z",
     "shell.execute_reply": "2024-05-20T23:35:43.902672Z"
    },
    "papermill": {
     "duration": 0.069635,
     "end_time": "2024-05-20T23:35:43.907501",
     "exception": false,
     "start_time": "2024-05-20T23:35:43.837866",
     "status": "completed"
    },
    "tags": []
   },
   "outputs": [],
   "source": [
    "keras_model.compile(optimizer='adam', loss='categorical_crossentropy', metrics=['accuracy'])"
   ]
  },
  {
   "cell_type": "markdown",
   "id": "8e14cceb",
   "metadata": {
    "papermill": {
     "duration": 0.044007,
     "end_time": "2024-05-20T23:35:43.993456",
     "exception": false,
     "start_time": "2024-05-20T23:35:43.949449",
     "status": "completed"
    },
    "tags": []
   },
   "source": [
    "## Train the model"
   ]
  },
  {
   "cell_type": "code",
   "execution_count": 26,
   "id": "09ba6c10",
   "metadata": {
    "execution": {
     "iopub.execute_input": "2024-05-20T23:35:44.080935Z",
     "iopub.status.busy": "2024-05-20T23:35:44.080438Z",
     "iopub.status.idle": "2024-05-21T03:22:50.740610Z",
     "shell.execute_reply": "2024-05-21T03:22:50.738634Z"
    },
    "papermill": {
     "duration": 13634.730126,
     "end_time": "2024-05-21T03:22:58.768370",
     "exception": false,
     "start_time": "2024-05-20T23:35:44.038244",
     "status": "completed"
    },
    "tags": []
   },
   "outputs": [
    {
     "name": "stderr",
     "output_type": "stream",
     "text": [
      "\u001b[34m\u001b[1mwandb\u001b[0m: \u001b[33mWARNING\u001b[0m The save_model argument by default saves the model in the HDF5 format that cannot save custom objects like subclassed models and custom layers. This behavior will be deprecated in a future release in favor of the SavedModel format. Meanwhile, the HDF5 model is saved as W&B files and the SavedModel as W&B Artifacts.\n"
     ]
    },
    {
     "name": "stdout",
     "output_type": "stream",
     "text": [
      "steps_per_epoch = None, validation_steps = None\n",
      "\n",
      "\n",
      "Epoch 1/50\n",
      "2813/2813 [==============================] - ETA: 0s - loss: 0.8535 - accuracy: 0.8273"
     ]
    },
    {
     "name": "stderr",
     "output_type": "stream",
     "text": [
      "\u001b[34m\u001b[1mwandb\u001b[0m: Adding directory to artifact (/kaggle/working/wandb/run-20240520_232609-q9ljwasc/files/model-best)... Done. 0.0s\n"
     ]
    },
    {
     "name": "stdout",
     "output_type": "stream",
     "text": [
      "2813/2813 [==============================] - 242s 70ms/step - loss: 0.8535 - accuracy: 0.8273 - val_loss: 0.3365 - val_accuracy: 0.8812\n",
      "Epoch 2/50\n",
      "2812/2813 [============================>.] - ETA: 0s - loss: 0.2724 - accuracy: 0.8965"
     ]
    },
    {
     "name": "stderr",
     "output_type": "stream",
     "text": [
      "\u001b[34m\u001b[1mwandb\u001b[0m: Adding directory to artifact (/kaggle/working/wandb/run-20240520_232609-q9ljwasc/files/model-best)... Done. 0.0s\n"
     ]
    },
    {
     "name": "stdout",
     "output_type": "stream",
     "text": [
      "2813/2813 [==============================] - 235s 67ms/step - loss: 0.2724 - accuracy: 0.8965 - val_loss: 0.1936 - val_accuracy: 0.9215\n",
      "Epoch 3/50\n",
      "2813/2813 [==============================] - 207s 58ms/step - loss: 0.2229 - accuracy: 0.9116 - val_loss: 0.2094 - val_accuracy: 0.9173\n",
      "Epoch 4/50\n",
      "2813/2813 [==============================] - 238s 65ms/step - loss: 0.2113 - accuracy: 0.9162 - val_loss: 0.7352 - val_accuracy: 0.7705\n",
      "Epoch 5/50\n",
      "2813/2813 [==============================] - ETA: 0s - loss: 0.2028 - accuracy: 0.9199"
     ]
    },
    {
     "name": "stderr",
     "output_type": "stream",
     "text": [
      "\u001b[34m\u001b[1mwandb\u001b[0m: Adding directory to artifact (/kaggle/working/wandb/run-20240520_232609-q9ljwasc/files/model-best)... Done. 0.1s\n"
     ]
    },
    {
     "name": "stdout",
     "output_type": "stream",
     "text": [
      "2813/2813 [==============================] - 223s 63ms/step - loss: 0.2028 - accuracy: 0.9199 - val_loss: 0.1918 - val_accuracy: 0.9275\n",
      "Epoch 6/50\n",
      "2813/2813 [==============================] - 230s 65ms/step - loss: 0.1896 - accuracy: 0.9259 - val_loss: 2.5461 - val_accuracy: 0.6090\n",
      "Epoch 7/50\n",
      "2813/2813 [==============================] - ETA: 0s - loss: 0.1764 - accuracy: 0.9307"
     ]
    },
    {
     "name": "stderr",
     "output_type": "stream",
     "text": [
      "\u001b[34m\u001b[1mwandb\u001b[0m: Adding directory to artifact (/kaggle/working/wandb/run-20240520_232609-q9ljwasc/files/model-best)... Done. 0.0s\n"
     ]
    },
    {
     "name": "stdout",
     "output_type": "stream",
     "text": [
      "2813/2813 [==============================] - 226s 64ms/step - loss: 0.1764 - accuracy: 0.9307 - val_loss: 0.1328 - val_accuracy: 0.9504\n",
      "Epoch 8/50\n",
      "2813/2813 [==============================] - 219s 62ms/step - loss: 0.1679 - accuracy: 0.9337 - val_loss: 0.2343 - val_accuracy: 0.9140\n",
      "Epoch 9/50\n",
      "2813/2813 [==============================] - 232s 62ms/step - loss: 0.1594 - accuracy: 0.9377 - val_loss: 0.1337 - val_accuracy: 0.9515\n",
      "Epoch 10/50\n",
      "2813/2813 [==============================] - 213s 60ms/step - loss: 0.1533 - accuracy: 0.9404 - val_loss: 0.1637 - val_accuracy: 0.9376\n",
      "Epoch 11/50\n",
      "2812/2813 [============================>.] - ETA: 0s - loss: 0.1451 - accuracy: 0.9430"
     ]
    },
    {
     "name": "stderr",
     "output_type": "stream",
     "text": [
      "\u001b[34m\u001b[1mwandb\u001b[0m: Adding directory to artifact (/kaggle/working/wandb/run-20240520_232609-q9ljwasc/files/model-best)... Done. 0.0s\n"
     ]
    },
    {
     "name": "stdout",
     "output_type": "stream",
     "text": [
      "2813/2813 [==============================] - 214s 60ms/step - loss: 0.1450 - accuracy: 0.9430 - val_loss: 0.1048 - val_accuracy: 0.9596\n",
      "Epoch 12/50\n",
      "2813/2813 [==============================] - 214s 60ms/step - loss: 0.1366 - accuracy: 0.9464 - val_loss: 0.1472 - val_accuracy: 0.9439\n",
      "Epoch 13/50\n",
      "2813/2813 [==============================] - 217s 60ms/step - loss: 0.1326 - accuracy: 0.9477 - val_loss: 0.1484 - val_accuracy: 0.9375\n",
      "Epoch 14/50\n",
      "2813/2813 [==============================] - 215s 61ms/step - loss: 0.1263 - accuracy: 0.9514 - val_loss: 0.2272 - val_accuracy: 0.9165\n",
      "Epoch 15/50\n",
      "2812/2813 [============================>.] - ETA: 0s - loss: 0.1233 - accuracy: 0.9525"
     ]
    },
    {
     "name": "stderr",
     "output_type": "stream",
     "text": [
      "\u001b[34m\u001b[1mwandb\u001b[0m: Adding directory to artifact (/kaggle/working/wandb/run-20240520_232609-q9ljwasc/files/model-best)... Done. 0.0s\n"
     ]
    },
    {
     "name": "stdout",
     "output_type": "stream",
     "text": [
      "2813/2813 [==============================] - 215s 60ms/step - loss: 0.1233 - accuracy: 0.9525 - val_loss: 0.0916 - val_accuracy: 0.9669\n",
      "Epoch 16/50\n",
      "2813/2813 [==============================] - 213s 60ms/step - loss: 0.1180 - accuracy: 0.9539 - val_loss: 0.0932 - val_accuracy: 0.9632\n",
      "Epoch 17/50\n",
      "2812/2813 [============================>.] - ETA: 0s - loss: 0.1150 - accuracy: 0.9551"
     ]
    },
    {
     "name": "stderr",
     "output_type": "stream",
     "text": [
      "\u001b[34m\u001b[1mwandb\u001b[0m: Adding directory to artifact (/kaggle/working/wandb/run-20240520_232609-q9ljwasc/files/model-best)... Done. 0.0s\n"
     ]
    },
    {
     "name": "stdout",
     "output_type": "stream",
     "text": [
      "2813/2813 [==============================] - 214s 60ms/step - loss: 0.1150 - accuracy: 0.9551 - val_loss: 0.0873 - val_accuracy: 0.9679\n",
      "Epoch 18/50\n",
      "2813/2813 [==============================] - 215s 61ms/step - loss: 0.1105 - accuracy: 0.9572 - val_loss: 0.3588 - val_accuracy: 0.8787\n",
      "Epoch 19/50\n",
      "2812/2813 [============================>.] - ETA: 0s - loss: 0.1075 - accuracy: 0.9585"
     ]
    },
    {
     "name": "stderr",
     "output_type": "stream",
     "text": [
      "\u001b[34m\u001b[1mwandb\u001b[0m: Adding directory to artifact (/kaggle/working/wandb/run-20240520_232609-q9ljwasc/files/model-best)... Done. 0.0s\n"
     ]
    },
    {
     "name": "stdout",
     "output_type": "stream",
     "text": [
      "2813/2813 [==============================] - 212s 60ms/step - loss: 0.1075 - accuracy: 0.9585 - val_loss: 0.0788 - val_accuracy: 0.9727\n",
      "Epoch 20/50\n",
      "2813/2813 [==============================] - 209s 59ms/step - loss: 0.1062 - accuracy: 0.9592 - val_loss: 0.0899 - val_accuracy: 0.9666\n",
      "Epoch 21/50\n",
      "2812/2813 [============================>.] - ETA: 0s - loss: 0.1034 - accuracy: 0.9596"
     ]
    },
    {
     "name": "stderr",
     "output_type": "stream",
     "text": [
      "\u001b[34m\u001b[1mwandb\u001b[0m: Adding directory to artifact (/kaggle/working/wandb/run-20240520_232609-q9ljwasc/files/model-best)... Done. 0.0s\n"
     ]
    },
    {
     "name": "stdout",
     "output_type": "stream",
     "text": [
      "2813/2813 [==============================] - 213s 60ms/step - loss: 0.1034 - accuracy: 0.9596 - val_loss: 0.0686 - val_accuracy: 0.9751\n",
      "Epoch 22/50\n",
      "2813/2813 [==============================] - 212s 60ms/step - loss: 0.0984 - accuracy: 0.9617 - val_loss: 0.1456 - val_accuracy: 0.9451\n",
      "Epoch 23/50\n",
      "2813/2813 [==============================] - 1712s 594ms/step - loss: 0.0966 - accuracy: 0.9623 - val_loss: 0.1043 - val_accuracy: 0.9602\n",
      "Epoch 24/50\n",
      "2813/2813 [==============================] - ETA: 0s - loss: 0.0971 - accuracy: 0.9635"
     ]
    },
    {
     "name": "stderr",
     "output_type": "stream",
     "text": [
      "\u001b[34m\u001b[1mwandb\u001b[0m: Adding directory to artifact (/kaggle/working/wandb/run-20240520_232609-q9ljwasc/files/model-best)... Done. 0.0s\n"
     ]
    },
    {
     "name": "stdout",
     "output_type": "stream",
     "text": [
      "2813/2813 [==============================] - 224s 62ms/step - loss: 0.0971 - accuracy: 0.9635 - val_loss: 0.0629 - val_accuracy: 0.9772\n",
      "Epoch 25/50\n",
      "2813/2813 [==============================] - ETA: 0s - loss: 0.0924 - accuracy: 0.9642"
     ]
    },
    {
     "name": "stderr",
     "output_type": "stream",
     "text": [
      "\u001b[34m\u001b[1mwandb\u001b[0m: Adding directory to artifact (/kaggle/working/wandb/run-20240520_232609-q9ljwasc/files/model-best)... Done. 0.0s\n"
     ]
    },
    {
     "name": "stdout",
     "output_type": "stream",
     "text": [
      "2813/2813 [==============================] - 236s 68ms/step - loss: 0.0924 - accuracy: 0.9642 - val_loss: 0.0585 - val_accuracy: 0.9792\n",
      "Epoch 26/50\n",
      "2813/2813 [==============================] - 217s 61ms/step - loss: 0.0906 - accuracy: 0.9652 - val_loss: 0.1378 - val_accuracy: 0.9479\n",
      "Epoch 27/50\n",
      "2813/2813 [==============================] - 226s 63ms/step - loss: 0.0885 - accuracy: 0.9659 - val_loss: 0.1385 - val_accuracy: 0.9462\n",
      "Epoch 28/50\n",
      "2813/2813 [==============================] - 219s 61ms/step - loss: 0.0853 - accuracy: 0.9669 - val_loss: 0.0979 - val_accuracy: 0.9616\n",
      "Epoch 29/50\n",
      "2813/2813 [==============================] - 226s 63ms/step - loss: 0.0835 - accuracy: 0.9686 - val_loss: 0.1228 - val_accuracy: 0.9506\n",
      "Epoch 30/50\n",
      "2813/2813 [==============================] - 239s 67ms/step - loss: 0.0828 - accuracy: 0.9676 - val_loss: 0.0645 - val_accuracy: 0.9759\n",
      "Epoch 31/50\n",
      "2813/2813 [==============================] - 237s 66ms/step - loss: 0.0818 - accuracy: 0.9684 - val_loss: 0.1407 - val_accuracy: 0.9501\n",
      "Epoch 32/50\n",
      "2813/2813 [==============================] - 218s 59ms/step - loss: 0.0788 - accuracy: 0.9696 - val_loss: 0.0756 - val_accuracy: 0.9722\n",
      "Epoch 33/50\n",
      "2813/2813 [==============================] - 217s 60ms/step - loss: 0.0790 - accuracy: 0.9692 - val_loss: 0.0699 - val_accuracy: 0.9738\n",
      "Epoch 34/50\n",
      "2812/2813 [============================>.] - ETA: 0s - loss: 0.0770 - accuracy: 0.9710"
     ]
    },
    {
     "name": "stderr",
     "output_type": "stream",
     "text": [
      "\u001b[34m\u001b[1mwandb\u001b[0m: Adding directory to artifact (/kaggle/working/wandb/run-20240520_232609-q9ljwasc/files/model-best)... Done. 0.0s\n"
     ]
    },
    {
     "name": "stdout",
     "output_type": "stream",
     "text": [
      "2813/2813 [==============================] - 227s 64ms/step - loss: 0.0770 - accuracy: 0.9710 - val_loss: 0.0540 - val_accuracy: 0.9805\n",
      "Epoch 35/50\n",
      "2813/2813 [==============================] - 221s 62ms/step - loss: 0.0752 - accuracy: 0.9706 - val_loss: 0.0635 - val_accuracy: 0.9765\n",
      "Epoch 36/50\n",
      "2812/2813 [============================>.] - ETA: 0s - loss: 0.0744 - accuracy: 0.9717"
     ]
    },
    {
     "name": "stderr",
     "output_type": "stream",
     "text": [
      "\u001b[34m\u001b[1mwandb\u001b[0m: Adding directory to artifact (/kaggle/working/wandb/run-20240520_232609-q9ljwasc/files/model-best)... Done. 0.0s\n"
     ]
    },
    {
     "name": "stdout",
     "output_type": "stream",
     "text": [
      "2813/2813 [==============================] - 238s 66ms/step - loss: 0.0744 - accuracy: 0.9717 - val_loss: 0.0441 - val_accuracy: 0.9847\n",
      "Epoch 37/50\n",
      "2813/2813 [==============================] - 241s 68ms/step - loss: 0.0738 - accuracy: 0.9716 - val_loss: 0.0511 - val_accuracy: 0.9811\n",
      "Epoch 38/50\n",
      "2813/2813 [==============================] - 235s 64ms/step - loss: 0.0741 - accuracy: 0.9714 - val_loss: 0.0722 - val_accuracy: 0.9753\n",
      "Epoch 39/50\n",
      "2812/2813 [============================>.] - ETA: 0s - loss: 0.0708 - accuracy: 0.9730"
     ]
    },
    {
     "name": "stderr",
     "output_type": "stream",
     "text": [
      "\u001b[34m\u001b[1mwandb\u001b[0m: Adding directory to artifact (/kaggle/working/wandb/run-20240520_232609-q9ljwasc/files/model-best)... Done. 0.0s\n"
     ]
    },
    {
     "name": "stdout",
     "output_type": "stream",
     "text": [
      "2813/2813 [==============================] - 234s 65ms/step - loss: 0.0707 - accuracy: 0.9730 - val_loss: 0.0350 - val_accuracy: 0.9893\n",
      "Epoch 40/50\n",
      "2813/2813 [==============================] - 226s 64ms/step - loss: 0.0702 - accuracy: 0.9734 - val_loss: 0.0489 - val_accuracy: 0.9839\n",
      "Epoch 41/50\n",
      "2813/2813 [==============================] - 229s 65ms/step - loss: 0.0688 - accuracy: 0.9741 - val_loss: 0.0410 - val_accuracy: 0.9854\n",
      "Epoch 42/50\n",
      "2813/2813 [==============================] - 251s 69ms/step - loss: 0.0680 - accuracy: 0.9739 - val_loss: 0.0450 - val_accuracy: 0.9837\n",
      "Epoch 43/50\n",
      "2813/2813 [==============================] - 235s 65ms/step - loss: 0.0679 - accuracy: 0.9740 - val_loss: 0.0427 - val_accuracy: 0.9841\n",
      "Epoch 44/50\n",
      "2813/2813 [==============================] - 220s 61ms/step - loss: 0.0672 - accuracy: 0.9742 - val_loss: 0.0361 - val_accuracy: 0.9876\n",
      "Epoch 45/50\n",
      "2813/2813 [==============================] - 222s 62ms/step - loss: 0.0661 - accuracy: 0.9753 - val_loss: 0.0723 - val_accuracy: 0.9717\n",
      "Epoch 46/50\n",
      "2813/2813 [==============================] - 227s 64ms/step - loss: 0.0635 - accuracy: 0.9758 - val_loss: 0.1405 - val_accuracy: 0.9429\n",
      "Epoch 47/50\n",
      "2813/2813 [==============================] - 233s 64ms/step - loss: 0.0621 - accuracy: 0.9763 - val_loss: 0.0805 - val_accuracy: 0.9721\n",
      "Epoch 48/50\n",
      "2813/2813 [==============================] - 279s 80ms/step - loss: 0.0604 - accuracy: 0.9769 - val_loss: 0.0451 - val_accuracy: 0.9822\n",
      "Epoch 49/50\n",
      "2813/2813 [==============================] - 252s 70ms/step - loss: 0.0627 - accuracy: 0.9763 - val_loss: 0.0370 - val_accuracy: 0.9867\n",
      "Epoch 50/50\n",
      "2813/2813 [==============================] - 221s 60ms/step - loss: 0.0597 - accuracy: 0.9774 - val_loss: 0.0382 - val_accuracy: 0.9872\n"
     ]
    }
   ],
   "source": [
    "from wandb.keras import WandbCallback\n",
    "\n",
    "EPOCHS = config[\"epochs\"]\n",
    "\n",
    "if config[\"use_small_sample\"] is True:\n",
    "    steps_per_epoch = 1000 // BATCH_SIZE\n",
    "    validation_steps = 100 // BATCH_SIZE\n",
    "else:\n",
    "    # train_dataset.samples // BATCH_SIZE\n",
    "    steps_per_epoch = None\n",
    "    validation_steps = None\n",
    "    \n",
    "print(f\"steps_per_epoch = {steps_per_epoch}, validation_steps = {validation_steps}\\n\\n\")\n",
    "    \n",
    "history = keras_model.fit(\n",
    "    train_dataset,\n",
    "    steps_per_epoch=steps_per_epoch,\n",
    "    epochs=EPOCHS,\n",
    "    validation_data=validation_dataset,\n",
    "    callbacks=[\n",
    "      WandbCallback(),\n",
    "    ],\n",
    "    validation_steps=validation_steps\n",
    ")"
   ]
  },
  {
   "cell_type": "code",
   "execution_count": 27,
   "id": "b4084ee3",
   "metadata": {
    "execution": {
     "iopub.execute_input": "2024-05-21T03:23:14.915038Z",
     "iopub.status.busy": "2024-05-21T03:23:14.913729Z",
     "iopub.status.idle": "2024-05-21T03:23:21.221194Z",
     "shell.execute_reply": "2024-05-21T03:23:21.220133Z"
    },
    "papermill": {
     "duration": 14.437017,
     "end_time": "2024-05-21T03:23:21.224426",
     "exception": false,
     "start_time": "2024-05-21T03:23:06.787409",
     "status": "completed"
    },
    "tags": []
   },
   "outputs": [
    {
     "name": "stderr",
     "output_type": "stream",
     "text": [
      "\u001b[34m\u001b[1mwandb\u001b[0m:                                                                                \n",
      "\u001b[34m\u001b[1mwandb\u001b[0m: \n",
      "\u001b[34m\u001b[1mwandb\u001b[0m: Run history:\n",
      "\u001b[34m\u001b[1mwandb\u001b[0m:     accuracy ▁▄▅▅▆▆▆▆▆▇▇▇▇▇▇▇▇▇▇▇▇▇██████████████████\n",
      "\u001b[34m\u001b[1mwandb\u001b[0m:        epoch ▁▁▁▁▂▂▂▂▂▃▃▃▃▃▃▄▄▄▄▄▅▅▅▅▅▅▆▆▆▆▆▆▇▇▇▇▇███\n",
      "\u001b[34m\u001b[1mwandb\u001b[0m:         loss █▃▂▂▂▂▂▂▂▂▂▂▂▁▁▁▁▁▁▁▁▁▁▁▁▁▁▁▁▁▁▁▁▁▁▁▁▁▁▁\n",
      "\u001b[34m\u001b[1mwandb\u001b[0m: val_accuracy ▆▇▇▄▁▇▇▇▇▇▇▇██▆██▇▇█▇▇▇▇▇███████████▇███\n",
      "\u001b[34m\u001b[1mwandb\u001b[0m:     val_loss ▂▁▁▃█▁▂▁▁▁▁▂▁▁▂▁▁▁▁▁▁▁▁▁▁▁▁▁▁▁▁▁▁▁▁▁▁▁▁▁\n",
      "\u001b[34m\u001b[1mwandb\u001b[0m: \n",
      "\u001b[34m\u001b[1mwandb\u001b[0m: Run summary:\n",
      "\u001b[34m\u001b[1mwandb\u001b[0m:      accuracy 0.97739\n",
      "\u001b[34m\u001b[1mwandb\u001b[0m:    best_epoch 38\n",
      "\u001b[34m\u001b[1mwandb\u001b[0m: best_val_loss 0.03499\n",
      "\u001b[34m\u001b[1mwandb\u001b[0m:         epoch 49\n",
      "\u001b[34m\u001b[1mwandb\u001b[0m:          loss 0.05969\n",
      "\u001b[34m\u001b[1mwandb\u001b[0m:  val_accuracy 0.98718\n",
      "\u001b[34m\u001b[1mwandb\u001b[0m:      val_loss 0.03824\n",
      "\u001b[34m\u001b[1mwandb\u001b[0m: \n",
      "\u001b[34m\u001b[1mwandb\u001b[0m: 🚀 View run \u001b[33mcerulean-sound-110\u001b[0m at: \u001b[34m\u001b[4mhttps://wandb.ai/budalema/ai-detection/runs/q9ljwasc\u001b[0m\n",
      "\u001b[34m\u001b[1mwandb\u001b[0m: Synced 6 W&B file(s), 1 media file(s), 56 artifact file(s) and 1 other file(s)\n",
      "\u001b[34m\u001b[1mwandb\u001b[0m: Find logs at: \u001b[35m\u001b[1m./wandb/run-20240520_232609-q9ljwasc/logs\u001b[0m\n"
     ]
    }
   ],
   "source": [
    "wandb.finish()"
   ]
  }
 ],
 "metadata": {
  "kaggle": {
   "accelerator": "none",
   "dataSources": [
    {
     "datasetId": 3041726,
     "sourceId": 5256696,
     "sourceType": "datasetVersion"
    },
    {
     "datasetId": 4418181,
     "sourceId": 8404447,
     "sourceType": "datasetVersion"
    }
   ],
   "dockerImageVersionId": 30698,
   "isGpuEnabled": false,
   "isInternetEnabled": true,
   "language": "python",
   "sourceType": "notebook"
  },
  "kernelspec": {
   "display_name": "Python 3",
   "language": "python",
   "name": "python3"
  },
  "language_info": {
   "codemirror_mode": {
    "name": "ipython",
    "version": 3
   },
   "file_extension": ".py",
   "mimetype": "text/x-python",
   "name": "python",
   "nbconvert_exporter": "python",
   "pygments_lexer": "ipython3",
   "version": "3.10.13"
  },
  "papermill": {
   "default_parameters": {},
   "duration": 14337.349102,
   "end_time": "2024-05-21T03:23:33.045745",
   "environment_variables": {},
   "exception": null,
   "input_path": "__notebook__.ipynb",
   "output_path": "__notebook__.ipynb",
   "parameters": {},
   "start_time": "2024-05-20T23:24:35.696643",
   "version": "2.5.0"
  }
 },
 "nbformat": 4,
 "nbformat_minor": 5
}
