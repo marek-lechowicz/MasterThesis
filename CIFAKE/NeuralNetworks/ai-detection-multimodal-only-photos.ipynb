{
 "cells": [
  {
   "cell_type": "raw",
   "id": "d166c2bd",
   "metadata": {
    "papermill": {
     "duration": 0.010937,
     "end_time": "2024-07-01T00:53:33.235290",
     "exception": false,
     "start_time": "2024-07-01T00:53:33.224353",
     "status": "completed"
    },
    "tags": []
   },
   "source": [
    "# Title"
   ]
  },
  {
   "cell_type": "code",
   "execution_count": 1,
   "id": "13e946e5",
   "metadata": {
    "execution": {
     "iopub.execute_input": "2024-07-01T00:53:33.258819Z",
     "iopub.status.busy": "2024-07-01T00:53:33.258323Z",
     "iopub.status.idle": "2024-07-01T00:55:01.495891Z",
     "shell.execute_reply": "2024-07-01T00:55:01.492587Z"
    },
    "papermill": {
     "duration": 88.255094,
     "end_time": "2024-07-01T00:55:01.500951",
     "exception": false,
     "start_time": "2024-07-01T00:53:33.245857",
     "status": "completed"
    },
    "tags": []
   },
   "outputs": [
    {
     "name": "stdout",
     "output_type": "stream",
     "text": [
      "Collecting tensorflow==2.8\r\n",
      "  Downloading tensorflow-2.8.0-cp310-cp310-manylinux2010_x86_64.whl.metadata (2.9 kB)\r\n",
      "Collecting wandb==0.16\r\n",
      "  Downloading wandb-0.16.0-py3-none-any.whl.metadata (9.8 kB)\r\n",
      "Requirement already satisfied: absl-py>=0.4.0 in /opt/conda/lib/python3.10/site-packages (from tensorflow==2.8) (1.4.0)\r\n",
      "Requirement already satisfied: astunparse>=1.6.0 in /opt/conda/lib/python3.10/site-packages (from tensorflow==2.8) (1.6.3)\r\n",
      "Requirement already satisfied: flatbuffers>=1.12 in /opt/conda/lib/python3.10/site-packages (from tensorflow==2.8) (23.5.26)\r\n",
      "Requirement already satisfied: gast>=0.2.1 in /opt/conda/lib/python3.10/site-packages (from tensorflow==2.8) (0.5.4)\r\n",
      "Requirement already satisfied: google-pasta>=0.1.1 in /opt/conda/lib/python3.10/site-packages (from tensorflow==2.8) (0.2.0)\r\n",
      "Requirement already satisfied: h5py>=2.9.0 in /opt/conda/lib/python3.10/site-packages (from tensorflow==2.8) (3.10.0)\r\n",
      "Collecting keras-preprocessing>=1.1.1 (from tensorflow==2.8)\r\n",
      "  Downloading Keras_Preprocessing-1.1.2-py2.py3-none-any.whl.metadata (1.9 kB)\r\n",
      "Requirement already satisfied: libclang>=9.0.1 in /opt/conda/lib/python3.10/site-packages (from tensorflow==2.8) (16.0.6)\r\n",
      "Requirement already satisfied: numpy>=1.20 in /opt/conda/lib/python3.10/site-packages (from tensorflow==2.8) (1.26.4)\r\n",
      "Requirement already satisfied: opt-einsum>=2.3.2 in /opt/conda/lib/python3.10/site-packages (from tensorflow==2.8) (3.3.0)\r\n",
      "Requirement already satisfied: protobuf>=3.9.2 in /opt/conda/lib/python3.10/site-packages (from tensorflow==2.8) (3.20.3)\r\n",
      "Requirement already satisfied: setuptools in /opt/conda/lib/python3.10/site-packages (from tensorflow==2.8) (69.0.3)\r\n",
      "Requirement already satisfied: six>=1.12.0 in /opt/conda/lib/python3.10/site-packages (from tensorflow==2.8) (1.16.0)\r\n",
      "Requirement already satisfied: termcolor>=1.1.0 in /opt/conda/lib/python3.10/site-packages (from tensorflow==2.8) (2.4.0)\r\n",
      "Requirement already satisfied: typing-extensions>=3.6.6 in /opt/conda/lib/python3.10/site-packages (from tensorflow==2.8) (4.9.0)\r\n",
      "Requirement already satisfied: wrapt>=1.11.0 in /opt/conda/lib/python3.10/site-packages (from tensorflow==2.8) (1.14.1)\r\n",
      "Collecting tensorboard<2.9,>=2.8 (from tensorflow==2.8)\r\n",
      "  Downloading tensorboard-2.8.0-py3-none-any.whl.metadata (1.9 kB)\r\n",
      "Collecting tf-estimator-nightly==2.8.0.dev2021122109 (from tensorflow==2.8)\r\n",
      "  Downloading tf_estimator_nightly-2.8.0.dev2021122109-py2.py3-none-any.whl.metadata (1.2 kB)\r\n",
      "Collecting keras<2.9,>=2.8.0rc0 (from tensorflow==2.8)\r\n",
      "  Downloading keras-2.8.0-py2.py3-none-any.whl.metadata (1.3 kB)\r\n",
      "Requirement already satisfied: tensorflow-io-gcs-filesystem>=0.23.1 in /opt/conda/lib/python3.10/site-packages (from tensorflow==2.8) (0.35.0)\r\n",
      "Requirement already satisfied: grpcio<2.0,>=1.24.3 in /opt/conda/lib/python3.10/site-packages (from tensorflow==2.8) (1.60.0)\r\n",
      "Requirement already satisfied: Click!=8.0.0,>=7.1 in /opt/conda/lib/python3.10/site-packages (from wandb==0.16) (8.1.7)\r\n",
      "Requirement already satisfied: GitPython!=3.1.29,>=1.0.0 in /opt/conda/lib/python3.10/site-packages (from wandb==0.16) (3.1.41)\r\n",
      "Requirement already satisfied: requests<3,>=2.0.0 in /opt/conda/lib/python3.10/site-packages (from wandb==0.16) (2.31.0)\r\n",
      "Requirement already satisfied: psutil>=5.0.0 in /opt/conda/lib/python3.10/site-packages (from wandb==0.16) (5.9.3)\r\n",
      "Requirement already satisfied: sentry-sdk>=1.0.0 in /opt/conda/lib/python3.10/site-packages (from wandb==0.16) (1.45.0)\r\n",
      "Requirement already satisfied: docker-pycreds>=0.4.0 in /opt/conda/lib/python3.10/site-packages (from wandb==0.16) (0.4.0)\r\n",
      "Requirement already satisfied: PyYAML in /opt/conda/lib/python3.10/site-packages (from wandb==0.16) (6.0.1)\r\n",
      "Requirement already satisfied: setproctitle in /opt/conda/lib/python3.10/site-packages (from wandb==0.16) (1.3.3)\r\n",
      "Requirement already satisfied: appdirs>=1.4.3 in /opt/conda/lib/python3.10/site-packages (from wandb==0.16) (1.4.4)\r\n",
      "Requirement already satisfied: wheel<1.0,>=0.23.0 in /opt/conda/lib/python3.10/site-packages (from astunparse>=1.6.0->tensorflow==2.8) (0.42.0)\r\n",
      "Requirement already satisfied: gitdb<5,>=4.0.1 in /opt/conda/lib/python3.10/site-packages (from GitPython!=3.1.29,>=1.0.0->wandb==0.16) (4.0.11)\r\n",
      "Requirement already satisfied: charset-normalizer<4,>=2 in /opt/conda/lib/python3.10/site-packages (from requests<3,>=2.0.0->wandb==0.16) (3.3.2)\r\n",
      "Requirement already satisfied: idna<4,>=2.5 in /opt/conda/lib/python3.10/site-packages (from requests<3,>=2.0.0->wandb==0.16) (3.6)\r\n",
      "Requirement already satisfied: urllib3<3,>=1.21.1 in /opt/conda/lib/python3.10/site-packages (from requests<3,>=2.0.0->wandb==0.16) (1.26.18)\r\n",
      "Requirement already satisfied: certifi>=2017.4.17 in /opt/conda/lib/python3.10/site-packages (from requests<3,>=2.0.0->wandb==0.16) (2024.2.2)\r\n",
      "Requirement already satisfied: google-auth<3,>=1.6.3 in /opt/conda/lib/python3.10/site-packages (from tensorboard<2.9,>=2.8->tensorflow==2.8) (2.26.1)\r\n",
      "Collecting google-auth-oauthlib<0.5,>=0.4.1 (from tensorboard<2.9,>=2.8->tensorflow==2.8)\r\n",
      "  Downloading google_auth_oauthlib-0.4.6-py2.py3-none-any.whl.metadata (2.7 kB)\r\n",
      "Requirement already satisfied: markdown>=2.6.8 in /opt/conda/lib/python3.10/site-packages (from tensorboard<2.9,>=2.8->tensorflow==2.8) (3.5.2)\r\n",
      "Collecting tensorboard-data-server<0.7.0,>=0.6.0 (from tensorboard<2.9,>=2.8->tensorflow==2.8)\r\n",
      "  Downloading tensorboard_data_server-0.6.1-py3-none-manylinux2010_x86_64.whl.metadata (1.1 kB)\r\n",
      "Collecting tensorboard-plugin-wit>=1.6.0 (from tensorboard<2.9,>=2.8->tensorflow==2.8)\r\n",
      "  Downloading tensorboard_plugin_wit-1.8.1-py3-none-any.whl.metadata (873 bytes)\r\n",
      "Requirement already satisfied: werkzeug>=0.11.15 in /opt/conda/lib/python3.10/site-packages (from tensorboard<2.9,>=2.8->tensorflow==2.8) (3.0.2)\r\n",
      "Requirement already satisfied: smmap<6,>=3.0.1 in /opt/conda/lib/python3.10/site-packages (from gitdb<5,>=4.0.1->GitPython!=3.1.29,>=1.0.0->wandb==0.16) (5.0.1)\r\n",
      "Requirement already satisfied: cachetools<6.0,>=2.0.0 in /opt/conda/lib/python3.10/site-packages (from google-auth<3,>=1.6.3->tensorboard<2.9,>=2.8->tensorflow==2.8) (4.2.4)\r\n",
      "Requirement already satisfied: pyasn1-modules>=0.2.1 in /opt/conda/lib/python3.10/site-packages (from google-auth<3,>=1.6.3->tensorboard<2.9,>=2.8->tensorflow==2.8) (0.3.0)\r\n",
      "Requirement already satisfied: rsa<5,>=3.1.4 in /opt/conda/lib/python3.10/site-packages (from google-auth<3,>=1.6.3->tensorboard<2.9,>=2.8->tensorflow==2.8) (4.9)\r\n",
      "Requirement already satisfied: requests-oauthlib>=0.7.0 in /opt/conda/lib/python3.10/site-packages (from google-auth-oauthlib<0.5,>=0.4.1->tensorboard<2.9,>=2.8->tensorflow==2.8) (1.3.1)\r\n",
      "Requirement already satisfied: MarkupSafe>=2.1.1 in /opt/conda/lib/python3.10/site-packages (from werkzeug>=0.11.15->tensorboard<2.9,>=2.8->tensorflow==2.8) (2.1.3)\r\n",
      "Requirement already satisfied: pyasn1<0.6.0,>=0.4.6 in /opt/conda/lib/python3.10/site-packages (from pyasn1-modules>=0.2.1->google-auth<3,>=1.6.3->tensorboard<2.9,>=2.8->tensorflow==2.8) (0.5.1)\r\n",
      "Requirement already satisfied: oauthlib>=3.0.0 in /opt/conda/lib/python3.10/site-packages (from requests-oauthlib>=0.7.0->google-auth-oauthlib<0.5,>=0.4.1->tensorboard<2.9,>=2.8->tensorflow==2.8) (3.2.2)\r\n",
      "Downloading tensorflow-2.8.0-cp310-cp310-manylinux2010_x86_64.whl (497.6 MB)\r\n",
      "\u001b[2K   \u001b[90m━━━━━━━━━━━━━━━━━━━━━━━━━━━━━━━━━━━━━━━━\u001b[0m \u001b[32m497.6/497.6 MB\u001b[0m \u001b[31m2.9 MB/s\u001b[0m eta \u001b[36m0:00:00\u001b[0m\r\n",
      "\u001b[?25hDownloading wandb-0.16.0-py3-none-any.whl (2.1 MB)\r\n",
      "\u001b[2K   \u001b[90m━━━━━━━━━━━━━━━━━━━━━━━━━━━━━━━━━━━━━━━━\u001b[0m \u001b[32m2.1/2.1 MB\u001b[0m \u001b[31m10.5 MB/s\u001b[0m eta \u001b[36m0:00:00\u001b[0m\r\n",
      "\u001b[?25hDownloading tf_estimator_nightly-2.8.0.dev2021122109-py2.py3-none-any.whl (462 kB)\r\n",
      "\u001b[2K   \u001b[90m━━━━━━━━━━━━━━━━━━━━━━━━━━━━━━━━━━━━━━━━\u001b[0m \u001b[32m462.5/462.5 kB\u001b[0m \u001b[31m15.6 MB/s\u001b[0m eta \u001b[36m0:00:00\u001b[0m\r\n",
      "\u001b[?25hDownloading keras-2.8.0-py2.py3-none-any.whl (1.4 MB)\r\n",
      "\u001b[2K   \u001b[90m━━━━━━━━━━━━━━━━━━━━━━━━━━━━━━━━━━━━━━━━\u001b[0m \u001b[32m1.4/1.4 MB\u001b[0m \u001b[31m36.4 MB/s\u001b[0m eta \u001b[36m0:00:00\u001b[0m\r\n",
      "\u001b[?25hDownloading Keras_Preprocessing-1.1.2-py2.py3-none-any.whl (42 kB)\r\n",
      "\u001b[2K   \u001b[90m━━━━━━━━━━━━━━━━━━━━━━━━━━━━━━━━━━━━━━━━\u001b[0m \u001b[32m42.6/42.6 kB\u001b[0m \u001b[31m2.0 MB/s\u001b[0m eta \u001b[36m0:00:00\u001b[0m\r\n",
      "\u001b[?25hDownloading tensorboard-2.8.0-py3-none-any.whl (5.8 MB)\r\n",
      "\u001b[2K   \u001b[90m━━━━━━━━━━━━━━━━━━━━━━━━━━━━━━━━━━━━━━━━\u001b[0m \u001b[32m5.8/5.8 MB\u001b[0m \u001b[31m71.3 MB/s\u001b[0m eta \u001b[36m0:00:00\u001b[0m\r\n",
      "\u001b[?25hDownloading google_auth_oauthlib-0.4.6-py2.py3-none-any.whl (18 kB)\r\n",
      "Downloading tensorboard_data_server-0.6.1-py3-none-manylinux2010_x86_64.whl (4.9 MB)\r\n",
      "\u001b[2K   \u001b[90m━━━━━━━━━━━━━━━━━━━━━━━━━━━━━━━━━━━━━━━━\u001b[0m \u001b[32m4.9/4.9 MB\u001b[0m \u001b[31m68.2 MB/s\u001b[0m eta \u001b[36m0:00:00\u001b[0m\r\n",
      "\u001b[?25hDownloading tensorboard_plugin_wit-1.8.1-py3-none-any.whl (781 kB)\r\n",
      "\u001b[2K   \u001b[90m━━━━━━━━━━━━━━━━━━━━━━━━━━━━━━━━━━━━━━━━\u001b[0m \u001b[32m781.3/781.3 kB\u001b[0m \u001b[31m30.0 MB/s\u001b[0m eta \u001b[36m0:00:00\u001b[0m\r\n",
      "\u001b[?25hInstalling collected packages: tf-estimator-nightly, tensorboard-plugin-wit, keras, tensorboard-data-server, keras-preprocessing, wandb, google-auth-oauthlib, tensorboard, tensorflow\r\n",
      "  Attempting uninstall: keras\r\n",
      "    Found existing installation: keras 3.2.1\r\n",
      "    Uninstalling keras-3.2.1:\r\n",
      "      Successfully uninstalled keras-3.2.1\r\n",
      "  Attempting uninstall: tensorboard-data-server\r\n",
      "    Found existing installation: tensorboard-data-server 0.7.2\r\n",
      "    Uninstalling tensorboard-data-server-0.7.2:\r\n",
      "      Successfully uninstalled tensorboard-data-server-0.7.2\r\n",
      "  Attempting uninstall: wandb\r\n",
      "    Found existing installation: wandb 0.16.6\r\n",
      "    Uninstalling wandb-0.16.6:\r\n",
      "      Successfully uninstalled wandb-0.16.6\r\n",
      "  Attempting uninstall: google-auth-oauthlib\r\n",
      "    Found existing installation: google-auth-oauthlib 1.2.0\r\n",
      "    Uninstalling google-auth-oauthlib-1.2.0:\r\n",
      "      Successfully uninstalled google-auth-oauthlib-1.2.0\r\n",
      "  Attempting uninstall: tensorboard\r\n",
      "    Found existing installation: tensorboard 2.15.1\r\n",
      "    Uninstalling tensorboard-2.15.1:\r\n",
      "      Successfully uninstalled tensorboard-2.15.1\r\n",
      "  Attempting uninstall: tensorflow\r\n",
      "    Found existing installation: tensorflow 2.15.0\r\n",
      "    Uninstalling tensorflow-2.15.0:\r\n",
      "      Successfully uninstalled tensorflow-2.15.0\r\n",
      "\u001b[31mERROR: pip's dependency resolver does not currently take into account all the packages that are installed. This behaviour is the source of the following dependency conflicts.\r\n",
      "tensorflow-decision-forests 1.8.1 requires wurlitzer, which is not installed.\r\n",
      "tensorflow-decision-forests 1.8.1 requires tensorflow~=2.15.0, but you have tensorflow 2.8.0 which is incompatible.\r\n",
      "tensorflow-serving-api 2.14.1 requires tensorflow<3,>=2.14.1, but you have tensorflow 2.8.0 which is incompatible.\r\n",
      "tensorflow-text 2.15.0 requires tensorflow<2.16,>=2.15.0; platform_machine != \"arm64\" or platform_system != \"Darwin\", but you have tensorflow 2.8.0 which is incompatible.\r\n",
      "tf-keras 2.15.1 requires tensorflow<2.16,>=2.15, but you have tensorflow 2.8.0 which is incompatible.\u001b[0m\u001b[31m\r\n",
      "\u001b[0mSuccessfully installed google-auth-oauthlib-0.4.6 keras-2.8.0 keras-preprocessing-1.1.2 tensorboard-2.8.0 tensorboard-data-server-0.6.1 tensorboard-plugin-wit-1.8.1 tensorflow-2.8.0 tf-estimator-nightly-2.8.0.dev2021122109 wandb-0.16.0\r\n"
     ]
    }
   ],
   "source": [
    "!pip install -U tensorflow==2.8 wandb==0.16"
   ]
  },
  {
   "cell_type": "markdown",
   "id": "b3505313",
   "metadata": {
    "papermill": {
     "duration": 0.055158,
     "end_time": "2024-07-01T00:55:01.611015",
     "exception": false,
     "start_time": "2024-07-01T00:55:01.555857",
     "status": "completed"
    },
    "tags": []
   },
   "source": [
    "## Enable w&b logging"
   ]
  },
  {
   "cell_type": "code",
   "execution_count": 2,
   "id": "1facf83e",
   "metadata": {
    "execution": {
     "iopub.execute_input": "2024-07-01T00:55:01.701168Z",
     "iopub.status.busy": "2024-07-01T00:55:01.699205Z",
     "iopub.status.idle": "2024-07-01T00:55:05.754215Z",
     "shell.execute_reply": "2024-07-01T00:55:05.752606Z"
    },
    "papermill": {
     "duration": 4.100973,
     "end_time": "2024-07-01T00:55:05.757654",
     "exception": false,
     "start_time": "2024-07-01T00:55:01.656681",
     "status": "completed"
    },
    "tags": []
   },
   "outputs": [
    {
     "name": "stderr",
     "output_type": "stream",
     "text": [
      "\u001b[34m\u001b[1mwandb\u001b[0m: W&B API key is configured. Use \u001b[1m`wandb login --relogin`\u001b[0m to force relogin\n",
      "\u001b[34m\u001b[1mwandb\u001b[0m: \u001b[33mWARNING\u001b[0m If you're specifying your api key in code, ensure this code is not shared publicly.\n",
      "\u001b[34m\u001b[1mwandb\u001b[0m: \u001b[33mWARNING\u001b[0m Consider setting the WANDB_API_KEY environment variable, or running `wandb login` from the command line.\n",
      "\u001b[34m\u001b[1mwandb\u001b[0m: Appending key for api.wandb.ai to your netrc file: /root/.netrc\n"
     ]
    },
    {
     "data": {
      "text/plain": [
       "True"
      ]
     },
     "execution_count": 2,
     "metadata": {},
     "output_type": "execute_result"
    }
   ],
   "source": [
    "import wandb\n",
    "wandb.login(key=\"fd9f24c89ea44085597d8689ee2472b1a6261015\")"
   ]
  },
  {
   "cell_type": "code",
   "execution_count": 3,
   "id": "8bb0dbef",
   "metadata": {
    "execution": {
     "iopub.execute_input": "2024-07-01T00:55:05.847854Z",
     "iopub.status.busy": "2024-07-01T00:55:05.847198Z",
     "iopub.status.idle": "2024-07-01T00:55:05.855597Z",
     "shell.execute_reply": "2024-07-01T00:55:05.854224Z"
    },
    "papermill": {
     "duration": 0.050632,
     "end_time": "2024-07-01T00:55:05.859423",
     "exception": false,
     "start_time": "2024-07-01T00:55:05.808791",
     "status": "completed"
    },
    "tags": []
   },
   "outputs": [],
   "source": [
    "config={\n",
    "    \"architecture\": \"Multimodal-Both\",\n",
    "    \"input_shape\": (32, 32, 3),\n",
    "    \"epochs\": 50,\n",
    "    \"batch_size\": 32,\n",
    "    \"seed\": 44,\n",
    "    \"use_small_sample\": False,\n",
    "}"
   ]
  },
  {
   "cell_type": "code",
   "execution_count": 4,
   "id": "6eff99d0",
   "metadata": {
    "execution": {
     "iopub.execute_input": "2024-07-01T00:55:05.952394Z",
     "iopub.status.busy": "2024-07-01T00:55:05.951606Z",
     "iopub.status.idle": "2024-07-01T00:55:36.633876Z",
     "shell.execute_reply": "2024-07-01T00:55:36.632217Z"
    },
    "papermill": {
     "duration": 30.752997,
     "end_time": "2024-07-01T00:55:36.667906",
     "exception": false,
     "start_time": "2024-07-01T00:55:05.914909",
     "status": "completed"
    },
    "tags": []
   },
   "outputs": [
    {
     "name": "stderr",
     "output_type": "stream",
     "text": [
      "\u001b[34m\u001b[1mwandb\u001b[0m: Currently logged in as: \u001b[33mm-lechow13\u001b[0m (\u001b[33mbudalema\u001b[0m). Use \u001b[1m`wandb login --relogin`\u001b[0m to force relogin\n",
      "\u001b[34m\u001b[1mwandb\u001b[0m: wandb version 0.17.3 is available!  To upgrade, please run:\n",
      "\u001b[34m\u001b[1mwandb\u001b[0m:  $ pip install wandb --upgrade\n",
      "\u001b[34m\u001b[1mwandb\u001b[0m: Tracking run with wandb version 0.16.0\n",
      "\u001b[34m\u001b[1mwandb\u001b[0m: Run data is saved locally in \u001b[35m\u001b[1m/kaggle/working/wandb/run-20240701_005505-yg3cv4vj\u001b[0m\n",
      "\u001b[34m\u001b[1mwandb\u001b[0m: Run \u001b[1m`wandb offline`\u001b[0m to turn off syncing.\n",
      "\u001b[34m\u001b[1mwandb\u001b[0m: Syncing run \u001b[33mroyal-glade-113\u001b[0m\n",
      "\u001b[34m\u001b[1mwandb\u001b[0m: ⭐️ View project at \u001b[34m\u001b[4mhttps://wandb.ai/budalema/ai-detection\u001b[0m\n",
      "\u001b[34m\u001b[1mwandb\u001b[0m: 🚀 View run at \u001b[34m\u001b[4mhttps://wandb.ai/budalema/ai-detection/runs/yg3cv4vj\u001b[0m\n"
     ]
    },
    {
     "data": {
      "text/html": [
       "<button onClick=\"this.nextSibling.style.display='block';this.style.display='none';\">Display W&B run</button><iframe src='https://wandb.ai/budalema/ai-detection/runs/yg3cv4vj?jupyter=true' style='border:none;width:100%;height:420px;display:none;'></iframe>"
      ],
      "text/plain": [
       "<wandb.sdk.wandb_run.Run at 0x796eeddc0640>"
      ]
     },
     "execution_count": 4,
     "metadata": {},
     "output_type": "execute_result"
    }
   ],
   "source": [
    "wandb.init(\n",
    "    # set the wandb project where this run will be logged\n",
    "    project=\"ai-detection\",\n",
    "\n",
    "    # track hyperparameters and run metadata with wandb.config\n",
    "    config=config\n",
    ")"
   ]
  },
  {
   "cell_type": "markdown",
   "id": "689b9624",
   "metadata": {
    "papermill": {
     "duration": 0.032462,
     "end_time": "2024-07-01T00:55:36.733648",
     "exception": false,
     "start_time": "2024-07-01T00:55:36.701186",
     "status": "completed"
    },
    "tags": []
   },
   "source": [
    "## Set seed for reproducability"
   ]
  },
  {
   "cell_type": "code",
   "execution_count": 5,
   "id": "5a6c78a4",
   "metadata": {
    "execution": {
     "iopub.execute_input": "2024-07-01T00:55:36.802446Z",
     "iopub.status.busy": "2024-07-01T00:55:36.802025Z",
     "iopub.status.idle": "2024-07-01T00:55:44.000656Z",
     "shell.execute_reply": "2024-07-01T00:55:43.999262Z"
    },
    "papermill": {
     "duration": 7.236525,
     "end_time": "2024-07-01T00:55:44.003968",
     "exception": false,
     "start_time": "2024-07-01T00:55:36.767443",
     "status": "completed"
    },
    "tags": []
   },
   "outputs": [],
   "source": [
    "import numpy as np\n",
    "import tensorflow as tf\n",
    "\n",
    "SEED = config[\"seed\"]\n",
    "\n",
    "# Set random seed for NumPy\n",
    "np.random.seed(SEED)\n",
    "\n",
    "# Set random seed for TensorFlow\n",
    "tf.random.set_seed(SEED)"
   ]
  },
  {
   "cell_type": "code",
   "execution_count": 6,
   "id": "457588aa",
   "metadata": {
    "execution": {
     "iopub.execute_input": "2024-07-01T00:55:44.074211Z",
     "iopub.status.busy": "2024-07-01T00:55:44.073329Z",
     "iopub.status.idle": "2024-07-01T00:55:44.081472Z",
     "shell.execute_reply": "2024-07-01T00:55:44.080181Z"
    },
    "papermill": {
     "duration": 0.045802,
     "end_time": "2024-07-01T00:55:44.084012",
     "exception": false,
     "start_time": "2024-07-01T00:55:44.038210",
     "status": "completed"
    },
    "tags": []
   },
   "outputs": [
    {
     "name": "stdout",
     "output_type": "stream",
     "text": [
      "['cifake-real-and-ai-generated-synthetic-images', 'cifake-rgb-radiomic-features']\n"
     ]
    }
   ],
   "source": [
    "import os\n",
    "\n",
    "print(os.listdir(\"/kaggle/input\"))"
   ]
  },
  {
   "cell_type": "markdown",
   "id": "181a4ff6",
   "metadata": {
    "papermill": {
     "duration": 0.033262,
     "end_time": "2024-07-01T00:55:44.151315",
     "exception": false,
     "start_time": "2024-07-01T00:55:44.118053",
     "status": "completed"
    },
    "tags": []
   },
   "source": [
    "## Import data"
   ]
  },
  {
   "cell_type": "code",
   "execution_count": 7,
   "id": "9405e1df",
   "metadata": {
    "execution": {
     "iopub.execute_input": "2024-07-01T00:55:44.220801Z",
     "iopub.status.busy": "2024-07-01T00:55:44.220350Z",
     "iopub.status.idle": "2024-07-01T00:57:19.127076Z",
     "shell.execute_reply": "2024-07-01T00:57:19.125803Z"
    },
    "papermill": {
     "duration": 94.945112,
     "end_time": "2024-07-01T00:57:19.129949",
     "exception": false,
     "start_time": "2024-07-01T00:55:44.184837",
     "status": "completed"
    },
    "tags": []
   },
   "outputs": [
    {
     "name": "stdout",
     "output_type": "stream",
     "text": [
      "Found 100000 files belonging to 2 classes.\n",
      "Found 20000 files belonging to 2 classes.\n"
     ]
    }
   ],
   "source": [
    "image_path_train = \"/kaggle/input/cifake-real-and-ai-generated-synthetic-images/train\"\n",
    "\n",
    "IMAGE_SIZE = (config[\"input_shape\"][0], config[\"input_shape\"][1])\n",
    "BATCH_SIZE = None # do not batch - we want to perform shuffle\n",
    "\n",
    "image_dataset_train = tf.keras.utils.image_dataset_from_directory(\n",
    "    directory=image_path_train,\n",
    "    batch_size=BATCH_SIZE,\n",
    "    image_size=IMAGE_SIZE,\n",
    "    label_mode='categorical',\n",
    "#     subset='training',\n",
    "#     validation_split=0.1,\n",
    "    seed=config[\"seed\"],\n",
    "    shuffle=False\n",
    ")\n",
    "\n",
    "# validation_dataset = tf.keras.utils.image_dataset_from_directory(\n",
    "#     directory=image_path_train,\n",
    "#     batch_size=BATCH_SIZE,\n",
    "#     image_size=IMAGE_SIZE,\n",
    "#     label_mode='categorical',\n",
    "#     subset='validation',\n",
    "#     validation_split=0.1,\n",
    "#     seed=config[\"seed\"],\n",
    "# )\n",
    "\n",
    "image_path_test = \"/kaggle/input/cifake-real-and-ai-generated-synthetic-images/test\"\n",
    "\n",
    "image_dataset_test = tf.keras.utils.image_dataset_from_directory(\n",
    "    directory=image_path_test,\n",
    "    batch_size=BATCH_SIZE,\n",
    "    image_size=IMAGE_SIZE,\n",
    "    label_mode='categorical',\n",
    "    shuffle=False,\n",
    ")"
   ]
  },
  {
   "cell_type": "code",
   "execution_count": 8,
   "id": "129a64ec",
   "metadata": {
    "execution": {
     "iopub.execute_input": "2024-07-01T00:57:19.199061Z",
     "iopub.status.busy": "2024-07-01T00:57:19.198632Z",
     "iopub.status.idle": "2024-07-01T00:57:19.206662Z",
     "shell.execute_reply": "2024-07-01T00:57:19.205316Z"
    },
    "papermill": {
     "duration": 0.045937,
     "end_time": "2024-07-01T00:57:19.209292",
     "exception": false,
     "start_time": "2024-07-01T00:57:19.163355",
     "status": "completed"
    },
    "tags": []
   },
   "outputs": [
    {
     "name": "stdout",
     "output_type": "stream",
     "text": [
      "Class Encoding: ['FAKE', 'REAL']\n"
     ]
    }
   ],
   "source": [
    "# Get the class encoding from the generator\n",
    "class_encoding = image_dataset_train.class_names\n",
    "\n",
    "# Print the class encoding\n",
    "print(\"Class Encoding:\", class_encoding)"
   ]
  },
  {
   "cell_type": "code",
   "execution_count": 9,
   "id": "0efe4ad1",
   "metadata": {
    "execution": {
     "iopub.execute_input": "2024-07-01T00:57:19.278571Z",
     "iopub.status.busy": "2024-07-01T00:57:19.278151Z",
     "iopub.status.idle": "2024-07-01T00:59:50.275829Z",
     "shell.execute_reply": "2024-07-01T00:59:50.274077Z"
    },
    "papermill": {
     "duration": 151.034795,
     "end_time": "2024-07-01T00:59:50.278716",
     "exception": false,
     "start_time": "2024-07-01T00:57:19.243921",
     "status": "completed"
    },
    "tags": []
   },
   "outputs": [],
   "source": [
    "import pandas as pd\n",
    "df = pd.read_csv(\"/kaggle/input/cifake-rgb-radiomic-features/RGB_train_features.csv\", index_col=0)\n",
    "df_test = pd.read_csv(\"/kaggle/input/cifake-rgb-radiomic-features/RGB_test_features.csv\", index_col=0)"
   ]
  },
  {
   "cell_type": "code",
   "execution_count": 10,
   "id": "6aa85e1e",
   "metadata": {
    "execution": {
     "iopub.execute_input": "2024-07-01T00:59:50.346462Z",
     "iopub.status.busy": "2024-07-01T00:59:50.346024Z",
     "iopub.status.idle": "2024-07-01T00:59:50.357477Z",
     "shell.execute_reply": "2024-07-01T00:59:50.356034Z"
    },
    "papermill": {
     "duration": 0.048359,
     "end_time": "2024-07-01T00:59:50.360319",
     "exception": false,
     "start_time": "2024-07-01T00:59:50.311960",
     "status": "completed"
    },
    "tags": []
   },
   "outputs": [],
   "source": [
    "def drop_columns(df, drop_only_diagnostic=False):\n",
    "    for column in df.columns:\n",
    "        if df[column].min() == df[column].max() and not drop_only_diagnostic:\n",
    "            df.drop(column, axis=1, inplace=True)\n",
    "        elif 'diagnostics' in column:\n",
    "            df.drop(column, axis=1, inplace=True)\n",
    "        elif 'Mask' in column:\n",
    "            df.drop(column, axis=1, inplace=True)\n",
    "            \n",
    "def preprocess_dataset(df, **kwargs):\n",
    "    # print indexes and image names of rows with NaN values\n",
    "    nans = df[df.isnull().any(axis=1)]['Image'].apply(lambda x : x.split('/')[-1])\n",
    "    if not nans.empty:\n",
    "        print(f\"Rows with NaN values:\")\n",
    "        print(nans)\n",
    "    df.dropna(inplace=True)  \n",
    "    drop_columns(df, **kwargs)\n",
    "    \n",
    "def unify_columns(base_columns, df):\n",
    "    # drop columns that are not in base_columns\n",
    "    to_drop = list()\n",
    "    for column in df.columns:\n",
    "        if column not in base_columns:\n",
    "            to_drop.append(column)\n",
    "            \n",
    "    df.drop(to_drop, axis=1, inplace=True)"
   ]
  },
  {
   "cell_type": "code",
   "execution_count": 11,
   "id": "1bbcd74d",
   "metadata": {
    "execution": {
     "iopub.execute_input": "2024-07-01T00:59:50.428729Z",
     "iopub.status.busy": "2024-07-01T00:59:50.428283Z",
     "iopub.status.idle": "2024-07-01T01:00:52.091865Z",
     "shell.execute_reply": "2024-07-01T01:00:52.090381Z"
    },
    "papermill": {
     "duration": 61.701678,
     "end_time": "2024-07-01T01:00:52.094942",
     "exception": false,
     "start_time": "2024-07-01T00:59:50.393264",
     "status": "completed"
    },
    "tags": []
   },
   "outputs": [],
   "source": [
    "from sklearn.model_selection import train_test_split\n",
    "\n",
    "preprocess_dataset(df, drop_only_diagnostic=True)\n",
    "preprocess_dataset(df_test, drop_only_diagnostic=True)\n",
    "\n",
    "X = df.drop('Category', axis=1)\n",
    "y = df['Category']\n",
    "\n",
    "Image = X['Image']\n",
    "X = X.drop('Image', axis=1)"
   ]
  },
  {
   "cell_type": "code",
   "execution_count": 12,
   "id": "cb402d14",
   "metadata": {
    "execution": {
     "iopub.execute_input": "2024-07-01T01:00:52.260992Z",
     "iopub.status.busy": "2024-07-01T01:00:52.260547Z",
     "iopub.status.idle": "2024-07-01T01:00:52.302150Z",
     "shell.execute_reply": "2024-07-01T01:00:52.300870Z"
    },
    "papermill": {
     "duration": 0.176178,
     "end_time": "2024-07-01T01:00:52.304937",
     "exception": false,
     "start_time": "2024-07-01T01:00:52.128759",
     "status": "completed"
    },
    "tags": []
   },
   "outputs": [
    {
     "data": {
      "text/html": [
       "<div>\n",
       "<style scoped>\n",
       "    .dataframe tbody tr th:only-of-type {\n",
       "        vertical-align: middle;\n",
       "    }\n",
       "\n",
       "    .dataframe tbody tr th {\n",
       "        vertical-align: top;\n",
       "    }\n",
       "\n",
       "    .dataframe thead th {\n",
       "        text-align: right;\n",
       "    }\n",
       "</style>\n",
       "<table border=\"1\" class=\"dataframe\">\n",
       "  <thead>\n",
       "    <tr style=\"text-align: right;\">\n",
       "      <th></th>\n",
       "      <th>R_original_shape2D_Elongation</th>\n",
       "      <th>R_original_shape2D_MajorAxisLength</th>\n",
       "      <th>R_original_shape2D_MaximumDiameter</th>\n",
       "      <th>R_original_shape2D_MeshSurface</th>\n",
       "      <th>R_original_shape2D_MinorAxisLength</th>\n",
       "      <th>R_original_shape2D_Perimeter</th>\n",
       "      <th>R_original_shape2D_PerimeterSurfaceRatio</th>\n",
       "      <th>R_original_shape2D_PixelSurface</th>\n",
       "      <th>R_original_shape2D_Sphericity</th>\n",
       "      <th>R_original_firstorder_10Percentile</th>\n",
       "      <th>...</th>\n",
       "      <th>B_lbp-2D_gldm_LargeDependenceLowGrayLevelEmphasis</th>\n",
       "      <th>B_lbp-2D_gldm_LowGrayLevelEmphasis</th>\n",
       "      <th>B_lbp-2D_gldm_SmallDependenceEmphasis</th>\n",
       "      <th>B_lbp-2D_gldm_SmallDependenceHighGrayLevelEmphasis</th>\n",
       "      <th>B_lbp-2D_gldm_SmallDependenceLowGrayLevelEmphasis</th>\n",
       "      <th>B_lbp-2D_ngtdm_Busyness</th>\n",
       "      <th>B_lbp-2D_ngtdm_Coarseness</th>\n",
       "      <th>B_lbp-2D_ngtdm_Complexity</th>\n",
       "      <th>B_lbp-2D_ngtdm_Contrast</th>\n",
       "      <th>B_lbp-2D_ngtdm_Strength</th>\n",
       "    </tr>\n",
       "  </thead>\n",
       "  <tbody>\n",
       "    <tr>\n",
       "      <th>0</th>\n",
       "      <td>1.0</td>\n",
       "      <td>36.932371</td>\n",
       "      <td>44.553339</td>\n",
       "      <td>1023.5</td>\n",
       "      <td>36.932371</td>\n",
       "      <td>126.828427</td>\n",
       "      <td>0.123916</td>\n",
       "      <td>1024.0</td>\n",
       "      <td>0.894195</td>\n",
       "      <td>-118.333224</td>\n",
       "      <td>...</td>\n",
       "      <td>8.6875</td>\n",
       "      <td>1.0</td>\n",
       "      <td>0.119792</td>\n",
       "      <td>0.119792</td>\n",
       "      <td>0.119792</td>\n",
       "      <td>0.0</td>\n",
       "      <td>1000000.0</td>\n",
       "      <td>0.0</td>\n",
       "      <td>0.0</td>\n",
       "      <td>0.0</td>\n",
       "    </tr>\n",
       "    <tr>\n",
       "      <th>1</th>\n",
       "      <td>1.0</td>\n",
       "      <td>36.932371</td>\n",
       "      <td>44.553339</td>\n",
       "      <td>1023.5</td>\n",
       "      <td>36.932371</td>\n",
       "      <td>126.828427</td>\n",
       "      <td>0.123916</td>\n",
       "      <td>1024.0</td>\n",
       "      <td>0.894195</td>\n",
       "      <td>-153.391086</td>\n",
       "      <td>...</td>\n",
       "      <td>8.6875</td>\n",
       "      <td>1.0</td>\n",
       "      <td>0.119792</td>\n",
       "      <td>0.119792</td>\n",
       "      <td>0.119792</td>\n",
       "      <td>0.0</td>\n",
       "      <td>1000000.0</td>\n",
       "      <td>0.0</td>\n",
       "      <td>0.0</td>\n",
       "      <td>0.0</td>\n",
       "    </tr>\n",
       "    <tr>\n",
       "      <th>2</th>\n",
       "      <td>1.0</td>\n",
       "      <td>36.932371</td>\n",
       "      <td>44.553339</td>\n",
       "      <td>1023.5</td>\n",
       "      <td>36.932371</td>\n",
       "      <td>126.828427</td>\n",
       "      <td>0.123916</td>\n",
       "      <td>1024.0</td>\n",
       "      <td>0.894195</td>\n",
       "      <td>-173.356861</td>\n",
       "      <td>...</td>\n",
       "      <td>8.6875</td>\n",
       "      <td>1.0</td>\n",
       "      <td>0.119792</td>\n",
       "      <td>0.119792</td>\n",
       "      <td>0.119792</td>\n",
       "      <td>0.0</td>\n",
       "      <td>1000000.0</td>\n",
       "      <td>0.0</td>\n",
       "      <td>0.0</td>\n",
       "      <td>0.0</td>\n",
       "    </tr>\n",
       "    <tr>\n",
       "      <th>3</th>\n",
       "      <td>1.0</td>\n",
       "      <td>36.932371</td>\n",
       "      <td>44.553339</td>\n",
       "      <td>1023.5</td>\n",
       "      <td>36.932371</td>\n",
       "      <td>126.828427</td>\n",
       "      <td>0.123916</td>\n",
       "      <td>1024.0</td>\n",
       "      <td>0.894195</td>\n",
       "      <td>-132.478270</td>\n",
       "      <td>...</td>\n",
       "      <td>8.6875</td>\n",
       "      <td>1.0</td>\n",
       "      <td>0.119792</td>\n",
       "      <td>0.119792</td>\n",
       "      <td>0.119792</td>\n",
       "      <td>0.0</td>\n",
       "      <td>1000000.0</td>\n",
       "      <td>0.0</td>\n",
       "      <td>0.0</td>\n",
       "      <td>0.0</td>\n",
       "    </tr>\n",
       "    <tr>\n",
       "      <th>4</th>\n",
       "      <td>1.0</td>\n",
       "      <td>36.932371</td>\n",
       "      <td>44.553339</td>\n",
       "      <td>1023.5</td>\n",
       "      <td>36.932371</td>\n",
       "      <td>126.828427</td>\n",
       "      <td>0.123916</td>\n",
       "      <td>1024.0</td>\n",
       "      <td>0.894195</td>\n",
       "      <td>-129.649860</td>\n",
       "      <td>...</td>\n",
       "      <td>8.6875</td>\n",
       "      <td>1.0</td>\n",
       "      <td>0.119792</td>\n",
       "      <td>0.119792</td>\n",
       "      <td>0.119792</td>\n",
       "      <td>0.0</td>\n",
       "      <td>1000000.0</td>\n",
       "      <td>0.0</td>\n",
       "      <td>0.0</td>\n",
       "      <td>0.0</td>\n",
       "    </tr>\n",
       "  </tbody>\n",
       "</table>\n",
       "<p>5 rows × 2484 columns</p>\n",
       "</div>"
      ],
      "text/plain": [
       "   R_original_shape2D_Elongation  R_original_shape2D_MajorAxisLength  \\\n",
       "0                            1.0                           36.932371   \n",
       "1                            1.0                           36.932371   \n",
       "2                            1.0                           36.932371   \n",
       "3                            1.0                           36.932371   \n",
       "4                            1.0                           36.932371   \n",
       "\n",
       "   R_original_shape2D_MaximumDiameter  R_original_shape2D_MeshSurface  \\\n",
       "0                           44.553339                          1023.5   \n",
       "1                           44.553339                          1023.5   \n",
       "2                           44.553339                          1023.5   \n",
       "3                           44.553339                          1023.5   \n",
       "4                           44.553339                          1023.5   \n",
       "\n",
       "   R_original_shape2D_MinorAxisLength  R_original_shape2D_Perimeter  \\\n",
       "0                           36.932371                    126.828427   \n",
       "1                           36.932371                    126.828427   \n",
       "2                           36.932371                    126.828427   \n",
       "3                           36.932371                    126.828427   \n",
       "4                           36.932371                    126.828427   \n",
       "\n",
       "   R_original_shape2D_PerimeterSurfaceRatio  R_original_shape2D_PixelSurface  \\\n",
       "0                                  0.123916                           1024.0   \n",
       "1                                  0.123916                           1024.0   \n",
       "2                                  0.123916                           1024.0   \n",
       "3                                  0.123916                           1024.0   \n",
       "4                                  0.123916                           1024.0   \n",
       "\n",
       "   R_original_shape2D_Sphericity  R_original_firstorder_10Percentile  ...  \\\n",
       "0                       0.894195                         -118.333224  ...   \n",
       "1                       0.894195                         -153.391086  ...   \n",
       "2                       0.894195                         -173.356861  ...   \n",
       "3                       0.894195                         -132.478270  ...   \n",
       "4                       0.894195                         -129.649860  ...   \n",
       "\n",
       "   B_lbp-2D_gldm_LargeDependenceLowGrayLevelEmphasis  \\\n",
       "0                                             8.6875   \n",
       "1                                             8.6875   \n",
       "2                                             8.6875   \n",
       "3                                             8.6875   \n",
       "4                                             8.6875   \n",
       "\n",
       "   B_lbp-2D_gldm_LowGrayLevelEmphasis  B_lbp-2D_gldm_SmallDependenceEmphasis  \\\n",
       "0                                 1.0                               0.119792   \n",
       "1                                 1.0                               0.119792   \n",
       "2                                 1.0                               0.119792   \n",
       "3                                 1.0                               0.119792   \n",
       "4                                 1.0                               0.119792   \n",
       "\n",
       "   B_lbp-2D_gldm_SmallDependenceHighGrayLevelEmphasis  \\\n",
       "0                                           0.119792    \n",
       "1                                           0.119792    \n",
       "2                                           0.119792    \n",
       "3                                           0.119792    \n",
       "4                                           0.119792    \n",
       "\n",
       "   B_lbp-2D_gldm_SmallDependenceLowGrayLevelEmphasis  B_lbp-2D_ngtdm_Busyness  \\\n",
       "0                                           0.119792                      0.0   \n",
       "1                                           0.119792                      0.0   \n",
       "2                                           0.119792                      0.0   \n",
       "3                                           0.119792                      0.0   \n",
       "4                                           0.119792                      0.0   \n",
       "\n",
       "   B_lbp-2D_ngtdm_Coarseness  B_lbp-2D_ngtdm_Complexity  \\\n",
       "0                  1000000.0                        0.0   \n",
       "1                  1000000.0                        0.0   \n",
       "2                  1000000.0                        0.0   \n",
       "3                  1000000.0                        0.0   \n",
       "4                  1000000.0                        0.0   \n",
       "\n",
       "   B_lbp-2D_ngtdm_Contrast  B_lbp-2D_ngtdm_Strength  \n",
       "0                      0.0                      0.0  \n",
       "1                      0.0                      0.0  \n",
       "2                      0.0                      0.0  \n",
       "3                      0.0                      0.0  \n",
       "4                      0.0                      0.0  \n",
       "\n",
       "[5 rows x 2484 columns]"
      ]
     },
     "execution_count": 12,
     "metadata": {},
     "output_type": "execute_result"
    }
   ],
   "source": [
    "X.head()"
   ]
  },
  {
   "cell_type": "code",
   "execution_count": 13,
   "id": "80ef972c",
   "metadata": {
    "execution": {
     "iopub.execute_input": "2024-07-01T01:00:52.375170Z",
     "iopub.status.busy": "2024-07-01T01:00:52.374692Z",
     "iopub.status.idle": "2024-07-01T01:00:52.382546Z",
     "shell.execute_reply": "2024-07-01T01:00:52.381371Z"
    },
    "papermill": {
     "duration": 0.046333,
     "end_time": "2024-07-01T01:00:52.385173",
     "exception": false,
     "start_time": "2024-07-01T01:00:52.338840",
     "status": "completed"
    },
    "tags": []
   },
   "outputs": [
    {
     "name": "stdout",
     "output_type": "stream",
     "text": [
      "Index([], dtype='object')\n"
     ]
    }
   ],
   "source": [
    "non_float_columns = X.select_dtypes(exclude=['float']).columns\n",
    "print(non_float_columns)"
   ]
  },
  {
   "cell_type": "code",
   "execution_count": 14,
   "id": "5e2ac9b1",
   "metadata": {
    "execution": {
     "iopub.execute_input": "2024-07-01T01:00:52.455755Z",
     "iopub.status.busy": "2024-07-01T01:00:52.455299Z",
     "iopub.status.idle": "2024-07-01T01:00:56.205827Z",
     "shell.execute_reply": "2024-07-01T01:00:56.204313Z"
    },
    "papermill": {
     "duration": 3.789974,
     "end_time": "2024-07-01T01:00:56.209361",
     "exception": false,
     "start_time": "2024-07-01T01:00:52.419387",
     "status": "completed"
    },
    "tags": []
   },
   "outputs": [],
   "source": [
    "X_tensor = tf.convert_to_tensor(X)\n",
    "X_tensor = tf.expand_dims(X_tensor, axis=0)\n",
    "X_tensor = tf.reshape(X_tensor, (-1, 1, X.shape[1]))\n",
    "# tf.reshape(X_tensor, [32, tf.size(X_tensor[0])])\n",
    "tabular_dataset = tf.data.Dataset.from_tensor_slices(X_tensor)"
   ]
  },
  {
   "cell_type": "code",
   "execution_count": 15,
   "id": "12b4fbcb",
   "metadata": {
    "execution": {
     "iopub.execute_input": "2024-07-01T01:00:56.283984Z",
     "iopub.status.busy": "2024-07-01T01:00:56.282762Z",
     "iopub.status.idle": "2024-07-01T01:00:56.291235Z",
     "shell.execute_reply": "2024-07-01T01:00:56.290058Z"
    },
    "papermill": {
     "duration": 0.048192,
     "end_time": "2024-07-01T01:00:56.295090",
     "exception": false,
     "start_time": "2024-07-01T01:00:56.246898",
     "status": "completed"
    },
    "tags": []
   },
   "outputs": [
    {
     "data": {
      "text/plain": [
       "<TensorSliceDataset element_spec=TensorSpec(shape=(1, 2484), dtype=tf.float64, name=None)>"
      ]
     },
     "execution_count": 15,
     "metadata": {},
     "output_type": "execute_result"
    }
   ],
   "source": [
    "tabular_dataset"
   ]
  },
  {
   "cell_type": "code",
   "execution_count": 16,
   "id": "80572818",
   "metadata": {
    "execution": {
     "iopub.execute_input": "2024-07-01T01:00:56.368687Z",
     "iopub.status.busy": "2024-07-01T01:00:56.368224Z",
     "iopub.status.idle": "2024-07-01T01:00:56.375690Z",
     "shell.execute_reply": "2024-07-01T01:00:56.374585Z"
    },
    "papermill": {
     "duration": 0.048204,
     "end_time": "2024-07-01T01:00:56.378274",
     "exception": false,
     "start_time": "2024-07-01T01:00:56.330070",
     "status": "completed"
    },
    "tags": []
   },
   "outputs": [
    {
     "data": {
      "text/plain": [
       "<PrefetchDataset element_spec=(TensorSpec(shape=(32, 32, 3), dtype=tf.float32, name=None), TensorSpec(shape=(2,), dtype=tf.float32, name=None))>"
      ]
     },
     "execution_count": 16,
     "metadata": {},
     "output_type": "execute_result"
    }
   ],
   "source": [
    "image_dataset_train"
   ]
  },
  {
   "cell_type": "code",
   "execution_count": 17,
   "id": "a346d160",
   "metadata": {
    "execution": {
     "iopub.execute_input": "2024-07-01T01:00:56.448791Z",
     "iopub.status.busy": "2024-07-01T01:00:56.448316Z",
     "iopub.status.idle": "2024-07-01T01:00:56.502090Z",
     "shell.execute_reply": "2024-07-01T01:00:56.500596Z"
    },
    "papermill": {
     "duration": 0.091731,
     "end_time": "2024-07-01T01:00:56.504894",
     "exception": false,
     "start_time": "2024-07-01T01:00:56.413163",
     "status": "completed"
    },
    "tags": []
   },
   "outputs": [
    {
     "data": {
      "text/plain": [
       "<ZipDataset element_spec=((TensorSpec(shape=(32, 32, 3), dtype=tf.float32, name=None), TensorSpec(shape=(1, 2484), dtype=tf.float64, name=None)), TensorSpec(shape=(2,), dtype=tf.float32, name=None))>"
      ]
     },
     "execution_count": 17,
     "metadata": {},
     "output_type": "execute_result"
    }
   ],
   "source": [
    "# Merge datasets\n",
    "images = image_dataset_train.map(lambda x, y : x)\n",
    "labels = image_dataset_train.map(lambda x, y : y)\n",
    "joint_dataset = tf.data.Dataset.zip(((images, tabular_dataset), labels))\n",
    "joint_dataset"
   ]
  },
  {
   "cell_type": "code",
   "execution_count": 18,
   "id": "fdbc567c",
   "metadata": {
    "execution": {
     "iopub.execute_input": "2024-07-01T01:00:56.575723Z",
     "iopub.status.busy": "2024-07-01T01:00:56.575253Z",
     "iopub.status.idle": "2024-07-01T01:00:56.592293Z",
     "shell.execute_reply": "2024-07-01T01:00:56.590673Z"
    },
    "papermill": {
     "duration": 0.056546,
     "end_time": "2024-07-01T01:00:56.595375",
     "exception": false,
     "start_time": "2024-07-01T01:00:56.538829",
     "status": "completed"
    },
    "tags": []
   },
   "outputs": [
    {
     "name": "stdout",
     "output_type": "stream",
     "text": [
      "2813\n",
      "312\n"
     ]
    }
   ],
   "source": [
    "# Define the total size of your dataset\n",
    "total_size = len(joint_dataset)\n",
    "\n",
    "# Define the size of the validation set (e.g., 20%)\n",
    "validation_size = int(0.1 * total_size)\n",
    "\n",
    "# Shuffle the dataset\n",
    "dataset_shuffled = joint_dataset.shuffle(buffer_size=total_size, seed=config[\"seed\"])\n",
    "dataset_shuffled = dataset_shuffled.batch(config[\"batch_size\"])\n",
    "\n",
    "# Define the total size of your dataset\n",
    "total_size = len(dataset_shuffled)\n",
    "\n",
    "# Define the size of the validation set (e.g., 20%)\n",
    "validation_size = int(0.1 * total_size)\n",
    "\n",
    "# Split the dataset into training and validation sets\n",
    "validation_dataset = dataset_shuffled.take(validation_size)\n",
    "train_dataset = dataset_shuffled.skip(validation_size)\n",
    "\n",
    "print(int(train_dataset.cardinality()))\n",
    "print(int(validation_dataset.cardinality()))"
   ]
  },
  {
   "cell_type": "markdown",
   "id": "efc7a335",
   "metadata": {
    "papermill": {
     "duration": 0.03547,
     "end_time": "2024-07-01T01:00:56.666876",
     "exception": false,
     "start_time": "2024-07-01T01:00:56.631406",
     "status": "completed"
    },
    "tags": []
   },
   "source": [
    "## Load and show sample image"
   ]
  },
  {
   "cell_type": "code",
   "execution_count": 19,
   "id": "806a1088",
   "metadata": {
    "execution": {
     "iopub.execute_input": "2024-07-01T01:00:56.737651Z",
     "iopub.status.busy": "2024-07-01T01:00:56.737191Z",
     "iopub.status.idle": "2024-07-01T01:00:56.747178Z",
     "shell.execute_reply": "2024-07-01T01:00:56.745839Z"
    },
    "papermill": {
     "duration": 0.048779,
     "end_time": "2024-07-01T01:00:56.749861",
     "exception": false,
     "start_time": "2024-07-01T01:00:56.701082",
     "status": "completed"
    },
    "tags": []
   },
   "outputs": [
    {
     "data": {
      "text/plain": [
       "<TakeDataset element_spec=((TensorSpec(shape=(None, 32, 32, 3), dtype=tf.float32, name=None), TensorSpec(shape=(None, 1, 2484), dtype=tf.float64, name=None)), TensorSpec(shape=(None, 2), dtype=tf.float32, name=None))>"
      ]
     },
     "execution_count": 19,
     "metadata": {},
     "output_type": "execute_result"
    }
   ],
   "source": [
    "# Retrieve a batch of data from the generator\n",
    "first_element = train_dataset.take(1)\n",
    "first_element"
   ]
  },
  {
   "cell_type": "code",
   "execution_count": 20,
   "id": "169c43aa",
   "metadata": {
    "execution": {
     "iopub.execute_input": "2024-07-01T01:00:56.821743Z",
     "iopub.status.busy": "2024-07-01T01:00:56.821276Z",
     "iopub.status.idle": "2024-07-01T01:04:04.311310Z",
     "shell.execute_reply": "2024-07-01T01:04:04.310047Z"
    },
    "papermill": {
     "duration": 187.564499,
     "end_time": "2024-07-01T01:04:04.348865",
     "exception": false,
     "start_time": "2024-07-01T01:00:56.784366",
     "status": "completed"
    },
    "tags": []
   },
   "outputs": [
    {
     "data": {
      "image/png": "[encoded data removed]",
      "text/plain": [
       "<Figure size 640x480 with 1 Axes>"
      ]
     },
     "metadata": {},
     "output_type": "display_data"
    }
   ],
   "source": [
    "import matplotlib.pyplot as plt\n",
    "\n",
    "# Extract images and labels from the first element\n",
    "x, labels = next(iter(first_element))\n",
    "images, tabular_data = x\n",
    "\n",
    "plt.imshow(images[0].numpy().squeeze().astype(\"uint8\"))\n",
    "plt.title(f\"Class: {image_dataset_train.class_names[labels[0].numpy().argmax()]}\")\n",
    "#     plt.axis('off')\n",
    "plt.show()"
   ]
  },
  {
   "cell_type": "code",
   "execution_count": 21,
   "id": "7e3c29c2",
   "metadata": {
    "execution": {
     "iopub.execute_input": "2024-07-01T01:04:04.420440Z",
     "iopub.status.busy": "2024-07-01T01:04:04.420005Z",
     "iopub.status.idle": "2024-07-01T01:04:04.429908Z",
     "shell.execute_reply": "2024-07-01T01:04:04.428637Z"
    },
    "papermill": {
     "duration": 0.049003,
     "end_time": "2024-07-01T01:04:04.432313",
     "exception": false,
     "start_time": "2024-07-01T01:04:04.383310",
     "status": "completed"
    },
    "tags": []
   },
   "outputs": [
    {
     "data": {
      "text/plain": [
       "<tf.Tensor: shape=(32, 2), dtype=float32, numpy=\n",
       "array([[0., 1.],\n",
       "       [1., 0.],\n",
       "       [1., 0.],\n",
       "       [0., 1.],\n",
       "       [0., 1.],\n",
       "       [1., 0.],\n",
       "       [0., 1.],\n",
       "       [0., 1.],\n",
       "       [1., 0.],\n",
       "       [0., 1.],\n",
       "       [0., 1.],\n",
       "       [1., 0.],\n",
       "       [1., 0.],\n",
       "       [0., 1.],\n",
       "       [0., 1.],\n",
       "       [1., 0.],\n",
       "       [0., 1.],\n",
       "       [1., 0.],\n",
       "       [1., 0.],\n",
       "       [0., 1.],\n",
       "       [0., 1.],\n",
       "       [0., 1.],\n",
       "       [0., 1.],\n",
       "       [0., 1.],\n",
       "       [1., 0.],\n",
       "       [0., 1.],\n",
       "       [0., 1.],\n",
       "       [1., 0.],\n",
       "       [0., 1.],\n",
       "       [0., 1.],\n",
       "       [1., 0.],\n",
       "       [0., 1.]], dtype=float32)>"
      ]
     },
     "execution_count": 21,
     "metadata": {},
     "output_type": "execute_result"
    }
   ],
   "source": [
    "labels"
   ]
  },
  {
   "cell_type": "code",
   "execution_count": 22,
   "id": "fb73aaa1",
   "metadata": {
    "execution": {
     "iopub.execute_input": "2024-07-01T01:04:04.505946Z",
     "iopub.status.busy": "2024-07-01T01:04:04.505495Z",
     "iopub.status.idle": "2024-07-01T01:04:04.514333Z",
     "shell.execute_reply": "2024-07-01T01:04:04.513007Z"
    },
    "papermill": {
     "duration": 0.047785,
     "end_time": "2024-07-01T01:04:04.516865",
     "exception": false,
     "start_time": "2024-07-01T01:04:04.469080",
     "status": "completed"
    },
    "tags": []
   },
   "outputs": [
    {
     "data": {
      "text/plain": [
       "<tf.Tensor: shape=(32, 1, 2484), dtype=float64, numpy=\n",
       "array([[[ 1.        , 36.93237063, 44.55333882, ...,  0.        ,\n",
       "          0.        ,  0.        ]],\n",
       "\n",
       "       [[ 1.        , 36.93237063, 44.55333882, ...,  0.        ,\n",
       "          0.        ,  0.        ]],\n",
       "\n",
       "       [[ 1.        , 36.93237063, 44.55333882, ...,  0.        ,\n",
       "          0.        ,  0.        ]],\n",
       "\n",
       "       ...,\n",
       "\n",
       "       [[ 1.        , 36.93237063, 44.55333882, ...,  0.        ,\n",
       "          0.        ,  0.        ]],\n",
       "\n",
       "       [[ 1.        , 36.93237063, 44.55333882, ...,  0.        ,\n",
       "          0.        ,  0.        ]],\n",
       "\n",
       "       [[ 1.        , 36.93237063, 44.55333882, ...,  0.        ,\n",
       "          0.        ,  0.        ]]])>"
      ]
     },
     "execution_count": 22,
     "metadata": {},
     "output_type": "execute_result"
    }
   ],
   "source": [
    "tabular_data"
   ]
  },
  {
   "cell_type": "code",
   "execution_count": 23,
   "id": "4efa81da",
   "metadata": {
    "execution": {
     "iopub.execute_input": "2024-07-01T01:04:04.592480Z",
     "iopub.status.busy": "2024-07-01T01:04:04.592086Z",
     "iopub.status.idle": "2024-07-01T01:04:05.145853Z",
     "shell.execute_reply": "2024-07-01T01:04:05.144453Z"
    },
    "papermill": {
     "duration": 0.596022,
     "end_time": "2024-07-01T01:04:05.149081",
     "exception": false,
     "start_time": "2024-07-01T01:04:04.553059",
     "status": "completed"
    },
    "tags": []
   },
   "outputs": [],
   "source": [
    "norm = tf.keras.layers.Normalization()\n",
    "norm.adapt(tabular_data)"
   ]
  },
  {
   "cell_type": "code",
   "execution_count": 24,
   "id": "80d36b2c",
   "metadata": {
    "execution": {
     "iopub.execute_input": "2024-07-01T01:04:05.229181Z",
     "iopub.status.busy": "2024-07-01T01:04:05.228613Z",
     "iopub.status.idle": "2024-07-01T01:04:05.477335Z",
     "shell.execute_reply": "2024-07-01T01:04:05.476047Z"
    },
    "papermill": {
     "duration": 0.291091,
     "end_time": "2024-07-01T01:04:05.480348",
     "exception": false,
     "start_time": "2024-07-01T01:04:05.189257",
     "status": "completed"
    },
    "tags": []
   },
   "outputs": [
    {
     "name": "stdout",
     "output_type": "stream",
     "text": [
      "Model: \"model\"\n",
      "__________________________________________________________________________________________________\n",
      " Layer (type)                   Output Shape         Param #     Connected to                     \n",
      "==================================================================================================\n",
      " img_input (InputLayer)         [(None, 32, 32, 3)]  0           []                               \n",
      "                                                                                                  \n",
      " flatten_1 (Flatten)            (None, 3072)         0           ['img_input[0][0]']              \n",
      "                                                                                                  \n",
      " dense (Dense)                  (None, 32)           98336       ['flatten_1[0][0]']              \n",
      "                                                                                                  \n",
      " batch_normalization_1 (BatchNo  (None, 32)          128         ['dense[0][0]']                  \n",
      " rmalization)                                                                                     \n",
      "                                                                                                  \n",
      " re_lu_1 (ReLU)                 (None, 32)           0           ['batch_normalization_1[0][0]']  \n",
      "                                                                                                  \n",
      " dropout (Dropout)              (None, 32)           0           ['re_lu_1[0][0]']                \n",
      "                                                                                                  \n",
      " conv2d (Conv2D)                (None, 30, 30, 64)   1792        ['img_input[0][0]']              \n",
      "                                                                                                  \n",
      " dense_1 (Dense)                (None, 16)           528         ['dropout[0][0]']                \n",
      "                                                                                                  \n",
      " batch_normalization (BatchNorm  (None, 30, 30, 64)  256         ['conv2d[0][0]']                 \n",
      " alization)                                                                                       \n",
      "                                                                                                  \n",
      " batch_normalization_2 (BatchNo  (None, 16)          64          ['dense_1[0][0]']                \n",
      " rmalization)                                                                                     \n",
      "                                                                                                  \n",
      " re_lu (ReLU)                   (None, 30, 30, 64)   0           ['batch_normalization[0][0]']    \n",
      "                                                                                                  \n",
      " re_lu_2 (ReLU)                 (None, 16)           0           ['batch_normalization_2[0][0]']  \n",
      "                                                                                                  \n",
      " flatten (Flatten)              (None, 57600)        0           ['re_lu[0][0]']                  \n",
      "                                                                                                  \n",
      " flatten_2 (Flatten)            (None, 16)           0           ['re_lu_2[0][0]']                \n",
      "                                                                                                  \n",
      " concatenate (Concatenate)      (None, 57616)        0           ['flatten[0][0]',                \n",
      "                                                                  'flatten_2[0][0]']              \n",
      "                                                                                                  \n",
      " tabular_input (InputLayer)     [(None, 1, 2484)]    0           []                               \n",
      "                                                                                                  \n",
      " dense_2 (Dense)                (None, 2)            115234      ['concatenate[0][0]']            \n",
      "                                                                                                  \n",
      "==================================================================================================\n",
      "Total params: 216,338\n",
      "Trainable params: 216,114\n",
      "Non-trainable params: 224\n",
      "__________________________________________________________________________________________________\n"
     ]
    }
   ],
   "source": [
    "from tensorflow.keras import layers\n",
    "\n",
    "NUMBER_OF_CLASSES = 2\n",
    "\n",
    "# Image part\n",
    "img_input = layers.Input(shape=config[\"input_shape\"], name='img_input')\n",
    "\n",
    "img_X = layers.Conv2D(64, (3, 3))(img_input)\n",
    "img_X = layers.BatchNormalization()(img_X)\n",
    "img_X = layers.ReLU()(img_X)\n",
    "\n",
    "img_output = layers.Flatten()(img_X)\n",
    "\n",
    "# Radiomic part\n",
    "tabular_input = layers.Input(shape=tuple(tabular_data.shape[1:]), name='tabular_input')\n",
    "# tabular_X = norm(tabular_input)\n",
    "tabular_X = layers.Flatten()(img_input)\n",
    "\n",
    "tabular_X = layers.Dense(32)(tabular_X)\n",
    "tabular_X = layers.BatchNormalization()(tabular_X)\n",
    "tabular_X = layers.ReLU()(tabular_X)\n",
    "\n",
    "tabular_X = layers.Dropout(0.3)(tabular_X)\n",
    "\n",
    "tabular_X = layers.Dense(16)(tabular_X)\n",
    "tabular_X = layers.BatchNormalization()(tabular_X)\n",
    "tabular_X = layers.ReLU()(tabular_X)\n",
    "\n",
    "tabular_output = layers.Flatten()(tabular_X)\n",
    "\n",
    "# Combine\n",
    "combined = layers.Concatenate()([img_output, tabular_output])\n",
    "\n",
    "# output\n",
    "output = layers.Dense(NUMBER_OF_CLASSES, activation='softmax')(combined)\n",
    "\n",
    "# define model\n",
    "keras_model = tf.keras.Model(inputs=[img_input, tabular_input], outputs=output)\n",
    "\n",
    "keras_model.summary()\n",
    "\n"
   ]
  },
  {
   "cell_type": "code",
   "execution_count": 25,
   "id": "9b793066",
   "metadata": {
    "execution": {
     "iopub.execute_input": "2024-07-01T01:04:05.574340Z",
     "iopub.status.busy": "2024-07-01T01:04:05.573932Z",
     "iopub.status.idle": "2024-07-01T01:04:05.592213Z",
     "shell.execute_reply": "2024-07-01T01:04:05.591035Z"
    },
    "papermill": {
     "duration": 0.064549,
     "end_time": "2024-07-01T01:04:05.595439",
     "exception": false,
     "start_time": "2024-07-01T01:04:05.530890",
     "status": "completed"
    },
    "tags": []
   },
   "outputs": [],
   "source": [
    "keras_model.compile(optimizer='adam', loss='categorical_crossentropy', metrics=['accuracy'])"
   ]
  },
  {
   "cell_type": "markdown",
   "id": "96fca41c",
   "metadata": {
    "papermill": {
     "duration": 0.039982,
     "end_time": "2024-07-01T01:04:05.676075",
     "exception": false,
     "start_time": "2024-07-01T01:04:05.636093",
     "status": "completed"
    },
    "tags": []
   },
   "source": [
    "## Train the model"
   ]
  },
  {
   "cell_type": "code",
   "execution_count": 26,
   "id": "0100d000",
   "metadata": {
    "execution": {
     "iopub.execute_input": "2024-07-01T01:04:05.758492Z",
     "iopub.status.busy": "2024-07-01T01:04:05.757995Z",
     "iopub.status.idle": "2024-07-01T03:51:18.057507Z",
     "shell.execute_reply": "2024-07-01T03:51:18.053901Z"
    },
    "papermill": {
     "duration": 10032.347612,
     "end_time": "2024-07-01T03:51:18.063916",
     "exception": false,
     "start_time": "2024-07-01T01:04:05.716304",
     "status": "completed"
    },
    "tags": []
   },
   "outputs": [
    {
     "name": "stderr",
     "output_type": "stream",
     "text": [
      "\u001b[34m\u001b[1mwandb\u001b[0m: \u001b[33mWARNING\u001b[0m The save_model argument by default saves the model in the HDF5 format that cannot save custom objects like subclassed models and custom layers. This behavior will be deprecated in a future release in favor of the SavedModel format. Meanwhile, the HDF5 model is saved as W&B files and the SavedModel as W&B Artifacts.\n"
     ]
    },
    {
     "name": "stdout",
     "output_type": "stream",
     "text": [
      "steps_per_epoch = None, validation_steps = None\n",
      "\n",
      "\n",
      "Epoch 1/50\n",
      "2812/2813 [============================>.] - ETA: 0s - loss: 1.0515 - accuracy: 0.7776"
     ]
    },
    {
     "name": "stderr",
     "output_type": "stream",
     "text": [
      "\u001b[34m\u001b[1mwandb\u001b[0m: Adding directory to artifact (/kaggle/working/wandb/run-20240701_005505-yg3cv4vj/files/model-best)... Done. 0.0s\n"
     ]
    },
    {
     "name": "stdout",
     "output_type": "stream",
     "text": [
      "2813/2813 [==============================] - 201s 57ms/step - loss: 1.0513 - accuracy: 0.7776 - val_loss: 1.1924 - val_accuracy: 0.6998\n",
      "Epoch 2/50\n",
      "2813/2813 [==============================] - ETA: 0s - loss: 0.3367 - accuracy: 0.8735"
     ]
    },
    {
     "name": "stderr",
     "output_type": "stream",
     "text": [
      "\u001b[34m\u001b[1mwandb\u001b[0m: Adding directory to artifact (/kaggle/working/wandb/run-20240701_005505-yg3cv4vj/files/model-best)... Done. 0.1s\n"
     ]
    },
    {
     "name": "stdout",
     "output_type": "stream",
     "text": [
      "2813/2813 [==============================] - 192s 54ms/step - loss: 0.3367 - accuracy: 0.8735 - val_loss: 0.2857 - val_accuracy: 0.8836\n",
      "Epoch 3/50\n",
      "2813/2813 [==============================] - 190s 53ms/step - loss: 0.2641 - accuracy: 0.8956 - val_loss: 0.5191 - val_accuracy: 0.8035\n",
      "Epoch 4/50\n",
      "2813/2813 [==============================] - ETA: 0s - loss: 0.2447 - accuracy: 0.9034"
     ]
    },
    {
     "name": "stderr",
     "output_type": "stream",
     "text": [
      "\u001b[34m\u001b[1mwandb\u001b[0m: Adding directory to artifact (/kaggle/working/wandb/run-20240701_005505-yg3cv4vj/files/model-best)... Done. 0.0s\n"
     ]
    },
    {
     "name": "stdout",
     "output_type": "stream",
     "text": [
      "2813/2813 [==============================] - 208s 58ms/step - loss: 0.2447 - accuracy: 0.9034 - val_loss: 0.1906 - val_accuracy: 0.9257\n",
      "Epoch 5/50\n",
      "2813/2813 [==============================] - ETA: 0s - loss: 0.2325 - accuracy: 0.9089"
     ]
    },
    {
     "name": "stderr",
     "output_type": "stream",
     "text": [
      "\u001b[34m\u001b[1mwandb\u001b[0m: Adding directory to artifact (/kaggle/working/wandb/run-20240701_005505-yg3cv4vj/files/model-best)... Done. 0.0s\n"
     ]
    },
    {
     "name": "stdout",
     "output_type": "stream",
     "text": [
      "2813/2813 [==============================] - 219s 62ms/step - loss: 0.2325 - accuracy: 0.9089 - val_loss: 0.1900 - val_accuracy: 0.9225\n",
      "Epoch 6/50\n",
      "2813/2813 [==============================] - 189s 52ms/step - loss: 0.2176 - accuracy: 0.9148 - val_loss: 0.3309 - val_accuracy: 0.8700\n",
      "Epoch 7/50\n",
      "2813/2813 [==============================] - 207s 55ms/step - loss: 0.2034 - accuracy: 0.9214 - val_loss: 0.1967 - val_accuracy: 0.9176\n",
      "Epoch 8/50\n",
      "2813/2813 [==============================] - 194s 54ms/step - loss: 0.1928 - accuracy: 0.9248 - val_loss: 0.5298 - val_accuracy: 0.8062\n",
      "Epoch 9/50\n",
      "2813/2813 [==============================] - ETA: 0s - loss: 0.1844 - accuracy: 0.9287"
     ]
    },
    {
     "name": "stderr",
     "output_type": "stream",
     "text": [
      "\u001b[34m\u001b[1mwandb\u001b[0m: Adding directory to artifact (/kaggle/working/wandb/run-20240701_005505-yg3cv4vj/files/model-best)... Done. 0.1s\n"
     ]
    },
    {
     "name": "stdout",
     "output_type": "stream",
     "text": [
      "2813/2813 [==============================] - 205s 57ms/step - loss: 0.1844 - accuracy: 0.9287 - val_loss: 0.1434 - val_accuracy: 0.9446\n",
      "Epoch 10/50\n",
      "2813/2813 [==============================] - 205s 53ms/step - loss: 0.1763 - accuracy: 0.9317 - val_loss: 0.2768 - val_accuracy: 0.8985\n",
      "Epoch 11/50\n",
      "2813/2813 [==============================] - 200s 56ms/step - loss: 0.1673 - accuracy: 0.9345 - val_loss: 0.2205 - val_accuracy: 0.9083\n",
      "Epoch 12/50\n",
      "2813/2813 [==============================] - 197s 54ms/step - loss: 0.1593 - accuracy: 0.9374 - val_loss: 0.1606 - val_accuracy: 0.9336\n",
      "Epoch 13/50\n",
      "2813/2813 [==============================] - ETA: 0s - loss: 0.1526 - accuracy: 0.9405"
     ]
    },
    {
     "name": "stderr",
     "output_type": "stream",
     "text": [
      "\u001b[34m\u001b[1mwandb\u001b[0m: Adding directory to artifact (/kaggle/working/wandb/run-20240701_005505-yg3cv4vj/files/model-best)... Done. 0.0s\n"
     ]
    },
    {
     "name": "stdout",
     "output_type": "stream",
     "text": [
      "2813/2813 [==============================] - 223s 62ms/step - loss: 0.1526 - accuracy: 0.9405 - val_loss: 0.1392 - val_accuracy: 0.9460\n",
      "Epoch 14/50\n",
      "2813/2813 [==============================] - ETA: 0s - loss: 0.1474 - accuracy: 0.9423"
     ]
    },
    {
     "name": "stderr",
     "output_type": "stream",
     "text": [
      "\u001b[34m\u001b[1mwandb\u001b[0m: Adding directory to artifact (/kaggle/working/wandb/run-20240701_005505-yg3cv4vj/files/model-best)... Done. 0.0s\n"
     ]
    },
    {
     "name": "stdout",
     "output_type": "stream",
     "text": [
      "2813/2813 [==============================] - 197s 55ms/step - loss: 0.1474 - accuracy: 0.9423 - val_loss: 0.1154 - val_accuracy: 0.9553\n",
      "Epoch 15/50\n",
      "2813/2813 [==============================] - 191s 52ms/step - loss: 0.1410 - accuracy: 0.9460 - val_loss: 0.3475 - val_accuracy: 0.8757\n",
      "Epoch 16/50\n",
      "2813/2813 [==============================] - 207s 59ms/step - loss: 0.1362 - accuracy: 0.9463 - val_loss: 0.2293 - val_accuracy: 0.9082\n",
      "Epoch 17/50\n",
      "2813/2813 [==============================] - ETA: 0s - loss: 0.1351 - accuracy: 0.9480"
     ]
    },
    {
     "name": "stderr",
     "output_type": "stream",
     "text": [
      "\u001b[34m\u001b[1mwandb\u001b[0m: Adding directory to artifact (/kaggle/working/wandb/run-20240701_005505-yg3cv4vj/files/model-best)... Done. 0.0s\n"
     ]
    },
    {
     "name": "stdout",
     "output_type": "stream",
     "text": [
      "2813/2813 [==============================] - 203s 56ms/step - loss: 0.1351 - accuracy: 0.9480 - val_loss: 0.1035 - val_accuracy: 0.9619\n",
      "Epoch 18/50\n",
      "2813/2813 [==============================] - 191s 53ms/step - loss: 0.1253 - accuracy: 0.9508 - val_loss: 0.1120 - val_accuracy: 0.9544\n",
      "Epoch 19/50\n",
      "2813/2813 [==============================] - 191s 53ms/step - loss: 0.1229 - accuracy: 0.9521 - val_loss: 0.1564 - val_accuracy: 0.9400\n",
      "Epoch 20/50\n",
      "2813/2813 [==============================] - ETA: 0s - loss: 0.1204 - accuracy: 0.9526"
     ]
    },
    {
     "name": "stderr",
     "output_type": "stream",
     "text": [
      "\u001b[34m\u001b[1mwandb\u001b[0m: Adding directory to artifact (/kaggle/working/wandb/run-20240701_005505-yg3cv4vj/files/model-best)... Done. 0.0s\n"
     ]
    },
    {
     "name": "stdout",
     "output_type": "stream",
     "text": [
      "2813/2813 [==============================] - 192s 53ms/step - loss: 0.1204 - accuracy: 0.9526 - val_loss: 0.0939 - val_accuracy: 0.9662\n",
      "Epoch 21/50\n",
      "2813/2813 [==============================] - 198s 55ms/step - loss: 0.1185 - accuracy: 0.9537 - val_loss: 0.1528 - val_accuracy: 0.9358\n",
      "Epoch 22/50\n",
      "2813/2813 [==============================] - 192s 54ms/step - loss: 0.1131 - accuracy: 0.9561 - val_loss: 0.1067 - val_accuracy: 0.9587\n",
      "Epoch 23/50\n",
      "2812/2813 [============================>.] - ETA: 0s - loss: 0.1090 - accuracy: 0.9581"
     ]
    },
    {
     "name": "stderr",
     "output_type": "stream",
     "text": [
      "\u001b[34m\u001b[1mwandb\u001b[0m: Adding directory to artifact (/kaggle/working/wandb/run-20240701_005505-yg3cv4vj/files/model-best)... Done. 0.0s\n"
     ]
    },
    {
     "name": "stdout",
     "output_type": "stream",
     "text": [
      "2813/2813 [==============================] - 197s 55ms/step - loss: 0.1089 - accuracy: 0.9581 - val_loss: 0.0774 - val_accuracy: 0.9697\n",
      "Epoch 24/50\n",
      "2813/2813 [==============================] - 190s 53ms/step - loss: 0.1100 - accuracy: 0.9577 - val_loss: 0.1344 - val_accuracy: 0.9465\n",
      "Epoch 25/50\n",
      "2813/2813 [==============================] - 187s 51ms/step - loss: 0.1037 - accuracy: 0.9597 - val_loss: 0.4497 - val_accuracy: 0.8424\n",
      "Epoch 26/50\n",
      "2813/2813 [==============================] - 192s 54ms/step - loss: 0.1031 - accuracy: 0.9603 - val_loss: 0.1747 - val_accuracy: 0.9250\n",
      "Epoch 27/50\n",
      "2813/2813 [==============================] - 189s 52ms/step - loss: 0.0981 - accuracy: 0.9621 - val_loss: 0.1141 - val_accuracy: 0.9563\n",
      "Epoch 28/50\n",
      "2813/2813 [==============================] - 194s 53ms/step - loss: 0.0988 - accuracy: 0.9617 - val_loss: 0.2003 - val_accuracy: 0.9236\n",
      "Epoch 29/50\n",
      "2813/2813 [==============================] - 187s 52ms/step - loss: 0.0972 - accuracy: 0.9623 - val_loss: 0.1576 - val_accuracy: 0.9374\n",
      "Epoch 30/50\n",
      "2813/2813 [==============================] - 187s 52ms/step - loss: 0.0944 - accuracy: 0.9632 - val_loss: 0.0792 - val_accuracy: 0.9700\n",
      "Epoch 31/50\n",
      "2813/2813 [==============================] - 194s 54ms/step - loss: 0.0939 - accuracy: 0.9639 - val_loss: 0.0968 - val_accuracy: 0.9582\n",
      "Epoch 32/50\n",
      "2813/2813 [==============================] - 194s 53ms/step - loss: 0.0919 - accuracy: 0.9649 - val_loss: 0.3284 - val_accuracy: 0.8791\n",
      "Epoch 33/50\n",
      "2813/2813 [==============================] - 190s 53ms/step - loss: 0.0889 - accuracy: 0.9653 - val_loss: 0.1619 - val_accuracy: 0.9430\n",
      "Epoch 34/50\n",
      "2813/2813 [==============================] - 195s 54ms/step - loss: 0.0867 - accuracy: 0.9667 - val_loss: 0.0914 - val_accuracy: 0.9677\n",
      "Epoch 35/50\n",
      "2813/2813 [==============================] - 193s 53ms/step - loss: 0.0873 - accuracy: 0.9668 - val_loss: 0.0834 - val_accuracy: 0.9664\n",
      "Epoch 36/50\n",
      "2813/2813 [==============================] - ETA: 0s - loss: 0.0850 - accuracy: 0.9676"
     ]
    },
    {
     "name": "stderr",
     "output_type": "stream",
     "text": [
      "\u001b[34m\u001b[1mwandb\u001b[0m: Adding directory to artifact (/kaggle/working/wandb/run-20240701_005505-yg3cv4vj/files/model-best)... Done. 0.1s\n"
     ]
    },
    {
     "name": "stdout",
     "output_type": "stream",
     "text": [
      "2813/2813 [==============================] - 195s 54ms/step - loss: 0.0850 - accuracy: 0.9676 - val_loss: 0.0602 - val_accuracy: 0.9784\n",
      "Epoch 37/50\n",
      "2813/2813 [==============================] - 188s 52ms/step - loss: 0.0845 - accuracy: 0.9676 - val_loss: 0.5192 - val_accuracy: 0.8363\n",
      "Epoch 38/50\n",
      "2813/2813 [==============================] - 190s 52ms/step - loss: 0.0810 - accuracy: 0.9700 - val_loss: 0.1722 - val_accuracy: 0.9266\n",
      "Epoch 39/50\n",
      "2813/2813 [==============================] - 191s 53ms/step - loss: 0.0807 - accuracy: 0.9693 - val_loss: 0.1355 - val_accuracy: 0.9497\n",
      "Epoch 40/50\n",
      "2813/2813 [==============================] - 194s 53ms/step - loss: 0.0801 - accuracy: 0.9695 - val_loss: 0.2239 - val_accuracy: 0.9277\n",
      "Epoch 41/50\n",
      "2813/2813 [==============================] - 198s 56ms/step - loss: 0.0776 - accuracy: 0.9704 - val_loss: 0.0676 - val_accuracy: 0.9744\n",
      "Epoch 42/50\n",
      "2813/2813 [==============================] - 198s 53ms/step - loss: 0.0784 - accuracy: 0.9692 - val_loss: 0.1662 - val_accuracy: 0.9356\n",
      "Epoch 43/50\n",
      "2813/2813 [==============================] - 192s 52ms/step - loss: 0.0772 - accuracy: 0.9708 - val_loss: 0.1606 - val_accuracy: 0.9300\n",
      "Epoch 44/50\n",
      "2813/2813 [==============================] - ETA: 0s - loss: 0.0755 - accuracy: 0.9717"
     ]
    },
    {
     "name": "stderr",
     "output_type": "stream",
     "text": [
      "\u001b[34m\u001b[1mwandb\u001b[0m: Adding directory to artifact (/kaggle/working/wandb/run-20240701_005505-yg3cv4vj/files/model-best)... Done. 0.0s\n"
     ]
    },
    {
     "name": "stdout",
     "output_type": "stream",
     "text": [
      "2813/2813 [==============================] - 199s 55ms/step - loss: 0.0755 - accuracy: 0.9717 - val_loss: 0.0516 - val_accuracy: 0.9814\n",
      "Epoch 45/50\n",
      "2813/2813 [==============================] - 194s 54ms/step - loss: 0.0724 - accuracy: 0.9727 - val_loss: 0.0584 - val_accuracy: 0.9755\n",
      "Epoch 46/50\n",
      "2813/2813 [==============================] - 190s 52ms/step - loss: 0.0751 - accuracy: 0.9715 - val_loss: 0.0674 - val_accuracy: 0.9743\n",
      "Epoch 47/50\n",
      "2813/2813 [==============================] - 207s 53ms/step - loss: 0.0730 - accuracy: 0.9721 - val_loss: 0.0517 - val_accuracy: 0.9792\n",
      "Epoch 48/50\n",
      "2813/2813 [==============================] - 193s 52ms/step - loss: 0.0708 - accuracy: 0.9730 - val_loss: 0.0707 - val_accuracy: 0.9720\n",
      "Epoch 49/50\n",
      "2813/2813 [==============================] - 197s 54ms/step - loss: 0.0715 - accuracy: 0.9729 - val_loss: 0.0591 - val_accuracy: 0.9765\n",
      "Epoch 50/50\n",
      "2813/2813 [==============================] - ETA: 0s - loss: 0.0695 - accuracy: 0.9734"
     ]
    },
    {
     "name": "stderr",
     "output_type": "stream",
     "text": [
      "\u001b[34m\u001b[1mwandb\u001b[0m: Adding directory to artifact (/kaggle/working/wandb/run-20240701_005505-yg3cv4vj/files/model-best)... Done. 0.0s\n"
     ]
    },
    {
     "name": "stdout",
     "output_type": "stream",
     "text": [
      "2813/2813 [==============================] - 202s 55ms/step - loss: 0.0695 - accuracy: 0.9734 - val_loss: 0.0454 - val_accuracy: 0.9837\n"
     ]
    }
   ],
   "source": [
    "from wandb.keras import WandbCallback\n",
    "\n",
    "EPOCHS = config[\"epochs\"]\n",
    "\n",
    "if config[\"use_small_sample\"] is True:\n",
    "    steps_per_epoch = 1000 // BATCH_SIZE\n",
    "    validation_steps = 100 // BATCH_SIZE\n",
    "else:\n",
    "    # train_dataset.samples // BATCH_SIZE\n",
    "    steps_per_epoch = None\n",
    "    validation_steps = None\n",
    "    \n",
    "print(f\"steps_per_epoch = {steps_per_epoch}, validation_steps = {validation_steps}\\n\\n\")\n",
    "    \n",
    "history = keras_model.fit(\n",
    "    train_dataset,\n",
    "    steps_per_epoch=steps_per_epoch,\n",
    "    epochs=EPOCHS,\n",
    "    validation_data=validation_dataset,\n",
    "    callbacks=[\n",
    "      WandbCallback(),\n",
    "    ],\n",
    "    validation_steps=validation_steps\n",
    ")"
   ]
  },
  {
   "cell_type": "code",
   "execution_count": 27,
   "id": "5eb529d8",
   "metadata": {
    "execution": {
     "iopub.execute_input": "2024-07-01T03:51:33.054752Z",
     "iopub.status.busy": "2024-07-01T03:51:33.054233Z",
     "iopub.status.idle": "2024-07-01T03:51:39.647566Z",
     "shell.execute_reply": "2024-07-01T03:51:39.646067Z"
    },
    "papermill": {
     "duration": 14.143122,
     "end_time": "2024-07-01T03:51:39.650855",
     "exception": false,
     "start_time": "2024-07-01T03:51:25.507733",
     "status": "completed"
    },
    "tags": []
   },
   "outputs": [
    {
     "name": "stderr",
     "output_type": "stream",
     "text": [
      "\u001b[34m\u001b[1mwandb\u001b[0m:                                                                                \n",
      "\u001b[34m\u001b[1mwandb\u001b[0m: \n",
      "\u001b[34m\u001b[1mwandb\u001b[0m: Run history:\n",
      "\u001b[34m\u001b[1mwandb\u001b[0m:     accuracy ▁▄▅▅▆▆▆▆▇▇▇▇▇▇▇▇▇▇▇▇████████████████████\n",
      "\u001b[34m\u001b[1mwandb\u001b[0m:        epoch ▁▁▁▁▂▂▂▂▂▃▃▃▃▃▃▄▄▄▄▄▅▅▅▅▅▅▆▆▆▆▆▆▇▇▇▇▇███\n",
      "\u001b[34m\u001b[1mwandb\u001b[0m:         loss █▃▂▂▂▂▂▂▂▂▂▂▁▁▁▁▁▁▁▁▁▁▁▁▁▁▁▁▁▁▁▁▁▁▁▁▁▁▁▁\n",
      "\u001b[34m\u001b[1mwandb\u001b[0m: val_accuracy ▁▆▄▇▅▆▄▇▆▇▇▇▆▇▇▇▇▇█▇▇▇▇▇▇▅▇██▄▇▇█▇▇█████\n",
      "\u001b[34m\u001b[1mwandb\u001b[0m:     val_loss █▂▄▂▃▂▄▂▂▂▂▁▂▁▁▂▂▁▁▂▂▁▂▂▁▃▂▁▁▄▂▂▁▂▂▁▁▁▁▁\n",
      "\u001b[34m\u001b[1mwandb\u001b[0m: \n",
      "\u001b[34m\u001b[1mwandb\u001b[0m: Run summary:\n",
      "\u001b[34m\u001b[1mwandb\u001b[0m:      accuracy 0.97342\n",
      "\u001b[34m\u001b[1mwandb\u001b[0m:    best_epoch 49\n",
      "\u001b[34m\u001b[1mwandb\u001b[0m: best_val_loss 0.04536\n",
      "\u001b[34m\u001b[1mwandb\u001b[0m:         epoch 49\n",
      "\u001b[34m\u001b[1mwandb\u001b[0m:          loss 0.0695\n",
      "\u001b[34m\u001b[1mwandb\u001b[0m:  val_accuracy 0.98367\n",
      "\u001b[34m\u001b[1mwandb\u001b[0m:      val_loss 0.04536\n",
      "\u001b[34m\u001b[1mwandb\u001b[0m: \n",
      "\u001b[34m\u001b[1mwandb\u001b[0m: 🚀 View run \u001b[33mroyal-glade-113\u001b[0m at: \u001b[34m\u001b[4mhttps://wandb.ai/budalema/ai-detection/runs/yg3cv4vj\u001b[0m\n",
      "\u001b[34m\u001b[1mwandb\u001b[0m: Synced 6 W&B file(s), 1 media file(s), 52 artifact file(s) and 1 other file(s)\n",
      "\u001b[34m\u001b[1mwandb\u001b[0m: Find logs at: \u001b[35m\u001b[1m./wandb/run-20240701_005505-yg3cv4vj/logs\u001b[0m\n"
     ]
    }
   ],
   "source": [
    "wandb.finish()"
   ]
  }
 ],
 "metadata": {
  "kaggle": {
   "accelerator": "none",
   "dataSources": [
    {
     "datasetId": 3041726,
     "sourceId": 5256696,
     "sourceType": "datasetVersion"
    },
    {
     "datasetId": 4418181,
     "sourceId": 8404447,
     "sourceType": "datasetVersion"
    }
   ],
   "dockerImageVersionId": 30698,
   "isGpuEnabled": false,
   "isInternetEnabled": true,
   "language": "python",
   "sourceType": "notebook"
  },
  "kernelspec": {
   "display_name": "Python 3",
   "language": "python",
   "name": "python3"
  },
  "language_info": {
   "codemirror_mode": {
    "name": "ipython",
    "version": 3
   },
   "file_extension": ".py",
   "mimetype": "text/x-python",
   "name": "python",
   "nbconvert_exporter": "python",
   "pygments_lexer": "ipython3",
   "version": "3.10.13"
  },
  "papermill": {
   "default_parameters": {},
   "duration": 10701.676832,
   "end_time": "2024-07-01T03:51:51.637493",
   "environment_variables": {},
   "exception": null,
   "input_path": "__notebook__.ipynb",
   "output_path": "__notebook__.ipynb",
   "parameters": {},
   "start_time": "2024-07-01T00:53:29.960661",
   "version": "2.5.0"
  }
 },
 "nbformat": 4,
 "nbformat_minor": 5
}
