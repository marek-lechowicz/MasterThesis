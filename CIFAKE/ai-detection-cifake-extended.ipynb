{
 "cells": [
  {
   "cell_type": "markdown",
   "id": "20bbd4b4",
   "metadata": {
    "papermill": {
     "duration": 0.008364,
     "end_time": "2024-06-30T19:41:58.371212",
     "exception": false,
     "start_time": "2024-06-30T19:41:58.362848",
     "status": "completed"
    },
    "tags": []
   },
   "source": [
    "# AI-deteciton using extended (Standard, Wavelet 1, Wavelet 2, LoG) features from separate RGB channels"
   ]
  },
  {
   "cell_type": "code",
   "execution_count": 1,
   "id": "930f78c5",
   "metadata": {
    "execution": {
     "iopub.execute_input": "2024-06-30T19:41:58.390603Z",
     "iopub.status.busy": "2024-06-30T19:41:58.390233Z",
     "iopub.status.idle": "2024-06-30T19:41:59.204237Z",
     "shell.execute_reply": "2024-06-30T19:41:59.203237Z"
    },
    "papermill": {
     "duration": 0.824786,
     "end_time": "2024-06-30T19:41:59.206614",
     "exception": false,
     "start_time": "2024-06-30T19:41:58.381828",
     "status": "completed"
    },
    "tags": []
   },
   "outputs": [],
   "source": [
    "import numpy as np\n",
    "import random\n",
    "import pandas as pd\n",
    "import matplotlib.pyplot as plt"
   ]
  },
  {
   "cell_type": "markdown",
   "id": "9a2b1385",
   "metadata": {
    "papermill": {
     "duration": 0.007232,
     "end_time": "2024-06-30T19:41:59.221347",
     "exception": false,
     "start_time": "2024-06-30T19:41:59.214115",
     "status": "completed"
    },
    "tags": []
   },
   "source": [
    "## Set the seed for reproducibility"
   ]
  },
  {
   "cell_type": "code",
   "execution_count": 2,
   "id": "209270d6",
   "metadata": {
    "execution": {
     "iopub.execute_input": "2024-06-30T19:41:59.237962Z",
     "iopub.status.busy": "2024-06-30T19:41:59.237440Z",
     "iopub.status.idle": "2024-06-30T19:41:59.242357Z",
     "shell.execute_reply": "2024-06-30T19:41:59.241423Z"
    },
    "papermill": {
     "duration": 0.015752,
     "end_time": "2024-06-30T19:41:59.244367",
     "exception": false,
     "start_time": "2024-06-30T19:41:59.228615",
     "status": "completed"
    },
    "tags": []
   },
   "outputs": [],
   "source": [
    "SEED = 44\n",
    "np.random.seed(SEED)\n",
    "random.seed(SEED)"
   ]
  },
  {
   "cell_type": "markdown",
   "id": "7f44517a",
   "metadata": {
    "papermill": {
     "duration": 0.007095,
     "end_time": "2024-06-30T19:41:59.258811",
     "exception": false,
     "start_time": "2024-06-30T19:41:59.251716",
     "status": "completed"
    },
    "tags": []
   },
   "source": [
    "## Load the data"
   ]
  },
  {
   "cell_type": "code",
   "execution_count": 3,
   "id": "0075e83e",
   "metadata": {
    "execution": {
     "iopub.execute_input": "2024-06-30T19:41:59.274830Z",
     "iopub.status.busy": "2024-06-30T19:41:59.274436Z",
     "iopub.status.idle": "2024-06-30T19:41:59.279350Z",
     "shell.execute_reply": "2024-06-30T19:41:59.278325Z"
    },
    "papermill": {
     "duration": 0.015484,
     "end_time": "2024-06-30T19:41:59.281468",
     "exception": false,
     "start_time": "2024-06-30T19:41:59.265984",
     "status": "completed"
    },
    "tags": []
   },
   "outputs": [],
   "source": [
    "def skip_half_rows(x):\n",
    "    # x is the row id \n",
    "    # is function evaluates to \n",
    "    # True the row is skipped\n",
    "    # NOTE: index numbering starts with the first line of file, so column row has the id = 0\n",
    "    return not (x % 2 == 0) # keep even indexes"
   ]
  },
  {
   "cell_type": "code",
   "execution_count": 4,
   "id": "fc259136",
   "metadata": {
    "execution": {
     "iopub.execute_input": "2024-06-30T19:41:59.298633Z",
     "iopub.status.busy": "2024-06-30T19:41:59.298032Z",
     "iopub.status.idle": "2024-06-30T19:47:14.583100Z",
     "shell.execute_reply": "2024-06-30T19:47:14.581989Z"
    },
    "papermill": {
     "duration": 315.309749,
     "end_time": "2024-06-30T19:47:14.598508",
     "exception": false,
     "start_time": "2024-06-30T19:41:59.288759",
     "status": "completed"
    },
    "tags": []
   },
   "outputs": [
    {
     "name": "stdout",
     "output_type": "stream",
     "text": [
      "<class 'pandas.core.frame.DataFrame'>\n",
      "Index: 50000 entries, 1 to 99999\n",
      "Columns: 9075 entries, Image to sym3_B_wavelet-L_ngtdm_Strength\n",
      "dtypes: float64(9015), int64(7), object(53)\n",
      "memory usage: 3.4+ GB\n"
     ]
    }
   ],
   "source": [
    "data_path = \"/kaggle/input/cifake-all-features/RGB_train_all_features.csv\"\n",
    "df = pd.read_csv(data_path, index_col=0, skiprows=skip_half_rows)\n",
    "\n",
    "df.info()"
   ]
  },
  {
   "cell_type": "code",
   "execution_count": 5,
   "id": "dd805634",
   "metadata": {
    "execution": {
     "iopub.execute_input": "2024-06-30T19:47:14.615833Z",
     "iopub.status.busy": "2024-06-30T19:47:14.614851Z",
     "iopub.status.idle": "2024-06-30T19:47:14.653502Z",
     "shell.execute_reply": "2024-06-30T19:47:14.652201Z"
    },
    "papermill": {
     "duration": 0.050076,
     "end_time": "2024-06-30T19:47:14.656025",
     "exception": false,
     "start_time": "2024-06-30T19:47:14.605949",
     "status": "completed"
    },
    "tags": []
   },
   "outputs": [
    {
     "data": {
      "text/html": [
       "<div>\n",
       "<style scoped>\n",
       "    .dataframe tbody tr th:only-of-type {\n",
       "        vertical-align: middle;\n",
       "    }\n",
       "\n",
       "    .dataframe tbody tr th {\n",
       "        vertical-align: top;\n",
       "    }\n",
       "\n",
       "    .dataframe thead th {\n",
       "        text-align: right;\n",
       "    }\n",
       "</style>\n",
       "<table border=\"1\" class=\"dataframe\">\n",
       "  <thead>\n",
       "    <tr style=\"text-align: right;\">\n",
       "      <th></th>\n",
       "      <th>Image</th>\n",
       "      <th>Mask</th>\n",
       "      <th>Category</th>\n",
       "      <th>R_diagnostics_Versions_PyRadiomics</th>\n",
       "      <th>R_diagnostics_Versions_Numpy</th>\n",
       "      <th>R_diagnostics_Versions_SimpleITK</th>\n",
       "      <th>R_diagnostics_Versions_PyWavelet</th>\n",
       "      <th>R_diagnostics_Versions_Python</th>\n",
       "      <th>R_diagnostics_Configuration_Settings</th>\n",
       "      <th>R_diagnostics_Configuration_EnabledImageTypes</th>\n",
       "      <th>...</th>\n",
       "      <th>sym3_B_wavelet-L_gldm_LargeDependenceLowGrayLevelEmphasis</th>\n",
       "      <th>sym3_B_wavelet-L_gldm_LowGrayLevelEmphasis</th>\n",
       "      <th>sym3_B_wavelet-L_gldm_SmallDependenceEmphasis</th>\n",
       "      <th>sym3_B_wavelet-L_gldm_SmallDependenceHighGrayLevelEmphasis</th>\n",
       "      <th>sym3_B_wavelet-L_gldm_SmallDependenceLowGrayLevelEmphasis</th>\n",
       "      <th>sym3_B_wavelet-L_ngtdm_Busyness</th>\n",
       "      <th>sym3_B_wavelet-L_ngtdm_Coarseness</th>\n",
       "      <th>sym3_B_wavelet-L_ngtdm_Complexity</th>\n",
       "      <th>sym3_B_wavelet-L_ngtdm_Contrast</th>\n",
       "      <th>sym3_B_wavelet-L_ngtdm_Strength</th>\n",
       "    </tr>\n",
       "  </thead>\n",
       "  <tbody>\n",
       "    <tr>\n",
       "      <th>0</th>\n",
       "      <td>D:\\studia_zadania\\Others\\AIImageDetection\\data...</td>\n",
       "      <td>D:\\studia_zadania\\Others\\AIImageDetection\\data...</td>\n",
       "      <td>0</td>\n",
       "      <td>v3.0.1</td>\n",
       "      <td>1.25.2</td>\n",
       "      <td>2.3.1</td>\n",
       "      <td>1.5.0</td>\n",
       "      <td>3.10.11</td>\n",
       "      <td>{'minimumROIDimensions': 2, 'minimumROISize': ...</td>\n",
       "      <td>{'Original': {}, 'Wavelet': {}, 'Square': {}, ...</td>\n",
       "      <td>...</td>\n",
       "      <td>0.121249</td>\n",
       "      <td>0.038958</td>\n",
       "      <td>0.627387</td>\n",
       "      <td>88.291938</td>\n",
       "      <td>0.024955</td>\n",
       "      <td>0.244221</td>\n",
       "      <td>0.020355</td>\n",
       "      <td>143.809539</td>\n",
       "      <td>0.135964</td>\n",
       "      <td>2.892842</td>\n",
       "    </tr>\n",
       "    <tr>\n",
       "      <th>1</th>\n",
       "      <td>D:\\studia_zadania\\Others\\AIImageDetection\\data...</td>\n",
       "      <td>D:\\studia_zadania\\Others\\AIImageDetection\\data...</td>\n",
       "      <td>0</td>\n",
       "      <td>v3.0.1</td>\n",
       "      <td>1.25.2</td>\n",
       "      <td>2.3.1</td>\n",
       "      <td>1.5.0</td>\n",
       "      <td>3.10.11</td>\n",
       "      <td>{'minimumROIDimensions': 2, 'minimumROISize': ...</td>\n",
       "      <td>{'Original': {}, 'Wavelet': {}, 'Square': {}, ...</td>\n",
       "      <td>...</td>\n",
       "      <td>0.036432</td>\n",
       "      <td>0.015490</td>\n",
       "      <td>0.690321</td>\n",
       "      <td>146.112196</td>\n",
       "      <td>0.011059</td>\n",
       "      <td>0.117546</td>\n",
       "      <td>0.019500</td>\n",
       "      <td>404.573111</td>\n",
       "      <td>0.066753</td>\n",
       "      <td>6.742380</td>\n",
       "    </tr>\n",
       "    <tr>\n",
       "      <th>2</th>\n",
       "      <td>D:\\studia_zadania\\Others\\AIImageDetection\\data...</td>\n",
       "      <td>D:\\studia_zadania\\Others\\AIImageDetection\\data...</td>\n",
       "      <td>0</td>\n",
       "      <td>v3.0.1</td>\n",
       "      <td>1.25.2</td>\n",
       "      <td>2.3.1</td>\n",
       "      <td>1.5.0</td>\n",
       "      <td>3.10.11</td>\n",
       "      <td>{'minimumROIDimensions': 2, 'minimumROISize': ...</td>\n",
       "      <td>{'Original': {}, 'Wavelet': {}, 'Square': {}, ...</td>\n",
       "      <td>...</td>\n",
       "      <td>0.116522</td>\n",
       "      <td>0.039532</td>\n",
       "      <td>0.740831</td>\n",
       "      <td>93.557671</td>\n",
       "      <td>0.024763</td>\n",
       "      <td>0.339781</td>\n",
       "      <td>0.020632</td>\n",
       "      <td>242.850164</td>\n",
       "      <td>0.080504</td>\n",
       "      <td>6.273661</td>\n",
       "    </tr>\n",
       "    <tr>\n",
       "      <th>3</th>\n",
       "      <td>D:\\studia_zadania\\Others\\AIImageDetection\\data...</td>\n",
       "      <td>D:\\studia_zadania\\Others\\AIImageDetection\\data...</td>\n",
       "      <td>0</td>\n",
       "      <td>v3.0.1</td>\n",
       "      <td>1.25.2</td>\n",
       "      <td>2.3.1</td>\n",
       "      <td>1.5.0</td>\n",
       "      <td>3.10.11</td>\n",
       "      <td>{'minimumROIDimensions': 2, 'minimumROISize': ...</td>\n",
       "      <td>{'Original': {}, 'Wavelet': {}, 'Square': {}, ...</td>\n",
       "      <td>...</td>\n",
       "      <td>0.060377</td>\n",
       "      <td>0.022634</td>\n",
       "      <td>0.691569</td>\n",
       "      <td>115.006402</td>\n",
       "      <td>0.015114</td>\n",
       "      <td>0.155328</td>\n",
       "      <td>0.034512</td>\n",
       "      <td>140.792999</td>\n",
       "      <td>0.054886</td>\n",
       "      <td>8.338564</td>\n",
       "    </tr>\n",
       "    <tr>\n",
       "      <th>4</th>\n",
       "      <td>D:\\studia_zadania\\Others\\AIImageDetection\\data...</td>\n",
       "      <td>D:\\studia_zadania\\Others\\AIImageDetection\\data...</td>\n",
       "      <td>0</td>\n",
       "      <td>v3.0.1</td>\n",
       "      <td>1.25.2</td>\n",
       "      <td>2.3.1</td>\n",
       "      <td>1.5.0</td>\n",
       "      <td>3.10.11</td>\n",
       "      <td>{'minimumROIDimensions': 2, 'minimumROISize': ...</td>\n",
       "      <td>{'Original': {}, 'Wavelet': {}, 'Square': {}, ...</td>\n",
       "      <td>...</td>\n",
       "      <td>0.014221</td>\n",
       "      <td>0.007376</td>\n",
       "      <td>0.672309</td>\n",
       "      <td>199.806532</td>\n",
       "      <td>0.005969</td>\n",
       "      <td>0.092343</td>\n",
       "      <td>0.021758</td>\n",
       "      <td>210.355579</td>\n",
       "      <td>0.083002</td>\n",
       "      <td>6.233881</td>\n",
       "    </tr>\n",
       "  </tbody>\n",
       "</table>\n",
       "<p>5 rows × 9075 columns</p>\n",
       "</div>"
      ],
      "text/plain": [
       "                                               Image  \\\n",
       "0  D:\\studia_zadania\\Others\\AIImageDetection\\data...   \n",
       "1  D:\\studia_zadania\\Others\\AIImageDetection\\data...   \n",
       "2  D:\\studia_zadania\\Others\\AIImageDetection\\data...   \n",
       "3  D:\\studia_zadania\\Others\\AIImageDetection\\data...   \n",
       "4  D:\\studia_zadania\\Others\\AIImageDetection\\data...   \n",
       "\n",
       "                                                Mask  Category  \\\n",
       "0  D:\\studia_zadania\\Others\\AIImageDetection\\data...         0   \n",
       "1  D:\\studia_zadania\\Others\\AIImageDetection\\data...         0   \n",
       "2  D:\\studia_zadania\\Others\\AIImageDetection\\data...         0   \n",
       "3  D:\\studia_zadania\\Others\\AIImageDetection\\data...         0   \n",
       "4  D:\\studia_zadania\\Others\\AIImageDetection\\data...         0   \n",
       "\n",
       "  R_diagnostics_Versions_PyRadiomics R_diagnostics_Versions_Numpy  \\\n",
       "0                             v3.0.1                       1.25.2   \n",
       "1                             v3.0.1                       1.25.2   \n",
       "2                             v3.0.1                       1.25.2   \n",
       "3                             v3.0.1                       1.25.2   \n",
       "4                             v3.0.1                       1.25.2   \n",
       "\n",
       "  R_diagnostics_Versions_SimpleITK R_diagnostics_Versions_PyWavelet  \\\n",
       "0                            2.3.1                            1.5.0   \n",
       "1                            2.3.1                            1.5.0   \n",
       "2                            2.3.1                            1.5.0   \n",
       "3                            2.3.1                            1.5.0   \n",
       "4                            2.3.1                            1.5.0   \n",
       "\n",
       "  R_diagnostics_Versions_Python  \\\n",
       "0                       3.10.11   \n",
       "1                       3.10.11   \n",
       "2                       3.10.11   \n",
       "3                       3.10.11   \n",
       "4                       3.10.11   \n",
       "\n",
       "                R_diagnostics_Configuration_Settings  \\\n",
       "0  {'minimumROIDimensions': 2, 'minimumROISize': ...   \n",
       "1  {'minimumROIDimensions': 2, 'minimumROISize': ...   \n",
       "2  {'minimumROIDimensions': 2, 'minimumROISize': ...   \n",
       "3  {'minimumROIDimensions': 2, 'minimumROISize': ...   \n",
       "4  {'minimumROIDimensions': 2, 'minimumROISize': ...   \n",
       "\n",
       "       R_diagnostics_Configuration_EnabledImageTypes  ...  \\\n",
       "0  {'Original': {}, 'Wavelet': {}, 'Square': {}, ...  ...   \n",
       "1  {'Original': {}, 'Wavelet': {}, 'Square': {}, ...  ...   \n",
       "2  {'Original': {}, 'Wavelet': {}, 'Square': {}, ...  ...   \n",
       "3  {'Original': {}, 'Wavelet': {}, 'Square': {}, ...  ...   \n",
       "4  {'Original': {}, 'Wavelet': {}, 'Square': {}, ...  ...   \n",
       "\n",
       "  sym3_B_wavelet-L_gldm_LargeDependenceLowGrayLevelEmphasis  \\\n",
       "0                                           0.121249          \n",
       "1                                           0.036432          \n",
       "2                                           0.116522          \n",
       "3                                           0.060377          \n",
       "4                                           0.014221          \n",
       "\n",
       "  sym3_B_wavelet-L_gldm_LowGrayLevelEmphasis  \\\n",
       "0                                   0.038958   \n",
       "1                                   0.015490   \n",
       "2                                   0.039532   \n",
       "3                                   0.022634   \n",
       "4                                   0.007376   \n",
       "\n",
       "  sym3_B_wavelet-L_gldm_SmallDependenceEmphasis  \\\n",
       "0                                      0.627387   \n",
       "1                                      0.690321   \n",
       "2                                      0.740831   \n",
       "3                                      0.691569   \n",
       "4                                      0.672309   \n",
       "\n",
       "  sym3_B_wavelet-L_gldm_SmallDependenceHighGrayLevelEmphasis  \\\n",
       "0                                          88.291938           \n",
       "1                                         146.112196           \n",
       "2                                          93.557671           \n",
       "3                                         115.006402           \n",
       "4                                         199.806532           \n",
       "\n",
       "   sym3_B_wavelet-L_gldm_SmallDependenceLowGrayLevelEmphasis  \\\n",
       "0                                           0.024955           \n",
       "1                                           0.011059           \n",
       "2                                           0.024763           \n",
       "3                                           0.015114           \n",
       "4                                           0.005969           \n",
       "\n",
       "   sym3_B_wavelet-L_ngtdm_Busyness  sym3_B_wavelet-L_ngtdm_Coarseness  \\\n",
       "0                         0.244221                           0.020355   \n",
       "1                         0.117546                           0.019500   \n",
       "2                         0.339781                           0.020632   \n",
       "3                         0.155328                           0.034512   \n",
       "4                         0.092343                           0.021758   \n",
       "\n",
       "  sym3_B_wavelet-L_ngtdm_Complexity sym3_B_wavelet-L_ngtdm_Contrast  \\\n",
       "0                        143.809539                        0.135964   \n",
       "1                        404.573111                        0.066753   \n",
       "2                        242.850164                        0.080504   \n",
       "3                        140.792999                        0.054886   \n",
       "4                        210.355579                        0.083002   \n",
       "\n",
       "  sym3_B_wavelet-L_ngtdm_Strength  \n",
       "0                        2.892842  \n",
       "1                        6.742380  \n",
       "2                        6.273661  \n",
       "3                        8.338564  \n",
       "4                        6.233881  \n",
       "\n",
       "[5 rows x 9075 columns]"
      ]
     },
     "execution_count": 5,
     "metadata": {},
     "output_type": "execute_result"
    }
   ],
   "source": [
    "df.reset_index(inplace=True, drop=True)\n",
    "df.head()"
   ]
  },
  {
   "cell_type": "markdown",
   "id": "73df7453",
   "metadata": {
    "papermill": {
     "duration": 0.007538,
     "end_time": "2024-06-30T19:47:14.671605",
     "exception": false,
     "start_time": "2024-06-30T19:47:14.664067",
     "status": "completed"
    },
    "tags": []
   },
   "source": [
    "## Data preparation"
   ]
  },
  {
   "cell_type": "markdown",
   "id": "d6e1c99e",
   "metadata": {
    "papermill": {
     "duration": 0.007296,
     "end_time": "2024-06-30T19:47:14.686467",
     "exception": false,
     "start_time": "2024-06-30T19:47:14.679171",
     "status": "completed"
    },
    "tags": []
   },
   "source": [
    "### Drop unimportant columns"
   ]
  },
  {
   "cell_type": "code",
   "execution_count": 6,
   "id": "b5ae34f7",
   "metadata": {
    "execution": {
     "iopub.execute_input": "2024-06-30T19:47:14.703663Z",
     "iopub.status.busy": "2024-06-30T19:47:14.702710Z",
     "iopub.status.idle": "2024-06-30T19:47:18.573105Z",
     "shell.execute_reply": "2024-06-30T19:47:18.572058Z"
    },
    "papermill": {
     "duration": 3.881476,
     "end_time": "2024-06-30T19:47:18.575546",
     "exception": false,
     "start_time": "2024-06-30T19:47:14.694070",
     "status": "completed"
    },
    "tags": []
   },
   "outputs": [],
   "source": [
    "def drop_columns(df):\n",
    "    to_drop = list()\n",
    "    for column in df.columns:\n",
    "        if df[column].min() == df[column].max():\n",
    "            to_drop.append(column)\n",
    "        elif 'diagnostics' in column:\n",
    "            to_drop.append(column)\n",
    "        elif column == \"Mask\":\n",
    "            to_drop.append(column)\n",
    "    df.drop(to_drop, axis=1, inplace=True)\n",
    "    \n",
    "    # We keep Image column for now to allow for image retrieval and visualization\n",
    "    # # drop Image column\n",
    "    # df.drop('Image', axis=1, inplace=True)        \n",
    "    \n",
    "           \n",
    "drop_columns(df)"
   ]
  },
  {
   "cell_type": "code",
   "execution_count": 7,
   "id": "ee3f764d",
   "metadata": {
    "execution": {
     "iopub.execute_input": "2024-06-30T19:47:18.593109Z",
     "iopub.status.busy": "2024-06-30T19:47:18.592745Z",
     "iopub.status.idle": "2024-06-30T19:47:18.618906Z",
     "shell.execute_reply": "2024-06-30T19:47:18.617990Z"
    },
    "papermill": {
     "duration": 0.037696,
     "end_time": "2024-06-30T19:47:18.621171",
     "exception": false,
     "start_time": "2024-06-30T19:47:18.583475",
     "status": "completed"
    },
    "tags": []
   },
   "outputs": [
    {
     "data": {
      "text/html": [
       "<div>\n",
       "<style scoped>\n",
       "    .dataframe tbody tr th:only-of-type {\n",
       "        vertical-align: middle;\n",
       "    }\n",
       "\n",
       "    .dataframe tbody tr th {\n",
       "        vertical-align: top;\n",
       "    }\n",
       "\n",
       "    .dataframe thead th {\n",
       "        text-align: right;\n",
       "    }\n",
       "</style>\n",
       "<table border=\"1\" class=\"dataframe\">\n",
       "  <thead>\n",
       "    <tr style=\"text-align: right;\">\n",
       "      <th></th>\n",
       "      <th>Image</th>\n",
       "      <th>Category</th>\n",
       "      <th>R_original_firstorder_10Percentile</th>\n",
       "      <th>R_original_firstorder_90Percentile</th>\n",
       "      <th>R_original_firstorder_Energy</th>\n",
       "      <th>R_original_firstorder_Entropy</th>\n",
       "      <th>R_original_firstorder_InterquartileRange</th>\n",
       "      <th>R_original_firstorder_Kurtosis</th>\n",
       "      <th>R_original_firstorder_Maximum</th>\n",
       "      <th>R_original_firstorder_MeanAbsoluteDeviation</th>\n",
       "      <th>...</th>\n",
       "      <th>sym3_B_wavelet-L_gldm_LargeDependenceLowGrayLevelEmphasis</th>\n",
       "      <th>sym3_B_wavelet-L_gldm_LowGrayLevelEmphasis</th>\n",
       "      <th>sym3_B_wavelet-L_gldm_SmallDependenceEmphasis</th>\n",
       "      <th>sym3_B_wavelet-L_gldm_SmallDependenceHighGrayLevelEmphasis</th>\n",
       "      <th>sym3_B_wavelet-L_gldm_SmallDependenceLowGrayLevelEmphasis</th>\n",
       "      <th>sym3_B_wavelet-L_ngtdm_Busyness</th>\n",
       "      <th>sym3_B_wavelet-L_ngtdm_Coarseness</th>\n",
       "      <th>sym3_B_wavelet-L_ngtdm_Complexity</th>\n",
       "      <th>sym3_B_wavelet-L_ngtdm_Contrast</th>\n",
       "      <th>sym3_B_wavelet-L_ngtdm_Strength</th>\n",
       "    </tr>\n",
       "  </thead>\n",
       "  <tbody>\n",
       "    <tr>\n",
       "      <th>0</th>\n",
       "      <td>D:\\studia_zadania\\Others\\AIImageDetection\\data...</td>\n",
       "      <td>0</td>\n",
       "      <td>-153.391086</td>\n",
       "      <td>120.029612</td>\n",
       "      <td>10230000.0</td>\n",
       "      <td>3.670559</td>\n",
       "      <td>141.084394</td>\n",
       "      <td>2.319431</td>\n",
       "      <td>238.900718</td>\n",
       "      <td>84.271202</td>\n",
       "      <td>...</td>\n",
       "      <td>0.121249</td>\n",
       "      <td>0.038958</td>\n",
       "      <td>0.627387</td>\n",
       "      <td>88.291938</td>\n",
       "      <td>0.024955</td>\n",
       "      <td>0.244221</td>\n",
       "      <td>0.020355</td>\n",
       "      <td>143.809539</td>\n",
       "      <td>0.135964</td>\n",
       "      <td>2.892842</td>\n",
       "    </tr>\n",
       "    <tr>\n",
       "      <th>1</th>\n",
       "      <td>D:\\studia_zadania\\Others\\AIImageDetection\\data...</td>\n",
       "      <td>0</td>\n",
       "      <td>-132.478270</td>\n",
       "      <td>128.498206</td>\n",
       "      <td>10230000.0</td>\n",
       "      <td>3.914165</td>\n",
       "      <td>116.933498</td>\n",
       "      <td>3.205715</td>\n",
       "      <td>227.772360</td>\n",
       "      <td>76.847020</td>\n",
       "      <td>...</td>\n",
       "      <td>0.036432</td>\n",
       "      <td>0.015490</td>\n",
       "      <td>0.690321</td>\n",
       "      <td>146.112196</td>\n",
       "      <td>0.011059</td>\n",
       "      <td>0.117546</td>\n",
       "      <td>0.019500</td>\n",
       "      <td>404.573111</td>\n",
       "      <td>0.066753</td>\n",
       "      <td>6.742380</td>\n",
       "    </tr>\n",
       "    <tr>\n",
       "      <th>2</th>\n",
       "      <td>D:\\studia_zadania\\Others\\AIImageDetection\\data...</td>\n",
       "      <td>0</td>\n",
       "      <td>-150.173419</td>\n",
       "      <td>130.905985</td>\n",
       "      <td>10230000.0</td>\n",
       "      <td>3.962498</td>\n",
       "      <td>125.195835</td>\n",
       "      <td>2.591196</td>\n",
       "      <td>200.543534</td>\n",
       "      <td>78.448574</td>\n",
       "      <td>...</td>\n",
       "      <td>0.116522</td>\n",
       "      <td>0.039532</td>\n",
       "      <td>0.740831</td>\n",
       "      <td>93.557671</td>\n",
       "      <td>0.024763</td>\n",
       "      <td>0.339781</td>\n",
       "      <td>0.020632</td>\n",
       "      <td>242.850164</td>\n",
       "      <td>0.080504</td>\n",
       "      <td>6.273661</td>\n",
       "    </tr>\n",
       "    <tr>\n",
       "      <th>3</th>\n",
       "      <td>D:\\studia_zadania\\Others\\AIImageDetection\\data...</td>\n",
       "      <td>0</td>\n",
       "      <td>-172.611062</td>\n",
       "      <td>76.488385</td>\n",
       "      <td>10230000.0</td>\n",
       "      <td>3.347248</td>\n",
       "      <td>63.926906</td>\n",
       "      <td>5.074533</td>\n",
       "      <td>154.062608</td>\n",
       "      <td>71.985338</td>\n",
       "      <td>...</td>\n",
       "      <td>0.060377</td>\n",
       "      <td>0.022634</td>\n",
       "      <td>0.691569</td>\n",
       "      <td>115.006402</td>\n",
       "      <td>0.015114</td>\n",
       "      <td>0.155328</td>\n",
       "      <td>0.034512</td>\n",
       "      <td>140.792999</td>\n",
       "      <td>0.054886</td>\n",
       "      <td>8.338564</td>\n",
       "    </tr>\n",
       "    <tr>\n",
       "      <th>4</th>\n",
       "      <td>D:\\studia_zadania\\Others\\AIImageDetection\\data...</td>\n",
       "      <td>0</td>\n",
       "      <td>-109.267619</td>\n",
       "      <td>70.436673</td>\n",
       "      <td>10230000.0</td>\n",
       "      <td>3.292349</td>\n",
       "      <td>73.348691</td>\n",
       "      <td>5.866269</td>\n",
       "      <td>259.450606</td>\n",
       "      <td>62.626213</td>\n",
       "      <td>...</td>\n",
       "      <td>0.014221</td>\n",
       "      <td>0.007376</td>\n",
       "      <td>0.672309</td>\n",
       "      <td>199.806532</td>\n",
       "      <td>0.005969</td>\n",
       "      <td>0.092343</td>\n",
       "      <td>0.021758</td>\n",
       "      <td>210.355579</td>\n",
       "      <td>0.083002</td>\n",
       "      <td>6.233881</td>\n",
       "    </tr>\n",
       "  </tbody>\n",
       "</table>\n",
       "<p>5 rows × 8504 columns</p>\n",
       "</div>"
      ],
      "text/plain": [
       "                                               Image  Category  \\\n",
       "0  D:\\studia_zadania\\Others\\AIImageDetection\\data...         0   \n",
       "1  D:\\studia_zadania\\Others\\AIImageDetection\\data...         0   \n",
       "2  D:\\studia_zadania\\Others\\AIImageDetection\\data...         0   \n",
       "3  D:\\studia_zadania\\Others\\AIImageDetection\\data...         0   \n",
       "4  D:\\studia_zadania\\Others\\AIImageDetection\\data...         0   \n",
       "\n",
       "   R_original_firstorder_10Percentile  R_original_firstorder_90Percentile  \\\n",
       "0                         -153.391086                          120.029612   \n",
       "1                         -132.478270                          128.498206   \n",
       "2                         -150.173419                          130.905985   \n",
       "3                         -172.611062                           76.488385   \n",
       "4                         -109.267619                           70.436673   \n",
       "\n",
       "   R_original_firstorder_Energy  R_original_firstorder_Entropy  \\\n",
       "0                    10230000.0                       3.670559   \n",
       "1                    10230000.0                       3.914165   \n",
       "2                    10230000.0                       3.962498   \n",
       "3                    10230000.0                       3.347248   \n",
       "4                    10230000.0                       3.292349   \n",
       "\n",
       "   R_original_firstorder_InterquartileRange  R_original_firstorder_Kurtosis  \\\n",
       "0                                141.084394                        2.319431   \n",
       "1                                116.933498                        3.205715   \n",
       "2                                125.195835                        2.591196   \n",
       "3                                 63.926906                        5.074533   \n",
       "4                                 73.348691                        5.866269   \n",
       "\n",
       "   R_original_firstorder_Maximum  R_original_firstorder_MeanAbsoluteDeviation  \\\n",
       "0                     238.900718                                    84.271202   \n",
       "1                     227.772360                                    76.847020   \n",
       "2                     200.543534                                    78.448574   \n",
       "3                     154.062608                                    71.985338   \n",
       "4                     259.450606                                    62.626213   \n",
       "\n",
       "   ...  sym3_B_wavelet-L_gldm_LargeDependenceLowGrayLevelEmphasis  \\\n",
       "0  ...                                           0.121249           \n",
       "1  ...                                           0.036432           \n",
       "2  ...                                           0.116522           \n",
       "3  ...                                           0.060377           \n",
       "4  ...                                           0.014221           \n",
       "\n",
       "   sym3_B_wavelet-L_gldm_LowGrayLevelEmphasis  \\\n",
       "0                                    0.038958   \n",
       "1                                    0.015490   \n",
       "2                                    0.039532   \n",
       "3                                    0.022634   \n",
       "4                                    0.007376   \n",
       "\n",
       "   sym3_B_wavelet-L_gldm_SmallDependenceEmphasis  \\\n",
       "0                                       0.627387   \n",
       "1                                       0.690321   \n",
       "2                                       0.740831   \n",
       "3                                       0.691569   \n",
       "4                                       0.672309   \n",
       "\n",
       "   sym3_B_wavelet-L_gldm_SmallDependenceHighGrayLevelEmphasis  \\\n",
       "0                                          88.291938            \n",
       "1                                         146.112196            \n",
       "2                                          93.557671            \n",
       "3                                         115.006402            \n",
       "4                                         199.806532            \n",
       "\n",
       "   sym3_B_wavelet-L_gldm_SmallDependenceLowGrayLevelEmphasis  \\\n",
       "0                                           0.024955           \n",
       "1                                           0.011059           \n",
       "2                                           0.024763           \n",
       "3                                           0.015114           \n",
       "4                                           0.005969           \n",
       "\n",
       "   sym3_B_wavelet-L_ngtdm_Busyness  sym3_B_wavelet-L_ngtdm_Coarseness  \\\n",
       "0                         0.244221                           0.020355   \n",
       "1                         0.117546                           0.019500   \n",
       "2                         0.339781                           0.020632   \n",
       "3                         0.155328                           0.034512   \n",
       "4                         0.092343                           0.021758   \n",
       "\n",
       "   sym3_B_wavelet-L_ngtdm_Complexity  sym3_B_wavelet-L_ngtdm_Contrast  \\\n",
       "0                         143.809539                         0.135964   \n",
       "1                         404.573111                         0.066753   \n",
       "2                         242.850164                         0.080504   \n",
       "3                         140.792999                         0.054886   \n",
       "4                         210.355579                         0.083002   \n",
       "\n",
       "   sym3_B_wavelet-L_ngtdm_Strength  \n",
       "0                         2.892842  \n",
       "1                         6.742380  \n",
       "2                         6.273661  \n",
       "3                         8.338564  \n",
       "4                         6.233881  \n",
       "\n",
       "[5 rows x 8504 columns]"
      ]
     },
     "execution_count": 7,
     "metadata": {},
     "output_type": "execute_result"
    }
   ],
   "source": [
    "df.head()"
   ]
  },
  {
   "cell_type": "markdown",
   "id": "33766d9a",
   "metadata": {
    "papermill": {
     "duration": 0.008047,
     "end_time": "2024-06-30T19:47:18.637854",
     "exception": false,
     "start_time": "2024-06-30T19:47:18.629807",
     "status": "completed"
    },
    "tags": []
   },
   "source": [
    "### Split into train and test set"
   ]
  },
  {
   "cell_type": "code",
   "execution_count": 8,
   "id": "d58fd6e8",
   "metadata": {
    "execution": {
     "iopub.execute_input": "2024-06-30T19:47:18.656533Z",
     "iopub.status.busy": "2024-06-30T19:47:18.655890Z",
     "iopub.status.idle": "2024-06-30T19:47:28.808486Z",
     "shell.execute_reply": "2024-06-30T19:47:28.807623Z"
    },
    "papermill": {
     "duration": 10.164417,
     "end_time": "2024-06-30T19:47:28.810922",
     "exception": false,
     "start_time": "2024-06-30T19:47:18.646505",
     "status": "completed"
    },
    "tags": []
   },
   "outputs": [],
   "source": [
    "from sklearn.model_selection import train_test_split\n",
    "\n",
    "X = df.drop(columns=['Category'])\n",
    "y = df[['Category']]\n",
    "\n",
    "X_train, X_val, y_train, y_val = train_test_split(X, y, test_size=0.1)\n",
    "\n",
    "# save image paths\n",
    "Images_train = X_train['Image']\n",
    "Images_test = X_val['Image']\n",
    "\n",
    "# drop Image column\n",
    "X_train.drop('Image', axis=1, inplace=True)\n",
    "X_val.drop('Image', axis=1, inplace=True)"
   ]
  },
  {
   "cell_type": "code",
   "execution_count": 9,
   "id": "2ca065a7",
   "metadata": {
    "execution": {
     "iopub.execute_input": "2024-06-30T19:47:28.828812Z",
     "iopub.status.busy": "2024-06-30T19:47:28.828232Z",
     "iopub.status.idle": "2024-06-30T19:47:28.840082Z",
     "shell.execute_reply": "2024-06-30T19:47:28.839176Z"
    },
    "papermill": {
     "duration": 0.022893,
     "end_time": "2024-06-30T19:47:28.842128",
     "exception": false,
     "start_time": "2024-06-30T19:47:28.819235",
     "status": "completed"
    },
    "tags": []
   },
   "outputs": [],
   "source": [
    "# delete original df and not splitted data to conserve memory\n",
    "del df\n",
    "del X\n",
    "del y"
   ]
  },
  {
   "cell_type": "code",
   "execution_count": 10,
   "id": "496a9c4e",
   "metadata": {
    "execution": {
     "iopub.execute_input": "2024-06-30T19:47:28.859476Z",
     "iopub.status.busy": "2024-06-30T19:47:28.858959Z",
     "iopub.status.idle": "2024-06-30T19:47:28.931921Z",
     "shell.execute_reply": "2024-06-30T19:47:28.931008Z"
    },
    "papermill": {
     "duration": 0.084044,
     "end_time": "2024-06-30T19:47:28.934186",
     "exception": false,
     "start_time": "2024-06-30T19:47:28.850142",
     "status": "completed"
    },
    "tags": []
   },
   "outputs": [
    {
     "data": {
      "text/plain": [
       "0"
      ]
     },
     "execution_count": 10,
     "metadata": {},
     "output_type": "execute_result"
    }
   ],
   "source": [
    "import gc\n",
    "gc.collect()"
   ]
  },
  {
   "cell_type": "code",
   "execution_count": 11,
   "id": "a3c2d1b7",
   "metadata": {
    "execution": {
     "iopub.execute_input": "2024-06-30T19:47:28.952004Z",
     "iopub.status.busy": "2024-06-30T19:47:28.951387Z",
     "iopub.status.idle": "2024-06-30T19:47:29.872736Z",
     "shell.execute_reply": "2024-06-30T19:47:29.871589Z"
    },
    "papermill": {
     "duration": 0.932811,
     "end_time": "2024-06-30T19:47:29.875192",
     "exception": false,
     "start_time": "2024-06-30T19:47:28.942381",
     "status": "completed"
    },
    "tags": []
   },
   "outputs": [
    {
     "name": "stdout",
     "output_type": "stream",
     "text": [
      "|            Variable Name|    Memory|\n",
      " ------------------------------------ \n",
      "|              Images_test|    721088|\n",
      "|             Images_train|   6488944|\n",
      "|                       In|       184|\n",
      "|                      Out|       232|\n",
      "|                     SEED|        28|\n",
      "|                  X_train|3061080016|\n",
      "|                    X_val| 340120016|\n",
      "|                data_path|       109|\n",
      "|             drop_columns|       144|\n",
      "|                     exit|        48|\n",
      "|                       gc|        72|\n",
      "|              get_ipython|        64|\n",
      "|                       np|        72|\n",
      "|                     open|       144|\n",
      "|                       pd|        72|\n",
      "|                      plt|        72|\n",
      "|                     quit|        48|\n",
      "|                   random|        72|\n",
      "|           skip_half_rows|       144|\n",
      "|                      sys|        72|\n",
      "|         train_test_split|       144|\n",
      "|                  y_train|    720016|\n",
      "|                    y_val|     80016|\n"
     ]
    }
   ],
   "source": [
    "import sys\n",
    "\n",
    "print(\"{}{: >25}{}{: >10}{}\".format('|','Variable Name','|','Memory','|'))\n",
    "print(\" ------------------------------------ \")\n",
    "for var_name in dir():\n",
    "    if not var_name.startswith(\"_\"):\n",
    "        print(\"{}{: >25}{}{: >10}{}\".format('|',var_name,'|',sys.getsizeof(eval(var_name)),'|'))"
   ]
  },
  {
   "cell_type": "markdown",
   "id": "60b00171",
   "metadata": {
    "papermill": {
     "duration": 0.008093,
     "end_time": "2024-06-30T19:47:29.891911",
     "exception": false,
     "start_time": "2024-06-30T19:47:29.883818",
     "status": "completed"
    },
    "tags": []
   },
   "source": [
    "### Scale the data"
   ]
  },
  {
   "cell_type": "code",
   "execution_count": 12,
   "id": "e9506882",
   "metadata": {
    "execution": {
     "iopub.execute_input": "2024-06-30T19:47:29.911062Z",
     "iopub.status.busy": "2024-06-30T19:47:29.910202Z",
     "iopub.status.idle": "2024-06-30T19:47:29.929636Z",
     "shell.execute_reply": "2024-06-30T19:47:29.928598Z"
    },
    "papermill": {
     "duration": 0.031647,
     "end_time": "2024-06-30T19:47:29.931812",
     "exception": false,
     "start_time": "2024-06-30T19:47:29.900165",
     "status": "completed"
    },
    "tags": []
   },
   "outputs": [],
   "source": [
    "columns = X_train.columns\n",
    "\n",
    "X_train = X_train.values\n",
    "X_val = X_val.values"
   ]
  },
  {
   "cell_type": "code",
   "execution_count": 13,
   "id": "e507f782",
   "metadata": {
    "execution": {
     "iopub.execute_input": "2024-06-30T19:47:29.950387Z",
     "iopub.status.busy": "2024-06-30T19:47:29.949541Z",
     "iopub.status.idle": "2024-06-30T19:47:31.740794Z",
     "shell.execute_reply": "2024-06-30T19:47:31.739501Z"
    },
    "papermill": {
     "duration": 1.803071,
     "end_time": "2024-06-30T19:47:31.743301",
     "exception": false,
     "start_time": "2024-06-30T19:47:29.940230",
     "status": "completed"
    },
    "tags": []
   },
   "outputs": [],
   "source": [
    "from sklearn.preprocessing import MinMaxScaler\n",
    "\n",
    "scaler = MinMaxScaler(copy=False)\n",
    "X_train = scaler.fit_transform(X_train)\n",
    "X_val = scaler.transform(X_val)\n",
    "\n",
    "# create df from scaled data\n",
    "X_train = pd.DataFrame(X_train, columns=columns)\n",
    "X_val = pd.DataFrame(X_val, columns=columns)"
   ]
  },
  {
   "cell_type": "markdown",
   "id": "57e63908",
   "metadata": {
    "papermill": {
     "duration": 0.008252,
     "end_time": "2024-06-30T19:47:31.760312",
     "exception": false,
     "start_time": "2024-06-30T19:47:31.752060",
     "status": "completed"
    },
    "tags": []
   },
   "source": [
    "## Model training"
   ]
  },
  {
   "cell_type": "code",
   "execution_count": 14,
   "id": "bf0844ff",
   "metadata": {
    "execution": {
     "iopub.execute_input": "2024-06-30T19:47:31.779370Z",
     "iopub.status.busy": "2024-06-30T19:47:31.778481Z",
     "iopub.status.idle": "2024-06-30T20:19:07.295727Z",
     "shell.execute_reply": "2024-06-30T20:19:07.293081Z"
    },
    "papermill": {
     "duration": 1895.535223,
     "end_time": "2024-06-30T20:19:07.304025",
     "exception": false,
     "start_time": "2024-06-30T19:47:31.768802",
     "status": "completed"
    },
    "tags": []
   },
   "outputs": [
    {
     "name": "stdout",
     "output_type": "stream",
     "text": [
      "Finished training HistGradientBoostingClassifier.\n",
      "Finished training LinearDiscriminantAnalysis.\n",
      "Finished training RandomForestClassifier.\n"
     ]
    },
    {
     "name": "stderr",
     "output_type": "stream",
     "text": [
      "/opt/conda/lib/python3.10/site-packages/sklearn/svm/_base.py:1244: ConvergenceWarning: Liblinear failed to converge, increase the number of iterations.\n",
      "  warnings.warn(\n"
     ]
    },
    {
     "name": "stdout",
     "output_type": "stream",
     "text": [
      "Finished training LinearSVC.\n",
      "Finished training LogisticRegression.\n"
     ]
    },
    {
     "name": "stderr",
     "output_type": "stream",
     "text": [
      "/opt/conda/lib/python3.10/site-packages/sklearn/linear_model/_logistic.py:458: ConvergenceWarning: lbfgs failed to converge (status=1):\n",
      "STOP: TOTAL NO. of ITERATIONS REACHED LIMIT.\n",
      "\n",
      "Increase the number of iterations (max_iter) or scale the data as shown in:\n",
      "    https://scikit-learn.org/stable/modules/preprocessing.html\n",
      "Please also refer to the documentation for alternative solver options:\n",
      "    https://scikit-learn.org/stable/modules/linear_model.html#logistic-regression\n",
      "  n_iter_i = _check_optimize_result(\n"
     ]
    }
   ],
   "source": [
    "from sklearn.ensemble import HistGradientBoostingClassifier, RandomForestClassifier\n",
    "from sklearn.discriminant_analysis import LinearDiscriminantAnalysis\n",
    "from sklearn.svm import LinearSVC\n",
    "from sklearn.linear_model import LogisticRegression\n",
    "\n",
    "models = [\n",
    "    HistGradientBoostingClassifier(random_state=SEED),\n",
    "    LinearDiscriminantAnalysis(),\n",
    "    RandomForestClassifier(random_state=SEED),\n",
    "    LinearSVC(random_state=SEED),\n",
    "    LogisticRegression(random_state=SEED),\n",
    "]\n",
    "\n",
    "model_names = [model.__class__.__name__ for model in models]\n",
    "\n",
    "for model, name in zip(models, model_names):\n",
    "    model = model.fit(X_train, y_train.values.ravel())\n",
    "    print(f\"Finished training {name}.\")"
   ]
  },
  {
   "cell_type": "markdown",
   "id": "cf8082d7",
   "metadata": {
    "papermill": {
     "duration": 0.01579,
     "end_time": "2024-06-30T20:19:07.336146",
     "exception": false,
     "start_time": "2024-06-30T20:19:07.320356",
     "status": "completed"
    },
    "tags": []
   },
   "source": [
    "## Evaluation"
   ]
  },
  {
   "cell_type": "code",
   "execution_count": 15,
   "id": "ba64b498",
   "metadata": {
    "execution": {
     "iopub.execute_input": "2024-06-30T20:19:07.374463Z",
     "iopub.status.busy": "2024-06-30T20:19:07.372658Z",
     "iopub.status.idle": "2024-06-30T20:19:07.386702Z",
     "shell.execute_reply": "2024-06-30T20:19:07.385923Z"
    },
    "papermill": {
     "duration": 0.037112,
     "end_time": "2024-06-30T20:19:07.388777",
     "exception": false,
     "start_time": "2024-06-30T20:19:07.351665",
     "status": "completed"
    },
    "tags": []
   },
   "outputs": [],
   "source": [
    "from sklearn.metrics import accuracy_score, f1_score, precision_score, recall_score, \\\n",
    "    confusion_matrix, ConfusionMatrixDisplay\n",
    "\n",
    "def evaluate_model(model, X_val, y_val, print_results=True, name=None):\n",
    "    if name is not None:\n",
    "        name = model.__class__.__name__\n",
    "    \n",
    "    y_pred = model.predict(X_val)\n",
    "    accuracy = accuracy_score(y_val, y_pred)\n",
    "    f1 = f1_score(y_val, y_pred, average='weighted')\n",
    "    precision = precision_score(y_val, y_pred, average='weighted')\n",
    "    recall = recall_score(y_val, y_pred, average='weighted')\n",
    "    \n",
    "    if print_results:\n",
    "        print(f\"Model: {name}\")\n",
    "        print(f\"Accuracy: {accuracy:.4f}\")\n",
    "        print(f\"F1: {f1:.4f}\")\n",
    "        print(f\"Precision: {precision:.4f}\")\n",
    "        print(f\"Recall: {recall:.4f}\")\n",
    "    \n",
    "    return accuracy, f1, precision, recall\n",
    "\n",
    "def plot_confusion_matrix(model, X_val, y_val, name=None):\n",
    "    y_pred = model.predict(X_val)\n",
    "    cm = confusion_matrix(y_val, y_pred)\n",
    "    disp = ConfusionMatrixDisplay(confusion_matrix=cm, display_labels=model.classes_)\n",
    "    disp.plot()\n",
    "    plt.title(name)\n",
    "    plt.show()"
   ]
  },
  {
   "cell_type": "code",
   "execution_count": 16,
   "id": "a56a20cf",
   "metadata": {
    "execution": {
     "iopub.execute_input": "2024-06-30T20:19:07.409774Z",
     "iopub.status.busy": "2024-06-30T20:19:07.409359Z",
     "iopub.status.idle": "2024-06-30T20:19:09.093102Z",
     "shell.execute_reply": "2024-06-30T20:19:09.089420Z"
    },
    "papermill": {
     "duration": 1.69852,
     "end_time": "2024-06-30T20:19:09.096751",
     "exception": false,
     "start_time": "2024-06-30T20:19:07.398231",
     "status": "completed"
    },
    "tags": []
   },
   "outputs": [
    {
     "name": "stdout",
     "output_type": "stream",
     "text": [
      "\n",
      "Model: HistGradientBoostingClassifier\n",
      "Accuracy: 0.9918\n",
      "F1: 0.9918\n",
      "Precision: 0.9918\n",
      "Recall: 0.9918\n",
      "\n",
      "Model: LinearDiscriminantAnalysis\n",
      "Accuracy: 0.9986\n",
      "F1: 0.9986\n",
      "Precision: 0.9986\n",
      "Recall: 0.9986\n",
      "\n",
      "Model: RandomForestClassifier\n",
      "Accuracy: 0.9790\n",
      "F1: 0.9790\n",
      "Precision: 0.9790\n",
      "Recall: 0.9790\n",
      "\n",
      "Model: LinearSVC\n",
      "Accuracy: 0.9958\n",
      "F1: 0.9958\n",
      "Precision: 0.9958\n",
      "Recall: 0.9958\n",
      "\n",
      "Model: LogisticRegression\n",
      "Accuracy: 0.9934\n",
      "F1: 0.9934\n",
      "Precision: 0.9934\n",
      "Recall: 0.9934\n"
     ]
    }
   ],
   "source": [
    "for model, name in zip(models, model_names):\n",
    "    print()\n",
    "    evaluate_model(model, X_val, y_val, name=name)"
   ]
  },
  {
   "cell_type": "code",
   "execution_count": 17,
   "id": "588aca37",
   "metadata": {
    "execution": {
     "iopub.execute_input": "2024-06-30T20:19:09.275345Z",
     "iopub.status.busy": "2024-06-30T20:19:09.274963Z",
     "iopub.status.idle": "2024-06-30T20:19:11.727465Z",
     "shell.execute_reply": "2024-06-30T20:19:11.726395Z"
    },
    "papermill": {
     "duration": 2.466114,
     "end_time": "2024-06-30T20:19:11.729943",
     "exception": false,
     "start_time": "2024-06-30T20:19:09.263829",
     "status": "completed"
    },
    "tags": []
   },
   "outputs": [
    {
     "data": {
      "image/png": "[encoded data removed]",
      "text/plain": [
       "<Figure size 640x480 with 2 Axes>"
      ]
     },
     "metadata": {},
     "output_type": "display_data"
    },
    {
     "data": {
      "image/png": "[encoded data removed]",
      "text/plain": [
       "<Figure size 640x480 with 2 Axes>"
      ]
     },
     "metadata": {},
     "output_type": "display_data"
    },
    {
     "data": {
      "image/png": "[encoded data removed]",
      "text/plain": [
       "<Figure size 640x480 with 2 Axes>"
      ]
     },
     "metadata": {},
     "output_type": "display_data"
    },
    {
     "data": {
      "image/png": "[encoded data removed]",
      "text/plain": [
       "<Figure size 640x480 with 2 Axes>"
      ]
     },
     "metadata": {},
     "output_type": "display_data"
    },
    {
     "data": {
      "image/png": "[encoded data removed]",
      "text/plain": [
       "<Figure size 640x480 with 2 Axes>"
      ]
     },
     "metadata": {},
     "output_type": "display_data"
    }
   ],
   "source": [
    "for model, name in zip(models, model_names):\n",
    "    plot_confusion_matrix(model, X_val, y_val, name=name)"
   ]
  },
  {
   "cell_type": "code",
   "execution_count": 18,
   "id": "14574df4",
   "metadata": {
    "execution": {
     "iopub.execute_input": "2024-06-30T20:19:11.756374Z",
     "iopub.status.busy": "2024-06-30T20:19:11.755965Z",
     "iopub.status.idle": "2024-06-30T20:19:11.762945Z",
     "shell.execute_reply": "2024-06-30T20:19:11.761773Z"
    },
    "papermill": {
     "duration": 0.022582,
     "end_time": "2024-06-30T20:19:11.765144",
     "exception": false,
     "start_time": "2024-06-30T20:19:11.742562",
     "status": "completed"
    },
    "tags": []
   },
   "outputs": [],
   "source": [
    "# Plot images and predictions\n",
    "def plot_images(model, X_val, y_val, img_paths, n_images=5):\n",
    "    y_pred = model.predict(X_val)\n",
    "    for i in range(n_images):\n",
    "        idx = random.randint(0, len(X_val))\n",
    "        img_path = img_paths.iloc[idx]\n",
    "        img = plt.imread(img_path)\n",
    "        plt.imshow(img)\n",
    "        plt.title(f\"Prediction: {y_pred[idx]}\\nActual: {y_val.iloc[idx]}\")\n",
    "        plt.show()"
   ]
  },
  {
   "cell_type": "markdown",
   "id": "79aec278",
   "metadata": {
    "papermill": {
     "duration": 0.011484,
     "end_time": "2024-06-30T20:19:11.788518",
     "exception": false,
     "start_time": "2024-06-30T20:19:11.777034",
     "status": "completed"
    },
    "tags": []
   },
   "source": [
    "## Save models and scaler"
   ]
  },
  {
   "cell_type": "code",
   "execution_count": 19,
   "id": "5f80b067",
   "metadata": {
    "execution": {
     "iopub.execute_input": "2024-06-30T20:19:11.813912Z",
     "iopub.status.busy": "2024-06-30T20:19:11.813497Z",
     "iopub.status.idle": "2024-06-30T20:19:12.637127Z",
     "shell.execute_reply": "2024-06-30T20:19:12.635923Z"
    },
    "papermill": {
     "duration": 0.839315,
     "end_time": "2024-06-30T20:19:12.639765",
     "exception": false,
     "start_time": "2024-06-30T20:19:11.800450",
     "status": "completed"
    },
    "tags": []
   },
   "outputs": [
    {
     "data": {
      "text/plain": [
       "['scaler.pkl']"
      ]
     },
     "execution_count": 19,
     "metadata": {},
     "output_type": "execute_result"
    }
   ],
   "source": [
    "import joblib\n",
    "\n",
    "for model, name in zip(models, model_names):\n",
    "    joblib.dump(model, f\"{name}.pkl\")\n",
    "    \n",
    "joblib.dump(scaler, f\"scaler.pkl\")"
   ]
  },
  {
   "cell_type": "markdown",
   "id": "6fdc453c",
   "metadata": {
    "papermill": {
     "duration": 0.011427,
     "end_time": "2024-06-30T20:19:12.663989",
     "exception": false,
     "start_time": "2024-06-30T20:19:12.652562",
     "status": "completed"
    },
    "tags": []
   },
   "source": [
    "## Evaluate on test data"
   ]
  },
  {
   "cell_type": "code",
   "execution_count": 20,
   "id": "5f3e4b6b",
   "metadata": {
    "execution": {
     "iopub.execute_input": "2024-06-30T20:19:12.689511Z",
     "iopub.status.busy": "2024-06-30T20:19:12.689120Z",
     "iopub.status.idle": "2024-06-30T20:19:12.987290Z",
     "shell.execute_reply": "2024-06-30T20:19:12.986174Z"
    },
    "papermill": {
     "duration": 0.313555,
     "end_time": "2024-06-30T20:19:12.989559",
     "exception": false,
     "start_time": "2024-06-30T20:19:12.676004",
     "status": "completed"
    },
    "tags": []
   },
   "outputs": [
    {
     "data": {
      "text/plain": [
       "20023"
      ]
     },
     "execution_count": 20,
     "metadata": {},
     "output_type": "execute_result"
    }
   ],
   "source": [
    "del X_train\n",
    "del y_train\n",
    "\n",
    "gc.collect()"
   ]
  },
  {
   "cell_type": "code",
   "execution_count": 21,
   "id": "5d6ec64d",
   "metadata": {
    "execution": {
     "iopub.execute_input": "2024-06-30T20:19:13.015250Z",
     "iopub.status.busy": "2024-06-30T20:19:13.014806Z",
     "iopub.status.idle": "2024-06-30T20:20:44.796556Z",
     "shell.execute_reply": "2024-06-30T20:20:44.795320Z"
    },
    "papermill": {
     "duration": 91.798047,
     "end_time": "2024-06-30T20:20:44.799650",
     "exception": false,
     "start_time": "2024-06-30T20:19:13.001603",
     "status": "completed"
    },
    "tags": []
   },
   "outputs": [],
   "source": [
    "data_path = \"/kaggle/input/cifake-all-features/RGB_test_all_features.csv\"\n",
    "df = pd.read_csv(data_path, index_col=0)"
   ]
  },
  {
   "cell_type": "code",
   "execution_count": 22,
   "id": "3efb2fa2",
   "metadata": {
    "execution": {
     "iopub.execute_input": "2024-06-30T20:20:44.826472Z",
     "iopub.status.busy": "2024-06-30T20:20:44.826084Z",
     "iopub.status.idle": "2024-06-30T20:20:45.244503Z",
     "shell.execute_reply": "2024-06-30T20:20:45.243466Z"
    },
    "papermill": {
     "duration": 0.434585,
     "end_time": "2024-06-30T20:20:45.246979",
     "exception": false,
     "start_time": "2024-06-30T20:20:44.812394",
     "status": "completed"
    },
    "tags": []
   },
   "outputs": [],
   "source": [
    "X_test = df[models[0].feature_names_in_]\n",
    "y_test = df[\"Category\"]"
   ]
  },
  {
   "cell_type": "code",
   "execution_count": 23,
   "id": "9d524fc3",
   "metadata": {
    "execution": {
     "iopub.execute_input": "2024-06-30T20:20:45.273178Z",
     "iopub.status.busy": "2024-06-30T20:20:45.272790Z",
     "iopub.status.idle": "2024-06-30T20:20:45.768437Z",
     "shell.execute_reply": "2024-06-30T20:20:45.767252Z"
    },
    "papermill": {
     "duration": 0.512078,
     "end_time": "2024-06-30T20:20:45.771481",
     "exception": false,
     "start_time": "2024-06-30T20:20:45.259403",
     "status": "completed"
    },
    "tags": []
   },
   "outputs": [
    {
     "name": "stderr",
     "output_type": "stream",
     "text": [
      "/opt/conda/lib/python3.10/site-packages/sklearn/base.py:432: UserWarning: X has feature names, but MinMaxScaler was fitted without feature names\n",
      "  warnings.warn(\n"
     ]
    }
   ],
   "source": [
    "X_test = scaler.transform(X_test)\n",
    "X_test = pd.DataFrame(X_test, columns=models[0].feature_names_in_)"
   ]
  },
  {
   "cell_type": "code",
   "execution_count": 24,
   "id": "3755400f",
   "metadata": {
    "execution": {
     "iopub.execute_input": "2024-06-30T20:20:45.797392Z",
     "iopub.status.busy": "2024-06-30T20:20:45.797022Z",
     "iopub.status.idle": "2024-06-30T20:20:48.347743Z",
     "shell.execute_reply": "2024-06-30T20:20:48.344580Z"
    },
    "papermill": {
     "duration": 2.567643,
     "end_time": "2024-06-30T20:20:48.351270",
     "exception": false,
     "start_time": "2024-06-30T20:20:45.783627",
     "status": "completed"
    },
    "tags": []
   },
   "outputs": [
    {
     "name": "stdout",
     "output_type": "stream",
     "text": [
      "\n",
      "Model: HistGradientBoostingClassifier\n",
      "Accuracy: 0.9884\n",
      "F1: 0.9884\n",
      "Precision: 0.9884\n",
      "Recall: 0.9884\n",
      "\n",
      "Model: LinearDiscriminantAnalysis\n",
      "Accuracy: 0.9967\n",
      "F1: 0.9966\n",
      "Precision: 0.9967\n",
      "Recall: 0.9967\n",
      "\n",
      "Model: RandomForestClassifier\n",
      "Accuracy: 0.9775\n",
      "F1: 0.9775\n",
      "Precision: 0.9775\n",
      "Recall: 0.9775\n",
      "\n",
      "Model: LinearSVC\n",
      "Accuracy: 0.9937\n",
      "F1: 0.9937\n",
      "Precision: 0.9937\n",
      "Recall: 0.9937\n",
      "\n",
      "Model: LogisticRegression\n",
      "Accuracy: 0.9939\n",
      "F1: 0.9938\n",
      "Precision: 0.9939\n",
      "Recall: 0.9939\n"
     ]
    }
   ],
   "source": [
    "for model, name in zip(models, model_names):\n",
    "    print()\n",
    "    evaluate_model(model, X_test, y_test, name=name)"
   ]
  },
  {
   "cell_type": "code",
   "execution_count": 25,
   "id": "691befbe",
   "metadata": {
    "execution": {
     "iopub.execute_input": "2024-06-30T20:20:48.396637Z",
     "iopub.status.busy": "2024-06-30T20:20:48.396010Z",
     "iopub.status.idle": "2024-06-30T20:20:52.027337Z",
     "shell.execute_reply": "2024-06-30T20:20:52.026223Z"
    },
    "papermill": {
     "duration": 3.656267,
     "end_time": "2024-06-30T20:20:52.029572",
     "exception": false,
     "start_time": "2024-06-30T20:20:48.373305",
     "status": "completed"
    },
    "tags": []
   },
   "outputs": [
    {
     "data": {
      "image/png": "[encoded data removed]",
      "text/plain": [
       "<Figure size 640x480 with 2 Axes>"
      ]
     },
     "metadata": {},
     "output_type": "display_data"
    },
    {
     "data": {
      "image/png": "[encoded data removed]",
      "text/plain": [
       "<Figure size 640x480 with 2 Axes>"
      ]
     },
     "metadata": {},
     "output_type": "display_data"
    },
    {
     "data": {
      "image/png": "[encoded data removed]",
      "text/plain": [
       "<Figure size 640x480 with 2 Axes>"
      ]
     },
     "metadata": {},
     "output_type": "display_data"
    },
    {
     "data": {
      "image/png": "[encoded data removed]",
      "text/plain": [
       "<Figure size 640x480 with 2 Axes>"
      ]
     },
     "metadata": {},
     "output_type": "display_data"
    },
    {
     "data": {
      "image/png": "[encoded data removed]",
      "text/plain": [
       "<Figure size 640x480 with 2 Axes>"
      ]
     },
     "metadata": {},
     "output_type": "display_data"
    }
   ],
   "source": [
    "for model, name in zip(models, model_names):\n",
    "    plot_confusion_matrix(model, X_test, y_test, name=name)"
   ]
  }
 ],
 "metadata": {
  "kaggle": {
   "accelerator": "none",
   "dataSources": [
    {
     "datasetId": 4418181,
     "sourceId": 8404447,
     "sourceType": "datasetVersion"
    },
    {
     "datasetId": 5008687,
     "sourceId": 8414789,
     "sourceType": "datasetVersion"
    },
    {
     "datasetId": 5016777,
     "sourceId": 8425412,
     "sourceType": "datasetVersion"
    }
   ],
   "dockerImageVersionId": 30698,
   "isGpuEnabled": false,
   "isInternetEnabled": true,
   "language": "python",
   "sourceType": "notebook"
  },
  "kernelspec": {
   "display_name": "Python 3",
   "language": "python",
   "name": "python3"
  },
  "language_info": {
   "codemirror_mode": {
    "name": "ipython",
    "version": 3
   },
   "file_extension": ".py",
   "mimetype": "text/x-python",
   "name": "python",
   "nbconvert_exporter": "python",
   "pygments_lexer": "ipython3",
   "version": "3.10.13"
  },
  "papermill": {
   "default_parameters": {},
   "duration": 2337.62883,
   "end_time": "2024-06-30T20:20:53.373198",
   "environment_variables": {},
   "exception": null,
   "input_path": "__notebook__.ipynb",
   "output_path": "__notebook__.ipynb",
   "parameters": {},
   "start_time": "2024-06-30T19:41:55.744368",
   "version": "2.5.0"
  }
 },
 "nbformat": 4,
 "nbformat_minor": 5
}
